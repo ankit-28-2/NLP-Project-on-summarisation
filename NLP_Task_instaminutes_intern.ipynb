{
  "cells": [
    {
      "cell_type": "markdown",
      "metadata": {
        "id": "view-in-github",
        "colab_type": "text"
      },
      "source": [
        "<a href=\"https://colab.research.google.com/github/ankit-28-2/NLP-Project-on-summarisation/blob/main/NLP_Task_instaminutes_intern.ipynb\" target=\"_parent\"><img src=\"https://colab.research.google.com/assets/colab-badge.svg\" alt=\"Open In Colab\"/></a>"
      ]
    },
    {
      "cell_type": "markdown",
      "id": "724bd8fa",
      "metadata": {
        "id": "724bd8fa"
      },
      "source": [
        "# Installing docx library to read the input file as docx."
      ]
    },
    {
      "cell_type": "code",
      "execution_count": 2,
      "id": "83935293",
      "metadata": {
        "scrolled": true,
        "colab": {
          "base_uri": "https://localhost:8080/"
        },
        "id": "83935293",
        "outputId": "5f632728-8f4e-4998-9154-b53c2b4f8615"
      },
      "outputs": [
        {
          "output_type": "stream",
          "name": "stdout",
          "text": [
            "Collecting python-docx\n",
            "  Downloading python-docx-0.8.11.tar.gz (5.6 MB)\n",
            "\u001b[K     |████████████████████████████████| 5.6 MB 5.5 MB/s \n",
            "\u001b[?25hRequirement already satisfied: lxml>=2.3.2 in /usr/local/lib/python3.7/dist-packages (from python-docx) (4.2.6)\n",
            "Building wheels for collected packages: python-docx\n",
            "  Building wheel for python-docx (setup.py) ... \u001b[?25l\u001b[?25hdone\n",
            "  Created wheel for python-docx: filename=python_docx-0.8.11-py3-none-any.whl size=184507 sha256=2cabf9bbad3164c47c2b00977cd65fe9ce8bcbcc7f27aaa6e5d20af331338f0a\n",
            "  Stored in directory: /root/.cache/pip/wheels/f6/6f/b9/d798122a8b55b74ad30b5f52b01482169b445fbb84a11797a6\n",
            "Successfully built python-docx\n",
            "Installing collected packages: python-docx\n",
            "Successfully installed python-docx-0.8.11\n"
          ]
        }
      ],
      "source": [
        "!pip install python-docx "
      ]
    },
    {
      "cell_type": "code",
      "source": [
        "!pip install -U sentence-transformers"
      ],
      "metadata": {
        "colab": {
          "base_uri": "https://localhost:8080/"
        },
        "id": "5gptw32SVW2V",
        "outputId": "4d05f464-4f27-4290-8951-bf8bb3d9172c"
      },
      "id": "5gptw32SVW2V",
      "execution_count": 3,
      "outputs": [
        {
          "output_type": "stream",
          "name": "stdout",
          "text": [
            "Collecting sentence-transformers\n",
            "  Downloading sentence-transformers-2.2.0.tar.gz (79 kB)\n",
            "\u001b[K     |████████████████████████████████| 79 kB 3.6 MB/s \n",
            "\u001b[?25hCollecting transformers<5.0.0,>=4.6.0\n",
            "  Downloading transformers-4.18.0-py3-none-any.whl (4.0 MB)\n",
            "\u001b[K     |████████████████████████████████| 4.0 MB 34.3 MB/s \n",
            "\u001b[?25hRequirement already satisfied: tqdm in /usr/local/lib/python3.7/dist-packages (from sentence-transformers) (4.64.0)\n",
            "Requirement already satisfied: torch>=1.6.0 in /usr/local/lib/python3.7/dist-packages (from sentence-transformers) (1.10.0+cu111)\n",
            "Requirement already satisfied: torchvision in /usr/local/lib/python3.7/dist-packages (from sentence-transformers) (0.11.1+cu111)\n",
            "Requirement already satisfied: numpy in /usr/local/lib/python3.7/dist-packages (from sentence-transformers) (1.21.5)\n",
            "Requirement already satisfied: scikit-learn in /usr/local/lib/python3.7/dist-packages (from sentence-transformers) (1.0.2)\n",
            "Requirement already satisfied: scipy in /usr/local/lib/python3.7/dist-packages (from sentence-transformers) (1.4.1)\n",
            "Requirement already satisfied: nltk in /usr/local/lib/python3.7/dist-packages (from sentence-transformers) (3.2.5)\n",
            "Collecting sentencepiece\n",
            "  Downloading sentencepiece-0.1.96-cp37-cp37m-manylinux_2_17_x86_64.manylinux2014_x86_64.whl (1.2 MB)\n",
            "\u001b[K     |████████████████████████████████| 1.2 MB 51.0 MB/s \n",
            "\u001b[?25hCollecting huggingface-hub\n",
            "  Downloading huggingface_hub-0.5.1-py3-none-any.whl (77 kB)\n",
            "\u001b[K     |████████████████████████████████| 77 kB 4.8 MB/s \n",
            "\u001b[?25hRequirement already satisfied: typing-extensions in /usr/local/lib/python3.7/dist-packages (from torch>=1.6.0->sentence-transformers) (4.1.1)\n",
            "Requirement already satisfied: packaging>=20.0 in /usr/local/lib/python3.7/dist-packages (from transformers<5.0.0,>=4.6.0->sentence-transformers) (21.3)\n",
            "Requirement already satisfied: filelock in /usr/local/lib/python3.7/dist-packages (from transformers<5.0.0,>=4.6.0->sentence-transformers) (3.6.0)\n",
            "Collecting tokenizers!=0.11.3,<0.13,>=0.11.1\n",
            "  Downloading tokenizers-0.12.1-cp37-cp37m-manylinux_2_12_x86_64.manylinux2010_x86_64.whl (6.6 MB)\n",
            "\u001b[K     |████████████████████████████████| 6.6 MB 35.5 MB/s \n",
            "\u001b[?25hRequirement already satisfied: importlib-metadata in /usr/local/lib/python3.7/dist-packages (from transformers<5.0.0,>=4.6.0->sentence-transformers) (4.11.3)\n",
            "Requirement already satisfied: requests in /usr/local/lib/python3.7/dist-packages (from transformers<5.0.0,>=4.6.0->sentence-transformers) (2.23.0)\n",
            "Collecting sacremoses\n",
            "  Downloading sacremoses-0.0.49-py3-none-any.whl (895 kB)\n",
            "\u001b[K     |████████████████████████████████| 895 kB 55.9 MB/s \n",
            "\u001b[?25hRequirement already satisfied: regex!=2019.12.17 in /usr/local/lib/python3.7/dist-packages (from transformers<5.0.0,>=4.6.0->sentence-transformers) (2019.12.20)\n",
            "Collecting pyyaml>=5.1\n",
            "  Downloading PyYAML-6.0-cp37-cp37m-manylinux_2_5_x86_64.manylinux1_x86_64.manylinux_2_12_x86_64.manylinux2010_x86_64.whl (596 kB)\n",
            "\u001b[K     |████████████████████████████████| 596 kB 47.6 MB/s \n",
            "\u001b[?25hRequirement already satisfied: pyparsing!=3.0.5,>=2.0.2 in /usr/local/lib/python3.7/dist-packages (from packaging>=20.0->transformers<5.0.0,>=4.6.0->sentence-transformers) (3.0.8)\n",
            "Requirement already satisfied: zipp>=0.5 in /usr/local/lib/python3.7/dist-packages (from importlib-metadata->transformers<5.0.0,>=4.6.0->sentence-transformers) (3.8.0)\n",
            "Requirement already satisfied: six in /usr/local/lib/python3.7/dist-packages (from nltk->sentence-transformers) (1.15.0)\n",
            "Requirement already satisfied: idna<3,>=2.5 in /usr/local/lib/python3.7/dist-packages (from requests->transformers<5.0.0,>=4.6.0->sentence-transformers) (2.10)\n",
            "Requirement already satisfied: urllib3!=1.25.0,!=1.25.1,<1.26,>=1.21.1 in /usr/local/lib/python3.7/dist-packages (from requests->transformers<5.0.0,>=4.6.0->sentence-transformers) (1.24.3)\n",
            "Requirement already satisfied: certifi>=2017.4.17 in /usr/local/lib/python3.7/dist-packages (from requests->transformers<5.0.0,>=4.6.0->sentence-transformers) (2021.10.8)\n",
            "Requirement already satisfied: chardet<4,>=3.0.2 in /usr/local/lib/python3.7/dist-packages (from requests->transformers<5.0.0,>=4.6.0->sentence-transformers) (3.0.4)\n",
            "Requirement already satisfied: click in /usr/local/lib/python3.7/dist-packages (from sacremoses->transformers<5.0.0,>=4.6.0->sentence-transformers) (7.1.2)\n",
            "Requirement already satisfied: joblib in /usr/local/lib/python3.7/dist-packages (from sacremoses->transformers<5.0.0,>=4.6.0->sentence-transformers) (1.1.0)\n",
            "Requirement already satisfied: threadpoolctl>=2.0.0 in /usr/local/lib/python3.7/dist-packages (from scikit-learn->sentence-transformers) (3.1.0)\n",
            "Requirement already satisfied: pillow!=8.3.0,>=5.3.0 in /usr/local/lib/python3.7/dist-packages (from torchvision->sentence-transformers) (7.1.2)\n",
            "Building wheels for collected packages: sentence-transformers\n",
            "  Building wheel for sentence-transformers (setup.py) ... \u001b[?25l\u001b[?25hdone\n",
            "  Created wheel for sentence-transformers: filename=sentence_transformers-2.2.0-py3-none-any.whl size=120747 sha256=8fe8cd9f065793f333ee658ef8c0b9911657b4fa5eb20428abe4cd0122c9cc1e\n",
            "  Stored in directory: /root/.cache/pip/wheels/83/c0/df/b6873ab7aac3f2465aa9144b6b4c41c4391cfecc027c8b07e7\n",
            "Successfully built sentence-transformers\n",
            "Installing collected packages: pyyaml, tokenizers, sacremoses, huggingface-hub, transformers, sentencepiece, sentence-transformers\n",
            "  Attempting uninstall: pyyaml\n",
            "    Found existing installation: PyYAML 3.13\n",
            "    Uninstalling PyYAML-3.13:\n",
            "      Successfully uninstalled PyYAML-3.13\n",
            "Successfully installed huggingface-hub-0.5.1 pyyaml-6.0 sacremoses-0.0.49 sentence-transformers-2.2.0 sentencepiece-0.1.96 tokenizers-0.12.1 transformers-4.18.0\n"
          ]
        }
      ]
    },
    {
      "cell_type": "markdown",
      "id": "c7a4d961",
      "metadata": {
        "id": "c7a4d961"
      },
      "source": [
        "## Importing NLTK to tokenize"
      ]
    },
    {
      "cell_type": "code",
      "execution_count": 4,
      "id": "b24ba3ee",
      "metadata": {
        "colab": {
          "base_uri": "https://localhost:8080/"
        },
        "id": "b24ba3ee",
        "outputId": "831dde8d-2d31-4dcb-a2bb-f5bb88b19b05"
      },
      "outputs": [
        {
          "output_type": "stream",
          "name": "stdout",
          "text": [
            "[nltk_data] Downloading package punkt to /root/nltk_data...\n",
            "[nltk_data]   Unzipping tokenizers/punkt.zip.\n"
          ]
        },
        {
          "output_type": "execute_result",
          "data": {
            "text/plain": [
              "True"
            ]
          },
          "metadata": {},
          "execution_count": 4
        }
      ],
      "source": [
        "import nltk\n",
        "nltk.download('punkt')"
      ]
    },
    {
      "cell_type": "markdown",
      "id": "6d818757",
      "metadata": {
        "id": "6d818757"
      },
      "source": [
        "## Importing Sentence Transformer to summarise the text"
      ]
    },
    {
      "cell_type": "code",
      "execution_count": 5,
      "id": "dd381195",
      "metadata": {
        "colab": {
          "base_uri": "https://localhost:8080/",
          "height": 433,
          "referenced_widgets": [
            "46e9504e9d0e4f0abf49b43c85ce72d2",
            "0521b85c940444e59dab81df3bd8219d",
            "6a6a3a7b80b84318b706f8c8a9f768d5",
            "84e0e3e4d6a1402998648766a3351082",
            "f1a50ad440024f0d86c89b010d3dfb0c",
            "3ff1c26108ee4cbda645071cf16bf3a3",
            "e8008f6549fa44f099a43ee0f78b8f9b",
            "5b5b3209db8a40a5aada47814712329a",
            "c8a7844c0f724e1aa4dd0a2d1c911743",
            "5c4e902c6bf34090853013e7a455c35e",
            "a7b962ec5e304a4c84ad6a2964ceba48",
            "c165e0ef2c074a88b68fe5db219447bd",
            "0b9ac6e01dcd4fa2a6563b13e7852041",
            "8554beb7f6e347b0a17c312d76a2dd9c",
            "7ff1ed7ae52d4d77a0ed00bde0c181e8",
            "8e3d34df52914d6084b522c950a6cda0",
            "48ccdfcad60d4705b088ca90aa181d18",
            "587c57cfaefa4d5fa5a4cbc486ccfc9f",
            "fd3d49f6b6704c71b35b68be1be4b77e",
            "a51fb9c580f1455bbcba2c1fb02855b7",
            "94aed1e1fa464a01a2f12cbf522be98c",
            "b5ace0cbde3f4728a9669abf987f921e",
            "64655b387e8946d088c089b6b5d98436",
            "c5ae92bc8b4844b9a2fca755d06954ec",
            "6adf45fa900f477e888db098e56bacaf",
            "7cbe71d8115d4a1891f36ce746972eaf",
            "a5893cd719514fbfa8d98a7f402f6142",
            "a4ff7c8a22344c70923729c0d32952a3",
            "64a58d9867b342cb8ba634ccb1788e9e",
            "363bda4c782143c7999aba2ba080a2a7",
            "073969d4d28f4cabb79ab69736fd3519",
            "cd40da7254184c06848b72e027d59088",
            "ccac010baaa94c15abe133996bd42163",
            "4bbc7d3066374967aa96daf1155d66e0",
            "9af28e27d5a34c82b9a546f83980bac0",
            "8eb2afa4ea6a4ba192dfb44c0e0c376b",
            "a1184c50caa545a6ae7789edba537c86",
            "69a342cd949948caadb438cc10bfc7c6",
            "dd9e42b26efc4ddea1ebc0f1258b38f9",
            "d158ff51f9c245dda325ceaf3b7bef5c",
            "b562f061e6674752bb0f43bb5465fc31",
            "8f334bffa06249b89711c75a28f36adb",
            "fbdcd8a1a54f449985c11e9a2a036206",
            "f1ffd6850bd54a0dbf6b3cb5eb27bb7c",
            "87191ad121544dae9a749f06118b2ff4",
            "2209ed7d1ab04b34b7ef6a550cf373ab",
            "c306c87755c1442f89c44cbef8f77d69",
            "0822ee178d824e0f80631c9e18ec9f9e",
            "600a759fb216446085fa58fa59a8c5f0",
            "e0cea84178394bcd8322f4bdbb88c069",
            "abe16a0d02cd4457b7c13c2abd5b9311",
            "8175d22ede604f3891c477ea72a2a371",
            "df7819b55ceb4fbb94d4f8d0bb94229e",
            "f2e7e20e1653469ab833e135bc1d37ee",
            "a4746239b85749d79d2d8b882673d232",
            "faad5873b4df4389bd95343b9861fb5f",
            "d5e18e3226dc4cea81d295eaa2b7fece",
            "6393a4ff8c1e49579e1c756dd28ab48d",
            "eb35e7198ca743b69d21f3adba3503c1",
            "e88a48da6e2242ae8a1ca124712c2c36",
            "5b72ab8ae10b43eb97ce2932e7f00f27",
            "37cd5218ba994f3e85bf98c20c12ccd8",
            "2085131acc7f4586be88d51ecc1a4bfe",
            "4e8e22d9709047018b67e0d19725242a",
            "5eee0486d43a41f2857de134094a636f",
            "f2d5a8c480964621bccfdbdf006c6306",
            "ad7fbb4deb1a43bb8ef553b786210777",
            "e8d3e6fb97234a8fa25e772dbc4115eb",
            "3d62740ba6284f4bb45510143399f7d9",
            "8481d88c13cc40ce8dcf5a2d062c47dd",
            "3c048df165c64bf59ec8cb8ea042ca14",
            "22f9bbc5962a4c9185ab1c4b80b03d9b",
            "d157049cf98749529bb1dc5fddbc1a0a",
            "134d2e75bb1543eea9f89dabd5e149e3",
            "5652fa21d1a54a9ca272d81b68d40e6a",
            "0d4a0954d6ae4ff79b0f99d466c394ec",
            "28018951644045c2a0241dfe9598add1",
            "e1a419d3432d49c5b3325d3157d0b061",
            "b8aad6fa1ba54ce596459fc17e745cde",
            "e40f28cea28b46b9946653609ddbc731",
            "892de223d7304126a35584f0b63268ac",
            "32986bfcf0164adfb315dea22d841854",
            "2b79b46e21a24a218ae914330ceb5656",
            "7fca5f5a846f4ad5b543811728b7ab23",
            "a3eea100cf604842b85225435b26896c",
            "8bb8a918ddbc45c2b119c7088655cdbb",
            "d7ba8726e0ad4c5495a7ef8e6ff33fc1",
            "70f6cf49037b4983808e4b27198dcc96",
            "541a04e2a36e4dcbbad841e042bdd34d",
            "ee60d4e1fdc242feb2bf75cae25dc9e1",
            "f1267dd94de4469a8ec65843b8a28fda",
            "063eafd6475e4c3ab382a75fcd8c6268",
            "c2de6056fa55401ba756a6feb5d06993",
            "6d2d52ecfba74128ac3367fd3a091284",
            "4efed3a2fd004fbdbeb015a9ac21a425",
            "fe8d99bb060746f2a715c4db22ea9b56",
            "ff33b64517ec45da998cb52f7984d022",
            "4b425369106949a0a37f988521fc9d77",
            "2581c6b2b8bd46b58d03fc0874718ec5",
            "64ac483ea8c941389663d7361d0c380c",
            "93135909fc6342f2b6b2887c438e3644",
            "312b62a4da8e4775998ccc7543c58325",
            "0001e55ecb694deaa1e6636e30e8100b",
            "83a04c464d554301bbc61762506db658",
            "5c2c084004c24a0eae114c4109d88b44",
            "3a297b328cee429c88f34ffaa43438a2",
            "a4969ccabbb647dbba88fc205392b3e4",
            "e93ac8c068474922878829abdb6b39f5",
            "841a72c349ba44c68f6f28065688d3a1",
            "b817c1c4dfa447fa9eac3a4a6950f495",
            "f8bfa8c382e04e168a5093ccedfe3882",
            "d354b8ec110a43fb8030e35039532d3f",
            "c665c22d832b4eeda4f16de8f857540b",
            "9bd1db18af9d44098da79369398e3998",
            "42d436c7fc9c41ef92d7b5719bafab23",
            "bf14eeadbf764a1a8b648e74dd647798",
            "3ce812c9e6f54a60b1c567e7d96f4616",
            "a215728781674286a22f8c9f79b00c16",
            "ffa4144d1b2e43819a5ade9efd84cd70",
            "a558ceb3e6fe4cda94122ec9643a120f",
            "8dbf31551d114cc7afc77845286a2435",
            "a257d72888d945149a6aacdcf80bde15",
            "53abdf472a104fa1b1479efe6e4ae9db",
            "3f05d948b56a4b3b92dcbcffcfbddc56",
            "549821c35e274e63b196cf237fb449f1",
            "41ef3b5ca1414f3e8665f057b8ae66da",
            "ca0a5356d2844e1893ca7713fb219cef",
            "77242ec9c63e48f199c4e158d266647e",
            "c13ee1b2e8a34d64acbaa293dcaa9632",
            "1bf35fb932314d27a8a6f449e79595d2",
            "82362575003a4293820c2c94bb394ec0",
            "683b18b0142d4019b1622ef079ed8232",
            "4152d5cfa2fb47678c87a9b677f7529b",
            "bc04a957ada145fdb3de2c4f1e68f7c0",
            "e33c99245f1f482f8ae37ec59ad64f77",
            "23ebb1e80da24858bab237cdfcc53ed9",
            "c75e1eba2baa4205b8809b507cb140d0",
            "7b9d0f6f99084e91abd664667cae447a",
            "0ee0e24b1ce8496e81c9253626c66464",
            "2cf6f2172e50493e9c30857d9fa92e69",
            "500475bb4d0f45f0a1435c52ab90fb9f",
            "ddcedb888798410195c145ebfb540503",
            "971573fe436a47ca920a475a7cc4a73e"
          ]
        },
        "id": "dd381195",
        "outputId": "5ab593aa-5b54-4076-d6a5-67617b9f0623"
      },
      "outputs": [
        {
          "output_type": "display_data",
          "data": {
            "text/plain": [
              "Downloading:   0%|          | 0.00/391 [00:00<?, ?B/s]"
            ],
            "application/vnd.jupyter.widget-view+json": {
              "version_major": 2,
              "version_minor": 0,
              "model_id": "46e9504e9d0e4f0abf49b43c85ce72d2"
            }
          },
          "metadata": {}
        },
        {
          "output_type": "display_data",
          "data": {
            "text/plain": [
              "Downloading:   0%|          | 0.00/190 [00:00<?, ?B/s]"
            ],
            "application/vnd.jupyter.widget-view+json": {
              "version_major": 2,
              "version_minor": 0,
              "model_id": "c165e0ef2c074a88b68fe5db219447bd"
            }
          },
          "metadata": {}
        },
        {
          "output_type": "display_data",
          "data": {
            "text/plain": [
              "Downloading:   0%|          | 0.00/3.95k [00:00<?, ?B/s]"
            ],
            "application/vnd.jupyter.widget-view+json": {
              "version_major": 2,
              "version_minor": 0,
              "model_id": "64655b387e8946d088c089b6b5d98436"
            }
          },
          "metadata": {}
        },
        {
          "output_type": "display_data",
          "data": {
            "text/plain": [
              "Downloading:   0%|          | 0.00/2.00 [00:00<?, ?B/s]"
            ],
            "application/vnd.jupyter.widget-view+json": {
              "version_major": 2,
              "version_minor": 0,
              "model_id": "4bbc7d3066374967aa96daf1155d66e0"
            }
          },
          "metadata": {}
        },
        {
          "output_type": "display_data",
          "data": {
            "text/plain": [
              "Downloading:   0%|          | 0.00/625 [00:00<?, ?B/s]"
            ],
            "application/vnd.jupyter.widget-view+json": {
              "version_major": 2,
              "version_minor": 0,
              "model_id": "87191ad121544dae9a749f06118b2ff4"
            }
          },
          "metadata": {}
        },
        {
          "output_type": "display_data",
          "data": {
            "text/plain": [
              "Downloading:   0%|          | 0.00/122 [00:00<?, ?B/s]"
            ],
            "application/vnd.jupyter.widget-view+json": {
              "version_major": 2,
              "version_minor": 0,
              "model_id": "faad5873b4df4389bd95343b9861fb5f"
            }
          },
          "metadata": {}
        },
        {
          "output_type": "display_data",
          "data": {
            "text/plain": [
              "Downloading:   0%|          | 0.00/229 [00:00<?, ?B/s]"
            ],
            "application/vnd.jupyter.widget-view+json": {
              "version_major": 2,
              "version_minor": 0,
              "model_id": "ad7fbb4deb1a43bb8ef553b786210777"
            }
          },
          "metadata": {}
        },
        {
          "output_type": "display_data",
          "data": {
            "text/plain": [
              "Downloading:   0%|          | 0.00/438M [00:00<?, ?B/s]"
            ],
            "application/vnd.jupyter.widget-view+json": {
              "version_major": 2,
              "version_minor": 0,
              "model_id": "e1a419d3432d49c5b3325d3157d0b061"
            }
          },
          "metadata": {}
        },
        {
          "output_type": "display_data",
          "data": {
            "text/plain": [
              "Downloading:   0%|          | 0.00/53.0 [00:00<?, ?B/s]"
            ],
            "application/vnd.jupyter.widget-view+json": {
              "version_major": 2,
              "version_minor": 0,
              "model_id": "541a04e2a36e4dcbbad841e042bdd34d"
            }
          },
          "metadata": {}
        },
        {
          "output_type": "display_data",
          "data": {
            "text/plain": [
              "Downloading:   0%|          | 0.00/112 [00:00<?, ?B/s]"
            ],
            "application/vnd.jupyter.widget-view+json": {
              "version_major": 2,
              "version_minor": 0,
              "model_id": "64ac483ea8c941389663d7361d0c380c"
            }
          },
          "metadata": {}
        },
        {
          "output_type": "display_data",
          "data": {
            "text/plain": [
              "Downloading:   0%|          | 0.00/466k [00:00<?, ?B/s]"
            ],
            "application/vnd.jupyter.widget-view+json": {
              "version_major": 2,
              "version_minor": 0,
              "model_id": "f8bfa8c382e04e168a5093ccedfe3882"
            }
          },
          "metadata": {}
        },
        {
          "output_type": "display_data",
          "data": {
            "text/plain": [
              "Downloading:   0%|          | 0.00/399 [00:00<?, ?B/s]"
            ],
            "application/vnd.jupyter.widget-view+json": {
              "version_major": 2,
              "version_minor": 0,
              "model_id": "a257d72888d945149a6aacdcf80bde15"
            }
          },
          "metadata": {}
        },
        {
          "output_type": "display_data",
          "data": {
            "text/plain": [
              "Downloading:   0%|          | 0.00/232k [00:00<?, ?B/s]"
            ],
            "application/vnd.jupyter.widget-view+json": {
              "version_major": 2,
              "version_minor": 0,
              "model_id": "4152d5cfa2fb47678c87a9b677f7529b"
            }
          },
          "metadata": {}
        }
      ],
      "source": [
        "from sentence_transformers import SentenceTransformer\n",
        "\n",
        "model = SentenceTransformer('bert-base-nli-mean-tokens')"
      ]
    },
    {
      "cell_type": "code",
      "execution_count": 6,
      "id": "ae432bc5",
      "metadata": {
        "id": "ae432bc5"
      },
      "outputs": [],
      "source": [
        "from transformers import pipeline"
      ]
    },
    {
      "cell_type": "code",
      "execution_count": 7,
      "id": "22976e37",
      "metadata": {
        "colab": {
          "base_uri": "https://localhost:8080/",
          "height": 195,
          "referenced_widgets": [
            "ed47f40ca0b548d4b6b1d958e575ebe7",
            "112799505d084588864754fee14ae727",
            "1af5582a4f7f47d4836b157bf81cb1fc",
            "bc8a88a530f74bd88fce2370dcf7f866",
            "f5c0b697966f43d597ef12aa5430c624",
            "ff2ca32424984b54af172e81d897766e",
            "5c990d9d7f644f5ca4a9a24e3dc7605c",
            "8e3f14d1eb7e4a578219e97762c2fcfd",
            "8bc47b980acf4f789a10eab6439d19be",
            "ff3e1649a5604dd38602d068f27a47a8",
            "8eb87bcda96a4a17a3c068401486a970",
            "e744bbca3b3842d48c3cb6c26d204342",
            "964bede4285b4ee6949d2aac5f14e8e4",
            "b0eb43c43e7c437aadf78ec9660d49f5",
            "354e2d2623114538a3b788c23cf51264",
            "69ab1fc55801444ca962d82ce5286b8a",
            "332bb7f36f374de8b9eb95d9c379a67c",
            "3362b00475ec4eec966e2042c2d87e54",
            "9b68fdcab2974f31b74bdbb439438312",
            "11d943c750334da782ef002cb5579a3c",
            "28be4ec291eb4a56970cc2b808402d90",
            "4553e5c6c91a438eb3eaab76d7967d7d",
            "5d9364ca5cbc436face45ae97821d308",
            "a390f08fe47242b293ef4a7714f9ae0f",
            "90995d9eff5147f49702c1129cafd3b8",
            "185f3affb98044fcb183ff713b8318ac",
            "e1145994878a44058ea3a42418916825",
            "3bec1cd2925443de9cf4c62241d7c1cc",
            "d00e9263c341460bb89c288a42e46476",
            "c6e09f153e234b1bb3b849e6090505cd",
            "51ed2ba1b9dd48148d2edd031ae0daa7",
            "b03a30c8893847c8a96b13cf22381d1a",
            "009123ddbdd64061ad9850ef2e936c4c",
            "4c21f3c9032b42d7a86adcf147fa4f2a",
            "7111979f1bc04c44a951f543ab85f42d",
            "b7131635a96b4e51ba5399fb544442de",
            "66fd3b592e684008b432d89d13737bf8",
            "9dbb446c87614b59ab7eb0519cbee65d",
            "b4992c4e91604cddaf53787995d12c5a",
            "42574875ef5f4ea281c03c9ed35fa698",
            "e849bafb6a7148aa8b47dae33f4ec018",
            "9f82be02287142ca9e0d952d2cfe0f36",
            "9bb90f453b134032bd8d146550f3df82",
            "851ef59209aa4f5db09ca5a44f3d8831",
            "c39d6b5b16594674a78541faf839b69a",
            "09f5470961c64362b3d46f6a46f11da6",
            "b8b1a1ccfcd34a479d2c05bff0072802",
            "542d85c529be4448a870667e6a1d2465",
            "6286836c1d2a43e8928cc6bbf59efe95",
            "cc9b138016eb415e84d19f5bd776710a",
            "37fee7c177ec4957b50afa5702dc108f",
            "5d41360e7b87477c9da3ca8d3d32f95c",
            "6e64c4b3149143d7ba87fef84f608d3e",
            "a0038e7f90104ff98722aea6018b973b",
            "02725dbe7529432fa864a72af6a92a6c"
          ]
        },
        "id": "22976e37",
        "outputId": "ba819ec2-f04a-47db-b630-68a4034e8f63"
      },
      "outputs": [
        {
          "output_type": "stream",
          "name": "stderr",
          "text": [
            "No model was supplied, defaulted to sshleifer/distilbart-cnn-12-6 (https://huggingface.co/sshleifer/distilbart-cnn-12-6)\n"
          ]
        },
        {
          "output_type": "display_data",
          "data": {
            "text/plain": [
              "Downloading:   0%|          | 0.00/1.76k [00:00<?, ?B/s]"
            ],
            "application/vnd.jupyter.widget-view+json": {
              "version_major": 2,
              "version_minor": 0,
              "model_id": "ed47f40ca0b548d4b6b1d958e575ebe7"
            }
          },
          "metadata": {}
        },
        {
          "output_type": "display_data",
          "data": {
            "text/plain": [
              "Downloading:   0%|          | 0.00/1.14G [00:00<?, ?B/s]"
            ],
            "application/vnd.jupyter.widget-view+json": {
              "version_major": 2,
              "version_minor": 0,
              "model_id": "e744bbca3b3842d48c3cb6c26d204342"
            }
          },
          "metadata": {}
        },
        {
          "output_type": "display_data",
          "data": {
            "text/plain": [
              "Downloading:   0%|          | 0.00/26.0 [00:00<?, ?B/s]"
            ],
            "application/vnd.jupyter.widget-view+json": {
              "version_major": 2,
              "version_minor": 0,
              "model_id": "5d9364ca5cbc436face45ae97821d308"
            }
          },
          "metadata": {}
        },
        {
          "output_type": "display_data",
          "data": {
            "text/plain": [
              "Downloading:   0%|          | 0.00/878k [00:00<?, ?B/s]"
            ],
            "application/vnd.jupyter.widget-view+json": {
              "version_major": 2,
              "version_minor": 0,
              "model_id": "4c21f3c9032b42d7a86adcf147fa4f2a"
            }
          },
          "metadata": {}
        },
        {
          "output_type": "display_data",
          "data": {
            "text/plain": [
              "Downloading:   0%|          | 0.00/446k [00:00<?, ?B/s]"
            ],
            "application/vnd.jupyter.widget-view+json": {
              "version_major": 2,
              "version_minor": 0,
              "model_id": "c39d6b5b16594674a78541faf839b69a"
            }
          },
          "metadata": {}
        }
      ],
      "source": [
        "classifier = pipeline(\"summarization\")"
      ]
    },
    {
      "cell_type": "code",
      "execution_count": 8,
      "id": "a14aa2e5",
      "metadata": {
        "id": "a14aa2e5"
      },
      "outputs": [],
      "source": [
        "from sklearn.metrics.pairwise import cosine_similarity"
      ]
    },
    {
      "cell_type": "code",
      "execution_count": 10,
      "id": "e9812983",
      "metadata": {
        "id": "e9812983"
      },
      "outputs": [],
      "source": [
        "import docx\n",
        "sentences = []\n",
        "doc = docx.Document(r\"/content/ML_Input.docx\")\n",
        "for i in doc.paragraphs:\n",
        "    sentences.append(i.text)"
      ]
    },
    {
      "cell_type": "code",
      "execution_count": 11,
      "id": "d283a5da",
      "metadata": {
        "colab": {
          "base_uri": "https://localhost:8080/"
        },
        "id": "d283a5da",
        "outputId": "1c8968b9-81c9-420c-8443-66d90147d0ea"
      },
      "outputs": [
        {
          "output_type": "execute_result",
          "data": {
            "text/plain": [
              "['Yes Gauri tell me tell me something about you',\n",
              " ' ',\n",
              " \"Okay ahh thank you for allowing me to introduce myself. My name is Gauri shirmali. I am from Udaipur Rajasthan. I'm doing computer science engineering from Geetanjali Institute of technical studies. I secured 9.2 c GPA in 10, standard 73.4 Cgp ahh percentage in 12 standard. And currently an engineering my aggregate score is 77 percentage. computer sciences is omnipresent that is it is present in every field and hence I have invested these last 3.5 almost years and a developing my software skills My technical skills include programming in Python, Java, C, c++, databases I am also familiar with web development, Kubernetes, Docker, Ansible, et cetera. So these all are my technical skills. And I’ve  also used this skills to build several projects, which include user management project and attendance management project. I've also participated in smart India hackathons of which ahh in one we also got to the finals. Ahh these are my technical skills, coming to my extracurricular activities I love to dance umm particularly semi classical dance. I also like to read write and paint have been the student editor of our colleges newsletter bits and bytes. And currently I am one of the cultural heads of our students club, So I've I have also participated in several donation camps several donation camps as I am a  a member of the Rotary Club Udaipur, I consider myself as a very focused person, I’ve  and I always work towards my goals and in a very efficient manner. I am a team player and very optimistic in tough times And lastly I would like to say that why not start the journey of my success by the success of joining TCS Thank you so much.\",\n",
              " ' ',\n",
              " 'Okay ahh What are the five specific point about Tcs which makes Tcs different from the other IT MNCs?',\n",
              " ' ',\n",
              " 'Sure firstly sir ahh tcs is has a brand name, it is known it is a multinational company and it has a very good brand name and thus it would give me a good start for my career. Secondly, it has a work life balance. I have talked to many of my friends who are in Tcs and they say that Tcs gives a very good work life balance. So that is the second point. Third point is the colleagues there hardraw very futuristic in their skills. So there is a lot to learn from them. Fourthly, as Tcs is a multinational company, I would like to I would have the chance to even uhh go abroad and a meet a people of different nationalities. And lastly there as Tcs is has been in the industry for almost hundred and fifty years. So it gives me a sense of job security to some extent.',\n",
              " ' ',\n",
              " 'Okay what are the ethical values Tcs have?',\n",
              " ' ',\n",
              " \"sir like I said there is a work life balance and it a it it promotes like gender equality ,there is no like discrimination on the basis of that. And it so it's very good ethics overall.\",\n",
              " ' ',\n",
              " 'Okay okay Gauri nice talking to you , thankyou sir , and  I request kernel rathor sir to take next part of interview Right.',\n",
              " ' ',\n",
              " 'Thankyou so much sir',\n",
              " ' ',\n",
              " 'Good afternoon',\n",
              " ' ',\n",
              " 'Good afternoon sir',\n",
              " ' ',\n",
              " 'All prepare',\n",
              " ' ',\n",
              " 'Yes sir',\n",
              " ' ',\n",
              " 'Okay Tell us which other campus interviews Have you appeared for and what has been the results?',\n",
              " ' ',\n",
              " \"So I have interviewed for darnet, which is an depor only and I got selected for it. I also interviewed for gateway industries. I was not selected in the interview I got to the interview part but was not selected So that's it. I've only given these interviews.\",\n",
              " ' ',\n",
              " \"Okay Have you analyzed Why you didn't get selected for gateway?\",\n",
              " ' ',\n",
              " 'Sir in gateway I might have not answered the technical questions very well as compared to the other candidates.',\n",
              " ' ',\n",
              " 'Okay so how have you prepared for TCS interview now?',\n",
              " ' ',\n",
              " \"Sir I have an enhanced my technical skills I have been preparing for the core subjects, and I've been doing coding almost every day So I think that I prepared quite well For Tcs.\",\n",
              " ' ',\n",
              " 'Okay ahhh umm  Gauri tell me what are your future plans?',\n",
              " ' ',\n",
              " 'Sir my future plans sir if I join TCS or otherwise',\n",
              " ' ',\n",
              " 'What are your future plans ?',\n",
              " ' ',\n",
              " \"Sir I want to join a software company and a work for it. And I want to a learn as much ah like as much languages and as much skills as I can and I also want to achieve great success so that I'm satisfied with what I've learned\",\n",
              " ' ',\n",
              " 'Okay ah what do you think are the reasons for youngsters switching over jobs?',\n",
              " ' ',\n",
              " 'Sir maybe it is job satisfaction because they enter a company without a a seeing the background of the company and then they later find out that the company was not suitable for them.',\n",
              " ' ',\n",
              " \"Okay. That's for you, what are the three important things ah that ah one should consider before joining any organization as a fresher?\",\n",
              " ' ',\n",
              " 'So firstly the one should look if there is a lot to learn from the company, I mean, there should be a very steep like growing curve in the company. Secondly, they should be like the colleagues and everything should be very frank so that they help you in every way and thirdly  for me there should be a brand name so that there is a satisfaction that yes I have achieved a level and now I can go to the next level.',\n",
              " ' ',\n",
              " 'Okay technically what gives you job satisfaction?',\n",
              " ' ',\n",
              " 'Sir technically the latest I want to go with latest technical skills, like not obsolete technologies, but the latest technologies.',\n",
              " ' ',\n",
              " 'So how does TCS fit into your requirement?',\n",
              " ' ',\n",
              " 'Sir tcs changes with technologies according to the needs of the people of the or so there is not a there is no fixed technology that they use they use according to the clients which is very well.',\n",
              " ' ',\n",
              " 'which are the major clients of TCS? Can you name three or four of them?',\n",
              " ' ',\n",
              " \"I'm sorry sir but I'm not aware of the clients.\",\n",
              " ' ',\n",
              " 'Okay sure anything that you want to ask?',\n",
              " ' ',\n",
              " 'Sir will I be able to like fit in the company? I mean what do you think?',\n",
              " ' ',\n",
              " 'Will you be able to fit into the company?',\n",
              " ' ',\n",
              " 'Yes sir',\n",
              " ' ',\n",
              " \"Yeah, as per your own analysis, you said you're a good team player and what requirements you said for a good job in case you have those qualities I'm sure you will be able to fit into.\",\n",
              " ' ',\n",
              " 'Okay, sir, thank you any more suggestions for me?',\n",
              " ' ',\n",
              " 'No nothing more adventure will finally give his remarks.',\n",
              " ' ',\n",
              " 'Thank you so much sir.',\n",
              " ' ',\n",
              " 'All the best right',\n",
              " ' ',\n",
              " 'Gauri',\n",
              " ' ',\n",
              " 'Yes sir',\n",
              " ' ',\n",
              " 'What is your basically the aim you want to go into software companies or anything more than that?',\n",
              " ' ',\n",
              " 'No sir I want to go into software companies that is aim',\n",
              " ' ',\n",
              " \"okay. You don't want to go for any higher studies or entrepreneurship like.\",\n",
              " ' ',\n",
              " 'No sir entrepreneurship No  but the highest studies many of the companies Tcs also provide like conc simultaneously highest studies So that may also be a very good option.',\n",
              " ' ',\n",
              " \"Okay for example you have got you have got the offer from Tcs Or at the same time Meanwhile you're getting the better offer than Tcs from another organization which is not a tier one organization but tier two organization but the packages just develop what we are offering then what you will do?\",\n",
              " ' ',\n",
              " 'a sir I compare both the companies in terms of the',\n",
              " ' ',\n",
              " \"defiantly I’ve told the tcs is the tier one and you've got the offer from tier two it means the startup or midsize company with the package for example, we are giving you four lakh they are giving you eight lakh in that case what do you do?\",\n",
              " ' ',\n",
              " \" Sir I choose Tcs only because Tcs is like almost hundred and fifty years old company so it it has a very good job security. And as I cannot really trust a startup because they are new in the industry, and that's why there is there might be some trust issues so i\",\n",
              " ' ',\n",
              " 'At least salary does not matter for you ?',\n",
              " ' ',\n",
              " 'Sir job security is more important than a salary',\n",
              " ' ',\n",
              " 'if you will not perform well in the tcs also you can get the job insecurity in tcs also.',\n",
              " ' ',\n",
              " 'Sir but I will perform good and I would like from my end there will be no complaints from Tcs.',\n",
              " ' ',\n",
              " 'Okay yeah',\n",
              " ' ',\n",
              " 'Gauri',\n",
              " ' ',\n",
              " 'Good afternoon sir',\n",
              " ' ',\n",
              " 'Good afternoon ah which domain you feel comfortable?',\n",
              " ' ',\n",
              " 'Ah sir core subject subjects programming C++ , DBMS Yes sir.',\n",
              " ' ',\n",
              " 'So, give me a concept to implement snake and ladder.',\n",
              " ' ',\n",
              " 'implement Snakes and Ladders using any programming language?',\n",
              " ' ',\n",
              " \"I want to know only concept not the implementation Okay I'm giving you the one minute\",\n",
              " ' ',\n",
              " 'Hmm  sir can I write something',\n",
              " ' ',\n",
              " ' Yes yes but I need only logic right not the coding a code part.',\n",
              " ' ',\n",
              " 'Ok sir',\n",
              " ' ',\n",
              " 'Hua Gauri',\n",
              " ' ',\n",
              " 'Yes sir thoda thoda ah sir we can',\n",
              " ' ',\n",
              " 'Verbaly btao to bus when I can analyze that you are going in the right direction or not.',\n",
              " ' ',\n",
              " 'Okay sir ah so ah firstly a we will the will like a this for example of how how many columns are there for example, I take disk of fifty the maximum we take a fifty and then now we take dice. so a variable in which we will take a random function with the help of random function, we can derive a number between one to six and for the first for the first move, if the numbers random number is six, then we can move like we can keep a counter of the player. so we can increase the counter with the numbers that comes in the dice. And then now we can predefine the snakes for example, if at if we reach five then the the counter should like increased by 10 blocks. so the counter will increase by ten block That is the ladder and this way we can like pre define the next.',\n",
              " ' ',\n",
              " \"My next is the how you will how you will determine whether to you have to increment its dice value means you you own to use it's increasing the counter value in form of ladder yes sir or you have to decrement the counter value in form of snake. so how you will determine it.\",\n",
              " ' ',\n",
              " \"Sir with the help of functions. For example, if the dice value for if if the dice value or the that block value in which the counter is right now is five so I have assigned five already that five is a ladder, so then it will increase and for example if 12 is a snake then I've already defined that at 12 you need to decrement the value by for example FIFO or whatever. So I will predefined\",\n",
              " ' ',\n",
              " 'where you will predefined these values?',\n",
              " ' ',\n",
              " \"So I can use a dictionary to like if I'm doing in Python then I can use it dictonary.\",\n",
              " ' ',\n",
              " \"If we are using C then and C++, Java there we doesn't have any dictionary\",\n",
              " ' ',\n",
              " 'Then sir we can ah we can use array of arrays and then like make dictionary with the help of arrays',\n",
              " ' ',\n",
              " 'Okay yes can we switch or not there?',\n",
              " ' ',\n",
              " 'switch yes hnn but so we can use but it is too long like we will have to write the code many times in switch',\n",
              " ' ',\n",
              " 'why many times we can define a in switch global or anywhere then we can use it',\n",
              " ' ',\n",
              " 'cause switch for snake and switch for a ladder two separate switches we can use yes sir that we can',\n",
              " ' ',\n",
              " 'ahh so what do you mean by the encapsulation is Divyansh answer is correct.',\n",
              " ' ',\n",
              " 'Sir partially it is correct it is used for data hiding but more data security. So aa in our class it is implemented using access modifiers like public protected private and there is a default access specifier as well. So ahh using these we can a define the scope of the variables or the functions like if it is public then it can be used all through and if it is protected then only the subclasses can use it and if private then only the current class can use it.',\n",
              " ' ',\n",
              " 'What do you mean by storage classes ?',\n",
              " ' ',\n",
              " 'A storage classes sir im no able to recall ive a',\n",
              " ' ',\n",
              " 'Okay gauri all the best',\n",
              " ' ',\n",
              " 'Thankyou so much',\n",
              " ' ',\n",
              " 'Explore more and more Tcs technical interview questions right? Ok sir They are basically mainly from C and C++.',\n",
              " ' ',\n",
              " 'Okay sir ill keep that in mind thankyou so much sir all the best thank you',\n",
              " ' ',\n",
              " 'A from my side and rathor sir interview my remark for you definitely you are the good candidate that we have already observed many time ahh technical knowledge I have not checked out your head of department CAC will check it out but a you can easily correct the process.',\n",
              " ' ',\n",
              " 'Okay thank you so much sir',\n",
              " ' ',\n",
              " \"Or a when you are clear about your thought process then at least it should be justified when you are giving the interviews Yes sir sure it is very important ok sir if they feel that you want to come but you can not come then then there is a chances they can drop you. Either you are a good candidate or the best for example Google want to hire somebody or they find the candidate which is having the capabilities to get a caror package in a anom. But they have the doubt that no doubt is the best but they have the doubt that either he'll join or not. then might be they can drop so yes that kind of condition in the interview at least shoud not be so case.\",\n",
              " ' ',\n",
              " \"Okay I'll keep that in mind sir thank you\",\n",
              " ' ',\n",
              " 'Otherwise all set all right ok',\n",
              " ' ',\n",
              " 'Thank you',\n",
              " ' ',\n",
              " 'Thank you sir',\n",
              " ' ',\n",
              " '']"
            ]
          },
          "metadata": {},
          "execution_count": 11
        }
      ],
      "source": [
        "sentences"
      ]
    },
    {
      "cell_type": "code",
      "execution_count": 12,
      "id": "20bfea2b",
      "metadata": {
        "colab": {
          "base_uri": "https://localhost:8080/"
        },
        "id": "20bfea2b",
        "outputId": "cceab280-b499-4d88-9048-1925ceaa4841"
      },
      "outputs": [
        {
          "output_type": "execute_result",
          "data": {
            "text/plain": [
              "191"
            ]
          },
          "metadata": {},
          "execution_count": 12
        }
      ],
      "source": [
        "len(sentences)"
      ]
    },
    {
      "cell_type": "code",
      "execution_count": 24,
      "id": "1f296d51",
      "metadata": {
        "colab": {
          "base_uri": "https://localhost:8080/"
        },
        "id": "1f296d51",
        "outputId": "fc59d813-733a-4afa-de0b-556fbc664623"
      },
      "outputs": [
        {
          "metadata": {
            "tags": null
          },
          "name": "stdout",
          "output_type": "stream",
          "text": [
            "2\n",
            "[[{'summary_text': ' Gauri shirmali is doing computer science engineering from Geetanjali Institute of technical studies in Rajasthan . Her technical skills include programming in Python, Java, C, c++, databases and web development . She is a team player and very optimistic in tough times .'}], 'Okay ahh thank you for allowing me to introduce myself.', 'My name is Gauri shirmali.', 'I am from Udaipur Rajasthan.', \"I'm doing computer science engineering from Geetanjali Institute of technical studies.\", 'I secured 9.2 c GPA in 10, standard 73.4 Cgp ahh percentage in 12 standard.', 'And currently an engineering my aggregate score is 77 percentage.', 'computer sciences is omnipresent that is it is present in every field and hence I have invested these last 3.5 almost years and a developing my software skills My technical skills include programming in Python, Java, C, c++, databases I am also familiar with web development, Kubernetes, Docker, Ansible, et cetera.', 'So these all are my technical skills.', 'And I’ve  also used this skills to build several projects, which include user management project and attendance management project.', \"I've also participated in smart India hackathons of which ahh in one we also got to the finals.\", 'Ahh these are my technical skills, coming to my extracurricular activities I love to dance umm particularly semi classical dance.', 'I also like to read write and paint have been the student editor of our colleges newsletter bits and bytes.', \"And currently I am one of the cultural heads of our students club, So I've I have also participated in several donation camps several donation camps as I am a  a member of the Rotary Club Udaipur, I consider myself as a very focused person, I’ve  and I always work towards my goals and in a very efficient manner.\", 'I am a team player and very optimistic in tough times And lastly I would like to say that why not start the journey of my success by the success of joining TCS Thank you so much.']\n"
          ]
        },
        {
          "metadata": {
            "tags": null
          },
          "name": "stderr",
          "output_type": "stream",
          "text": [
            "Your max_length is set to 142, but you input_length is only 27. You might consider decreasing max_length manually, e.g. summarizer('...', max_length=13)\n"
          ]
        },
        {
          "metadata": {
            "tags": null
          },
          "name": "stdout",
          "output_type": "stream",
          "text": [
            "4\n",
            "[[{'summary_text': ' What are the five specific point about Tcs which makes Tcs different from the other IT MNCs? What are five specific points about the company which makes it different from others? What do you know about the five points that make Tcs unique from other IT companies? Share your knowledge of these five points .'}], 'Okay ahh What are the five specific point about Tcs which makes Tcs different from the other IT MNCs?']\n",
            "6\n",
            "[[{'summary_text': ' Tcs is has a brand name, it is known it is a multinational company and it has a very good brand name and thus it would give me a good start for my career . I would like to I would have the chance to go abroad and a meet a people of different nationalities . And lastly there as Tcs has been in the industry for almost hundred and fifty years, it gives me a sense of job security .'}], 'Sure firstly sir ahh tcs is has a brand name, it is known it is a multinational company and it has a very good brand name and thus it would give me a good start for my career.', 'Secondly, it has a work life balance.', 'I have talked to many of my friends who are in Tcs and they say that Tcs gives a very good work life balance.', 'So that is the second point.', 'Third point is the colleagues there hardraw very futuristic in their skills.', 'So there is a lot to learn from them.', 'Fourthly, as Tcs is a multinational company, I would like to I would have the chance to even uhh go abroad and a meet a people of different nationalities.', 'And lastly there as Tcs is has been in the industry for almost hundred and fifty years.', 'So it gives me a sense of job security to some extent.']\n"
          ]
        },
        {
          "metadata": {
            "tags": null
          },
          "name": "stderr",
          "output_type": "stream",
          "text": [
            "Your max_length is set to 142, but you input_length is only 12. You might consider decreasing max_length manually, e.g. summarizer('...', max_length=6)\n"
          ]
        },
        {
          "metadata": {
            "tags": null
          },
          "name": "stdout",
          "output_type": "stream",
          "text": [
            "8\n",
            "[[{'summary_text': ' Okay what are the ethical values Tcs have? Okay . Okay . What do you have? Please tell us what your ethical values are? Please send us a video of your own . Send it to CNN iReport: Share your photos of yourself with us at iReport .'}], 'Okay what are the ethical values Tcs have?']\n"
          ]
        },
        {
          "metadata": {
            "tags": null
          },
          "name": "stderr",
          "output_type": "stream",
          "text": [
            "Your max_length is set to 142, but you input_length is only 43. You might consider decreasing max_length manually, e.g. summarizer('...', max_length=21)\n"
          ]
        },
        {
          "metadata": {
            "tags": null
          },
          "name": "stdout",
          "output_type": "stream",
          "text": [
            "10\n",
            "[[{'summary_text': ' There is a work life balance and it promotes like gender equality ,there is no like discrimination on the basis of that. And it so it so is very good ethics overall. sir like I said there is a very good ethical ethics overall,’s very good .'}], 'sir like I said there is a work life balance and it a it it promotes like gender equality ,there is no like discrimination on the basis of that.', \"And it so it's very good ethics overall.\"]\n"
          ]
        },
        {
          "metadata": {
            "tags": null
          },
          "name": "stderr",
          "output_type": "stream",
          "text": [
            "Your max_length is set to 142, but you input_length is only 33. You might consider decreasing max_length manually, e.g. summarizer('...', max_length=16)\n"
          ]
        },
        {
          "metadata": {
            "tags": null
          },
          "name": "stdout",
          "output_type": "stream",
          "text": [
            "12\n",
            "[[{'summary_text': ' Gauri asks kernel rathor to take next part of interview right. Okay okay okay Gauri nice talking to you , thankyou sir . Gauri says she wants kernel to take part in interview right now. Gauri: \"I am happy to talk to Gauri again. I am very happy to see the end of the interview\"'}], 'Okay okay Gauri nice talking to you , thankyou sir , and  I request kernel rathor sir to take next part of interview Right.']\n"
          ]
        },
        {
          "metadata": {
            "tags": null
          },
          "name": "stderr",
          "output_type": "stream",
          "text": [
            "Your max_length is set to 142, but you input_length is only 7. You might consider decreasing max_length manually, e.g. summarizer('...', max_length=3)\n"
          ]
        },
        {
          "metadata": {
            "tags": null
          },
          "name": "stdout",
          "output_type": "stream",
          "text": [
            "14\n",
            "[[{'summary_text': \" Thankyou so much sir. Thank you so much for your kind of kind of words . I love you all over the world. I can't wait to hear from you again. I'm so happy to see you back in the U.S. for the first time.\"}], 'Thankyou so much sir']\n"
          ]
        },
        {
          "metadata": {
            "tags": null
          },
          "name": "stderr",
          "output_type": "stream",
          "text": [
            "Your max_length is set to 142, but you input_length is only 4. You might consider decreasing max_length manually, e.g. summarizer('...', max_length=2)\n"
          ]
        },
        {
          "metadata": {
            "tags": null
          },
          "name": "stdout",
          "output_type": "stream",
          "text": [
            "16\n",
            "[[{'summary_text': \" CNN.com will feature iReporter photos in a weekly Travel Snapshots gallery . Please submit your best shots of the day for next week's gallery of snapshots . Visit http://www.dailymailonline.com/Travel next Friday for a new look at the gallery of iReporters.com .\"}], 'Good afternoon']\n"
          ]
        },
        {
          "metadata": {
            "tags": null
          },
          "name": "stderr",
          "output_type": "stream",
          "text": [
            "Your max_length is set to 142, but you input_length is only 5. You might consider decreasing max_length manually, e.g. summarizer('...', max_length=2)\n"
          ]
        },
        {
          "metadata": {
            "tags": null
          },
          "name": "stdout",
          "output_type": "stream",
          "text": [
            "18\n",
            "[[{'summary_text': \" Good afternoon sir. Good afternoon Sir. I'm going to tell you what I really want to do . I'm looking forward to seeing you again. Please send your best wishes to see if you know you can still see you in good spirits . Have you ever seen him? Please email him to say hello to him.\"}], 'Good afternoon sir']\n"
          ]
        },
        {
          "metadata": {
            "tags": null
          },
          "name": "stderr",
          "output_type": "stream",
          "text": [
            "Your max_length is set to 142, but you input_length is only 4. You might consider decreasing max_length manually, e.g. summarizer('...', max_length=2)\n"
          ]
        },
        {
          "metadata": {
            "tags": null
          },
          "name": "stdout",
          "output_type": "stream",
          "text": [
            "20\n",
            "[[{'summary_text': \" All prepare for the first time in a week to prepare for President Obama's visit to the U.S. House of Representatives in Washington, D.C. Rep. Joe Biden is scheduled to appear on CNN.com Live on Sunday at 9 p.m. ET .\"}], 'All prepare']\n"
          ]
        },
        {
          "metadata": {
            "tags": null
          },
          "name": "stderr",
          "output_type": "stream",
          "text": [
            "Your max_length is set to 142, but you input_length is only 4. You might consider decreasing max_length manually, e.g. summarizer('...', max_length=2)\n"
          ]
        },
        {
          "metadata": {
            "tags": null
          },
          "name": "stdout",
          "output_type": "stream",
          "text": [
            "22\n",
            "[[{'summary_text': ' Yes sir. Yes sir . Yes sir, please please please tell me . Please tell us what you want to do . Yes, please. Yes, yes, yes. Yes. Yes . No, no, yes sir. No, yes . No. No. I want to say yes .'}], 'Yes sir']\n"
          ]
        },
        {
          "metadata": {
            "tags": null
          },
          "name": "stderr",
          "output_type": "stream",
          "text": [
            "Your max_length is set to 142, but you input_length is only 20. You might consider decreasing max_length manually, e.g. summarizer('...', max_length=10)\n"
          ]
        },
        {
          "metadata": {
            "tags": null
          },
          "name": "stdout",
          "output_type": "stream",
          "text": [
            "24\n",
            "[[{'summary_text': ' Okay Tell us which other campus interviews have you appeared for and what has been the results? Have you ever appeared for a campus interview? Tell us what you have done and what you think about the results of the interviews? Send us your thoughts to iReport@mailonline.com .'}], 'Okay Tell us which other campus interviews Have you appeared for and what has been the results?']\n"
          ]
        },
        {
          "metadata": {
            "tags": null
          },
          "name": "stderr",
          "output_type": "stream",
          "text": [
            "Your max_length is set to 142, but you input_length is only 59. You might consider decreasing max_length manually, e.g. summarizer('...', max_length=29)\n"
          ]
        },
        {
          "metadata": {
            "tags": null
          },
          "name": "stdout",
          "output_type": "stream",
          "text": [
            "26\n",
            "[[{'summary_text': \" So I have interviewed for darnet, which is an depor only and I got selected for it . I also interviewed for gateway industries. I got to the interview part but was not selected . So that's it. I've only given these interviews. So that is it .\"}], 'So I have interviewed for darnet, which is an depor only and I got selected for it.', 'I also interviewed for gateway industries.', \"I was not selected in the interview I got to the interview part but was not selected So that's it.\", \"I've only given these interviews.\"]\n"
          ]
        },
        {
          "metadata": {
            "tags": null
          },
          "name": "stderr",
          "output_type": "stream",
          "text": [
            "Your max_length is set to 142, but you input_length is only 15. You might consider decreasing max_length manually, e.g. summarizer('...', max_length=7)\n"
          ]
        },
        {
          "metadata": {
            "tags": null
          },
          "name": "stdout",
          "output_type": "stream",
          "text": [
            "28\n",
            "[[{'summary_text': \" Okay Have you analyzed Why you didn't get selected for gateway? Why not you get selected by gateway? Okay. Okay. Why not us selected? Why didn't we get selected to gateway? Please submit your analysis for the next week's list of reasons why you were selected to be selected .\"}], \"Okay Have you analyzed Why you didn't get selected for gateway?\"]\n"
          ]
        },
        {
          "metadata": {
            "tags": null
          },
          "name": "stderr",
          "output_type": "stream",
          "text": [
            "Your max_length is set to 142, but you input_length is only 22. You might consider decreasing max_length manually, e.g. summarizer('...', max_length=11)\n"
          ]
        },
        {
          "metadata": {
            "tags": null
          },
          "name": "stdout",
          "output_type": "stream",
          "text": [
            "30\n",
            "[[{'summary_text': ' Sir in gateway I might have not answered technical questions very well, compared to the other candidates. Sir in gatekeeper I might not have answered the technical questions . Sir in his first interview, he said: ‘I might have . not answered . very well . compared to other candidates’'}], 'Sir in gateway I might have not answered the technical questions very well as compared to the other candidates.']\n"
          ]
        },
        {
          "metadata": {
            "tags": null
          },
          "name": "stderr",
          "output_type": "stream",
          "text": [
            "Your max_length is set to 142, but you input_length is only 14. You might consider decreasing max_length manually, e.g. summarizer('...', max_length=7)\n"
          ]
        },
        {
          "metadata": {
            "tags": null
          },
          "name": "stdout",
          "output_type": "stream",
          "text": [
            "32\n",
            "[[{'summary_text': ' TCS interview will be aired on November 11 at 8pm ET . Interview will be on November 14 at 8.30pm ET on CNN.com.com Live . Follow CNN Living on Facebook and Twitter for more information about TCS interviews.com/Follow CNN Living .'}], 'Okay so how have you prepared for TCS interview now?']\n"
          ]
        },
        {
          "metadata": {
            "tags": null
          },
          "name": "stderr",
          "output_type": "stream",
          "text": [
            "Your max_length is set to 142, but you input_length is only 40. You might consider decreasing max_length manually, e.g. summarizer('...', max_length=20)\n"
          ]
        },
        {
          "metadata": {
            "tags": null
          },
          "name": "stdout",
          "output_type": "stream",
          "text": [
            "34\n",
            "[[{'summary_text': \" Sir I have an enhanced my technical skills I have been preparing for the core subjects, and I've been doing coding almost every day . So I think that I prepared quite well For Tcs. Sir I'm confident that I will be able to do well at the end of the year .\"}], \"Sir I have an enhanced my technical skills I have been preparing for the core subjects, and I've been doing coding almost every day So I think that I prepared quite well For Tcs.\"]\n"
          ]
        },
        {
          "metadata": {
            "tags": null
          },
          "name": "stderr",
          "output_type": "stream",
          "text": [
            "Your max_length is set to 142, but you input_length is only 18. You might consider decreasing max_length manually, e.g. summarizer('...', max_length=9)\n"
          ]
        },
        {
          "metadata": {
            "tags": null
          },
          "name": "stdout",
          "output_type": "stream",
          "text": [
            "36\n",
            "[[{'summary_text': ' Gauri tell me what are your future plans? Okay ahhh umm  Gauri tells me what she plans to do with her career . Gauri says she has no plans for her life . She says she wants to see more of her career as a model and actress .'}], 'Okay ahhh umm  Gauri tell me what are your future plans?']\n"
          ]
        },
        {
          "metadata": {
            "tags": null
          },
          "name": "stderr",
          "output_type": "stream",
          "text": [
            "Your max_length is set to 142, but you input_length is only 14. You might consider decreasing max_length manually, e.g. summarizer('...', max_length=7)\n"
          ]
        },
        {
          "metadata": {
            "tags": null
          },
          "name": "stdout",
          "output_type": "stream",
          "text": [
            "38\n",
            "[[{'summary_text': \" Sir my future plans sir if I join TCS or otherwise if I joined TCS, or otherwise . Sir my plans sir are Sir Myles' future plans Sir Sir Sir if he joins TCS . Sir Sir my . future plans are Sir Sir . if I Join TCS \\xa0or otherwise, Sir Sir I'm not sure if I want to join .\"}], 'Sir my future plans sir if I join TCS or otherwise']\n"
          ]
        },
        {
          "metadata": {
            "tags": null
          },
          "name": "stderr",
          "output_type": "stream",
          "text": [
            "Your max_length is set to 142, but you input_length is only 8. You might consider decreasing max_length manually, e.g. summarizer('...', max_length=4)\n"
          ]
        },
        {
          "metadata": {
            "tags": null
          },
          "name": "stdout",
          "output_type": "stream",
          "text": [
            "40\n",
            "[[{'summary_text': ' What are your future plans ? Share your pictures with us at iReport.com . Please submit your photos of your future in the gallery for a new gallery . Visit www.report.com/pictures/images for more information about your future . Visit http://www.pictures@picturesonline.com for more photos .'}], 'What are your future plans ?']\n"
          ]
        },
        {
          "metadata": {
            "tags": null
          },
          "name": "stderr",
          "output_type": "stream",
          "text": [
            "Your max_length is set to 142, but you input_length is only 54. You might consider decreasing max_length manually, e.g. summarizer('...', max_length=27)\n"
          ]
        },
        {
          "metadata": {
            "tags": null
          },
          "name": "stdout",
          "output_type": "stream",
          "text": [
            "42\n",
            "[[{'summary_text': \" Sir I want to join a software company and a work for it, he says . And he wants to a learn as much languages and as much skills as I can . He also wants to achieve great success so that he's satisfied with what he's learned . Sir I Want to a join software company, he said .\"}], 'Sir I want to join a software company and a work for it.', \"And I want to a learn as much ah like as much languages and as much skills as I can and I also want to achieve great success so that I'm satisfied with what I've learned\"]\n"
          ]
        },
        {
          "metadata": {
            "tags": null
          },
          "name": "stderr",
          "output_type": "stream",
          "text": [
            "Your max_length is set to 142, but you input_length is only 17. You might consider decreasing max_length manually, e.g. summarizer('...', max_length=8)\n"
          ]
        },
        {
          "metadata": {
            "tags": null
          },
          "name": "stdout",
          "output_type": "stream",
          "text": [
            "44\n",
            "[[{'summary_text': ' What do you think are the reasons for youngsters switching over jobs? Please share your thoughts with us at CNN iReport.com . Have you ever been to a job? Please submit your thoughts at the end of the article. Please email us at http://www.mailonlineonline.com/news/change/changechange .'}], 'Okay ah what do you think are the reasons for youngsters switching over jobs?']\n"
          ]
        },
        {
          "metadata": {
            "tags": null
          },
          "name": "stderr",
          "output_type": "stream",
          "text": [
            "Your max_length is set to 142, but you input_length is only 37. You might consider decreasing max_length manually, e.g. summarizer('...', max_length=18)\n"
          ]
        },
        {
          "metadata": {
            "tags": null
          },
          "name": "stdout",
          "output_type": "stream",
          "text": [
            "46\n",
            "[[{'summary_text': ' Sir maybe it is job satisfaction because they enter a company without a a a seeing the background of the company and then they later find out that the company was not suitable for them . Sir Maybe it is that they enter companies without a view of the background and then find out they are not suitable .'}], 'Sir maybe it is job satisfaction because they enter a company without a a seeing the background of the company and then they later find out that the company was not suitable for them.']\n"
          ]
        },
        {
          "metadata": {
            "tags": null
          },
          "name": "stderr",
          "output_type": "stream",
          "text": [
            "Your max_length is set to 142, but you input_length is only 30. You might consider decreasing max_length manually, e.g. summarizer('...', max_length=15)\n"
          ]
        },
        {
          "metadata": {
            "tags": null
          },
          "name": "stdout",
          "output_type": "stream",
          "text": [
            "48\n",
            "[[{'summary_text': \" What are the three important things ah that ah one should consider before joining any organization as a fresher? That's for you, what are the 3 important things you should consider? What's the three most important things that ah should consider, and what's the most important thing you should do?\"}], 'Okay.', \"That's for you, what are the three important things ah that ah one should consider before joining any organization as a fresher?\"]\n"
          ]
        },
        {
          "metadata": {
            "tags": null
          },
          "name": "stderr",
          "output_type": "stream",
          "text": [
            "Your max_length is set to 142, but you input_length is only 93. You might consider decreasing max_length manually, e.g. summarizer('...', max_length=46)\n"
          ]
        },
        {
          "metadata": {
            "tags": null
          },
          "name": "stdout",
          "output_type": "stream",
          "text": [
            "50\n",
            "[[{'summary_text': ' The one should look if there is a lot to learn from the company, I mean, there should be a very steep like growing curve in the company. Secondly, they should be like the colleagues and everything should be very frank so that they help you in every way . For me,  for me there should have a brand name so that there is  satisfaction that yes I have achieved a level .'}], 'So firstly the one should look if there is a lot to learn from the company, I mean, there should be a very steep like growing curve in the company.', 'Secondly, they should be like the colleagues and everything should be very frank so that they help you in every way and thirdly  for me there should be a brand name so that there is a satisfaction that yes I have achieved a level and now I can go to the next level.']\n"
          ]
        },
        {
          "metadata": {
            "tags": null
          },
          "name": "stderr",
          "output_type": "stream",
          "text": [
            "Your max_length is set to 142, but you input_length is only 10. You might consider decreasing max_length manually, e.g. summarizer('...', max_length=5)\n"
          ]
        },
        {
          "metadata": {
            "tags": null
          },
          "name": "stdout",
          "output_type": "stream",
          "text": [
            "52\n",
            "[[{'summary_text': ' Okay technically technically what gives you job satisfaction? What do you give you the job satisfaction of your job? What gives you that satisfaction? \"What gives you a job satisfaction?\" \"I love my job,\" she says. \"I like my job. I like it. I love it\"'}], 'Okay technically what gives you job satisfaction?']\n"
          ]
        },
        {
          "metadata": {
            "tags": null
          },
          "name": "stderr",
          "output_type": "stream",
          "text": [
            "Your max_length is set to 142, but you input_length is only 25. You might consider decreasing max_length manually, e.g. summarizer('...', max_length=12)\n"
          ]
        },
        {
          "metadata": {
            "tags": null
          },
          "name": "stdout",
          "output_type": "stream",
          "text": [
            "54\n",
            "[[{'summary_text': ' \"I want to go with latest technical skills, like not obsolete technologies, but the latest technologies,\" says Sir Richard Hammond . Sir Hammond says he wants to go ahead with the latest technology skills, not obsolete technology, but latest technologies . He says he is looking to take on the challenge of the world\\'s most powerful technology .'}], 'Sir technically the latest I want to go with latest technical skills, like not obsolete technologies, but the latest technologies.']\n"
          ]
        },
        {
          "metadata": {
            "tags": null
          },
          "name": "stderr",
          "output_type": "stream",
          "text": [
            "Your max_length is set to 142, but you input_length is only 12. You might consider decreasing max_length manually, e.g. summarizer('...', max_length=6)\n"
          ]
        },
        {
          "metadata": {
            "tags": null
          },
          "name": "stdout",
          "output_type": "stream",
          "text": [
            "56\n",
            "[[{'summary_text': \" So how does TCS fit into your requirement? So how do you fit into that requirement? TCS fits into your requirements? So does it fit into a requirement? How do you know what you need to do to make sure you're going to be able to get the best job?\"}], 'So how does TCS fit into your requirement?']\n"
          ]
        },
        {
          "metadata": {
            "tags": null
          },
          "name": "stderr",
          "output_type": "stream",
          "text": [
            "Your max_length is set to 142, but you input_length is only 42. You might consider decreasing max_length manually, e.g. summarizer('...', max_length=21)\n"
          ]
        },
        {
          "metadata": {
            "tags": null
          },
          "name": "stdout",
          "output_type": "stream",
          "text": [
            "58\n",
            "[[{'summary_text': ' Sir tcs changes with technologies according to the needs of the people of the . or so there is not a there is no fixed technology that they use they use . They use according to . the clients which is very well, says Sir Tcs. Sir TCS .'}], 'Sir tcs changes with technologies according to the needs of the people of the or so there is not a there is no fixed technology that they use they use according to the clients which is very well.']\n"
          ]
        },
        {
          "metadata": {
            "tags": null
          },
          "name": "stderr",
          "output_type": "stream",
          "text": [
            "Your max_length is set to 142, but you input_length is only 20. You might consider decreasing max_length manually, e.g. summarizer('...', max_length=10)\n"
          ]
        },
        {
          "metadata": {
            "tags": null
          },
          "name": "stdout",
          "output_type": "stream",
          "text": [
            "60\n",
            "[[{'summary_text': ' which are the major clients of TCS? Can you name three or four of them? TCS is a global technology consulting firm that is based in New York City, New York, Washington, D.C. which are based in the U.S. can name a few of the clients of the company .'}], 'which are the major clients of TCS?', 'Can you name three or four of them?']\n"
          ]
        },
        {
          "metadata": {
            "tags": null
          },
          "name": "stderr",
          "output_type": "stream",
          "text": [
            "Your max_length is set to 142, but you input_length is only 15. You might consider decreasing max_length manually, e.g. summarizer('...', max_length=7)\n"
          ]
        },
        {
          "metadata": {
            "tags": null
          },
          "name": "stdout",
          "output_type": "stream",
          "text": [
            "62\n",
            "[[{'summary_text': \" I'm sorry sir but I'm not aware of the clients. I'm sure you're aware of your clients. Please tell me if you have any clients you have clients . I don't know what clients are, I'm just not sure if they have clients, it's not a client .\"}], \"I'm sorry sir but I'm not aware of the clients.\"]\n"
          ]
        },
        {
          "metadata": {
            "tags": null
          },
          "name": "stderr",
          "output_type": "stream",
          "text": [
            "Your max_length is set to 142, but you input_length is only 11. You might consider decreasing max_length manually, e.g. summarizer('...', max_length=5)\n"
          ]
        },
        {
          "metadata": {
            "tags": null
          },
          "name": "stdout",
          "output_type": "stream",
          "text": [
            "64\n",
            "[[{'summary_text': ' Okay sure anything that you want to ask? Okay . Okay sure . Okay . What do you have to say to anyone who has a question? Please email us at CNN.com/Heroes.com for more information . Please submit your questions to the Daily Mail Online home .'}], 'Okay sure anything that you want to ask?']\n"
          ]
        },
        {
          "metadata": {
            "tags": null
          },
          "name": "stderr",
          "output_type": "stream",
          "text": [
            "Your max_length is set to 142, but you input_length is only 21. You might consider decreasing max_length manually, e.g. summarizer('...', max_length=10)\n"
          ]
        },
        {
          "metadata": {
            "tags": null
          },
          "name": "stdout",
          "output_type": "stream",
          "text": [
            "66\n",
            "[[{'summary_text': \" Sir will I be able to like fit in the company? I mean what do you think? I don't think it's a good idea, Sir . I mean, I think it would be a good thing for the company. Sir will it be a great thing for me? I think I would like fit here, Sir will you fit here?\"}], 'Sir will I be able to like fit in the company?', 'I mean what do you think?']\n"
          ]
        },
        {
          "metadata": {
            "tags": null
          },
          "name": "stderr",
          "output_type": "stream",
          "text": [
            "Your max_length is set to 142, but you input_length is only 12. You might consider decreasing max_length manually, e.g. summarizer('...', max_length=6)\n"
          ]
        },
        {
          "metadata": {
            "tags": null
          },
          "name": "stdout",
          "output_type": "stream",
          "text": [
            "68\n",
            "[[{'summary_text': ' Will you be able to fit into the company? Share your thoughts with us at CNN iReport . Share your own photos of your favorite moments of your life . Share them with us on iReport.com . Visit CNN.com/Travel next Wednesday for a new look at our gallery of snapshots .'}], 'Will you be able to fit into the company?']\n"
          ]
        },
        {
          "metadata": {
            "tags": null
          },
          "name": "stderr",
          "output_type": "stream",
          "text": [
            "Your max_length is set to 142, but you input_length is only 4. You might consider decreasing max_length manually, e.g. summarizer('...', max_length=2)\n"
          ]
        },
        {
          "metadata": {
            "tags": null
          },
          "name": "stdout",
          "output_type": "stream",
          "text": [
            "70\n",
            "[[{'summary_text': ' Yes sir. Yes sir . Yes sir, please please please tell me . Please tell us what you want to do . Yes, please. Yes, yes, yes. Yes. Yes . No, no, yes sir. No, yes . No. No. I want to say yes .'}], 'Yes sir']\n"
          ]
        },
        {
          "metadata": {
            "tags": null
          },
          "name": "stderr",
          "output_type": "stream",
          "text": [
            "Your max_length is set to 142, but you input_length is only 44. You might consider decreasing max_length manually, e.g. summarizer('...', max_length=22)\n"
          ]
        },
        {
          "metadata": {
            "tags": null
          },
          "name": "stdout",
          "output_type": "stream",
          "text": [
            "72\n",
            "[[{'summary_text': \" As per your own analysis, you said you're a good team player and what requirements you said for a good job in case you have those qualities, I'm sure you will be able to fit into. Yeah, as per my own analysis . I'm not sure whether you will fit into the role, but you will have to be a team player .\"}], \"Yeah, as per your own analysis, you said you're a good team player and what requirements you said for a good job in case you have those qualities I'm sure you will be able to fit into.\"]\n"
          ]
        },
        {
          "metadata": {
            "tags": null
          },
          "name": "stderr",
          "output_type": "stream",
          "text": [
            "Your max_length is set to 142, but you input_length is only 14. You might consider decreasing max_length manually, e.g. summarizer('...', max_length=7)\n"
          ]
        },
        {
          "metadata": {
            "tags": null
          },
          "name": "stdout",
          "output_type": "stream",
          "text": [
            "74\n",
            "[[{'summary_text': ' Okay, sir, thank you any more suggestions for me? Please come up with your own suggestions for a new name . Please submit your suggestions for the new name of your new name. Please submit a photo of your favorite new name for next week’s new name, please .'}], 'Okay, sir, thank you any more suggestions for me?']\n"
          ]
        },
        {
          "metadata": {
            "tags": null
          },
          "name": "stderr",
          "output_type": "stream",
          "text": [
            "Your max_length is set to 142, but you input_length is only 12. You might consider decreasing max_length manually, e.g. summarizer('...', max_length=6)\n"
          ]
        },
        {
          "metadata": {
            "tags": null
          },
          "name": "stdout",
          "output_type": "stream",
          "text": [
            "76\n",
            "[[{'summary_text': ' \"No nothing more adventure will finally give his remarks,\" he said . \"No. No nothing more adventures will give him the opportunity to give his speech,\" he added. \"He will give it to the world,\" he insisted. \"It\\'s a good thing for the world to know what\\'s going to happen.\"'}], 'No nothing more adventure will finally give his remarks.']\n"
          ]
        },
        {
          "metadata": {
            "tags": null
          },
          "name": "stderr",
          "output_type": "stream",
          "text": [
            "Your max_length is set to 142, but you input_length is only 8. You might consider decreasing max_length manually, e.g. summarizer('...', max_length=4)\n"
          ]
        },
        {
          "metadata": {
            "tags": null
          },
          "name": "stdout",
          "output_type": "stream",
          "text": [
            "78\n",
            "[[{'summary_text': \" Thank you so much sir. Thank you for your kind of words. I'm sure you'll be able to hear from you again. I'll be happy to see you back in the comments. Please send us a video of your thoughts. We'll see you in the next few days.\"}], 'Thank you so much sir.']\n"
          ]
        },
        {
          "metadata": {
            "tags": null
          },
          "name": "stderr",
          "output_type": "stream",
          "text": [
            "Your max_length is set to 142, but you input_length is only 6. You might consider decreasing max_length manually, e.g. summarizer('...', max_length=3)\n"
          ]
        },
        {
          "metadata": {
            "tags": null
          },
          "name": "stdout",
          "output_type": "stream",
          "text": [
            "80\n",
            "[[{'summary_text': \" All the best right right right from the start of this week's coverage of the U.S. election . CNN.com will feature iReporter photos in a weekly Travel Snapshots gallery . Please submit your best shots of the election for next week's gallery . Visit CNN iReport.com/Travel next Friday for a new gallery of snapshots .\"}], 'All the best right']\n"
          ]
        },
        {
          "metadata": {
            "tags": null
          },
          "name": "stderr",
          "output_type": "stream",
          "text": [
            "Your max_length is set to 142, but you input_length is only 4. You might consider decreasing max_length manually, e.g. summarizer('...', max_length=2)\n"
          ]
        },
        {
          "metadata": {
            "tags": null
          },
          "name": "stdout",
          "output_type": "stream",
          "text": [
            "82\n",
            "[[{'summary_text': ' Gauri Gauri is the author of a new book, \"Gauriauri\" Gauri . Gauri was born in India . She is famous for her work in the U.S. and travels around the world . She has been married for more than 30 years and has a daughter .'}], 'Gauri']\n"
          ]
        },
        {
          "metadata": {
            "tags": null
          },
          "name": "stderr",
          "output_type": "stream",
          "text": [
            "Your max_length is set to 142, but you input_length is only 4. You might consider decreasing max_length manually, e.g. summarizer('...', max_length=2)\n"
          ]
        },
        {
          "metadata": {
            "tags": null
          },
          "name": "stdout",
          "output_type": "stream",
          "text": [
            "84\n",
            "[[{'summary_text': ' Yes sir. Yes sir . Yes sir, please please please tell me . Please tell us what you want to do . Yes, please. Yes, yes, yes. Yes. Yes . No, no, yes sir. No, yes . No. No. I want to say yes .'}], 'Yes sir']\n"
          ]
        },
        {
          "metadata": {
            "tags": null
          },
          "name": "stderr",
          "output_type": "stream",
          "text": [
            "Your max_length is set to 142, but you input_length is only 21. You might consider decreasing max_length manually, e.g. summarizer('...', max_length=10)\n"
          ]
        },
        {
          "metadata": {
            "tags": null
          },
          "name": "stdout",
          "output_type": "stream",
          "text": [
            "86\n",
            "[[{'summary_text': ' What is your basically the aim you want to go into software companies or anything more than that? What is the aim of your goal? \"I want to be in software companies,\" he says. \"I don\\'t want to do anything more that that,\" he asks. \"What\\'s your aim?\"'}], 'What is your basically the aim you want to go into software companies or anything more than that?']\n"
          ]
        },
        {
          "metadata": {
            "tags": null
          },
          "name": "stderr",
          "output_type": "stream",
          "text": [
            "Your max_length is set to 142, but you input_length is only 14. You might consider decreasing max_length manually, e.g. summarizer('...', max_length=7)\n"
          ]
        },
        {
          "metadata": {
            "tags": null
          },
          "name": "stdout",
          "output_type": "stream",
          "text": [
            "88\n",
            "[[{'summary_text': ' No sir I want to go into software companies that is aimed at software companies, he says . No sir, he wants to focus on software companies like Apple, Google, Apple, Microsoft, Apple and Google . He wants to work in software companies such as Apple, Facebook, Google and Microsoft .'}], 'No sir I want to go into software companies that is aim']\n"
          ]
        },
        {
          "metadata": {
            "tags": null
          },
          "name": "stderr",
          "output_type": "stream",
          "text": [
            "Your max_length is set to 142, but you input_length is only 18. You might consider decreasing max_length manually, e.g. summarizer('...', max_length=9)\n"
          ]
        },
        {
          "metadata": {
            "tags": null
          },
          "name": "stdout",
          "output_type": "stream",
          "text": [
            "90\n",
            "[[{'summary_text': \" You don't want to go for any higher studies or entrepreneurship like. okay. You want to focus on entrepreneurship or entrepreneurship . okay. Don't go for higher studies like. higher studies, entrepreneurship like . okay . Don't be afraid of going for higher education or entrepreneurship, she says .\"}], 'okay.', \"You don't want to go for any higher studies or entrepreneurship like.\"]\n"
          ]
        },
        {
          "metadata": {
            "tags": null
          },
          "name": "stderr",
          "output_type": "stream",
          "text": [
            "Your max_length is set to 142, but you input_length is only 34. You might consider decreasing max_length manually, e.g. summarizer('...', max_length=17)\n"
          ]
        },
        {
          "metadata": {
            "tags": null
          },
          "name": "stdout",
          "output_type": "stream",
          "text": [
            "92\n",
            "[[{'summary_text': ' No sir entrepreneurship No. but the highest studies many of the companies Tcs also provide like conc simultaneously highest studies . So that may also be a very good option. No sir entrepreneur No. entrepreneurship No . entrepreneurship No  but  but the best studies many companies also provide .'}], 'No sir entrepreneurship No  but the highest studies many of the companies Tcs also provide like conc simultaneously highest studies So that may also be a very good option.']\n"
          ]
        },
        {
          "metadata": {
            "tags": null
          },
          "name": "stderr",
          "output_type": "stream",
          "text": [
            "Your max_length is set to 142, but you input_length is only 60. You might consider decreasing max_length manually, e.g. summarizer('...', max_length=30)\n"
          ]
        },
        {
          "metadata": {
            "tags": null
          },
          "name": "stdout",
          "output_type": "stream",
          "text": [
            "94\n",
            "[[{'summary_text': \" The packages just develop what we are offering then what you will do? Or at the same time Meanwhile you're getting the better offer than Tcs from another organization which is not a tier one organization but tier two organization but the packages just become more and more of a package .\"}], \"Okay for example you have got you have got the offer from Tcs Or at the same time Meanwhile you're getting the better offer than Tcs from another organization which is not a tier one organization but tier two organization but the packages just develop what we are offering then what you will do?\"]\n"
          ]
        },
        {
          "metadata": {
            "tags": null
          },
          "name": "stderr",
          "output_type": "stream",
          "text": [
            "Your max_length is set to 142, but you input_length is only 13. You might consider decreasing max_length manually, e.g. summarizer('...', max_length=6)\n"
          ]
        },
        {
          "metadata": {
            "tags": null
          },
          "name": "stdout",
          "output_type": "stream",
          "text": [
            "96\n",
            "[[{'summary_text': ' a sir I compare both the companies in terms of terms of the time they spent together . a sir . I compare them to each other. a sir, a sir. I compare this to the time I spent with the U.S. government. a . sir . A sir .'}], 'a sir I compare both the companies in terms of the']\n"
          ]
        },
        {
          "metadata": {
            "tags": null
          },
          "name": "stderr",
          "output_type": "stream",
          "text": [
            "Your max_length is set to 142, but you input_length is only 59. You might consider decreasing max_length manually, e.g. summarizer('...', max_length=29)\n"
          ]
        },
        {
          "metadata": {
            "tags": null
          },
          "name": "stdout",
          "output_type": "stream",
          "text": [
            "98\n",
            "[[{'summary_text': \" The tcs is the tier one and you've got the offer from tier two it means the startup or midsize company with the package for example, we are giving you four lakh they are giving them eight lakh in that case what do you do? I’ve told the tcs. defiantly .\"}], \"defiantly I’ve told the tcs is the tier one and you've got the offer from tier two it means the startup or midsize company with the package for example, we are giving you four lakh they are giving you eight lakh in that case what do you do?\"]\n"
          ]
        },
        {
          "metadata": {
            "tags": null
          },
          "name": "stderr",
          "output_type": "stream",
          "text": [
            "Your max_length is set to 142, but you input_length is only 61. You might consider decreasing max_length manually, e.g. summarizer('...', max_length=30)\n"
          ]
        },
        {
          "metadata": {
            "tags": null
          },
          "name": "stdout",
          "output_type": "stream",
          "text": [
            "100\n",
            "[[{'summary_text': \" Sir I choose Tcs only because Tcs is like almost hundred and fifty years old company so it it has a very good job security . And as I cannot really trust a startup because they are new in the industry, and that's why there is there might be some trust issues so i .\"}], ' Sir I choose Tcs only because Tcs is like almost hundred and fifty years old company so it it has a very good job security.', \"And as I cannot really trust a startup because they are new in the industry, and that's why there is there might be some trust issues so i\"]\n"
          ]
        },
        {
          "metadata": {
            "tags": null
          },
          "name": "stderr",
          "output_type": "stream",
          "text": [
            "Your max_length is set to 142, but you input_length is only 11. You might consider decreasing max_length manually, e.g. summarizer('...', max_length=5)\n"
          ]
        },
        {
          "metadata": {
            "tags": null
          },
          "name": "stdout",
          "output_type": "stream",
          "text": [
            "102\n",
            "[[{'summary_text': \" At least salary does not matter for you ? At least Salary does not matters for you . At least salaries do not matter, says CNN.com's John Defterios.com.com . In the U.S. state of Washington, D.C., the state of the nation's capital, is located in Washington, DC .\"}], 'At least salary does not matter for you ?']\n"
          ]
        },
        {
          "metadata": {
            "tags": null
          },
          "name": "stderr",
          "output_type": "stream",
          "text": [
            "Your max_length is set to 142, but you input_length is only 11. You might consider decreasing max_length manually, e.g. summarizer('...', max_length=5)\n"
          ]
        },
        {
          "metadata": {
            "tags": null
          },
          "name": "stdout",
          "output_type": "stream",
          "text": [
            "104\n",
            "[[{'summary_text': \" Sir job security is more important than a salary, says Sir Sir Sir . Sir Sir Michael Clarke-Clarke says job security and job security are more important . Sir Clarke says he wants job security, not salary, but job security . He says he has 'nothing to give' as a result of his success in his career .\"}], 'Sir job security is more important than a salary']\n"
          ]
        },
        {
          "metadata": {
            "tags": null
          },
          "name": "stderr",
          "output_type": "stream",
          "text": [
            "Your max_length is set to 142, but you input_length is only 24. You might consider decreasing max_length manually, e.g. summarizer('...', max_length=12)\n"
          ]
        },
        {
          "metadata": {
            "tags": null
          },
          "name": "stdout",
          "output_type": "stream",
          "text": [
            "106\n",
            "[[{'summary_text': ' If you will not perform well in the tcs also you can get the job insecurity in tcs . You can get a job insecurity also in the role of a tcs. if you will . not . perform well, you can also get the . job insecurity . if you are not . performing well in  tcs, you will have to perform well .'}], 'if you will not perform well in the tcs also you can get the job insecurity in tcs also.']\n"
          ]
        },
        {
          "metadata": {
            "tags": null
          },
          "name": "stderr",
          "output_type": "stream",
          "text": [
            "Your max_length is set to 142, but you input_length is only 24. You might consider decreasing max_length manually, e.g. summarizer('...', max_length=12)\n"
          ]
        },
        {
          "metadata": {
            "tags": null
          },
          "name": "stdout",
          "output_type": "stream",
          "text": [
            "108\n",
            "[[{'summary_text': ' I would like from my end there will be no complaints from Tcs. Sir but I will perform good and I will ... perform good,\" he said . \"I would like to see no complaints\" from the Tcs, he said, but he would be happy if he performed good .'}], 'Sir but I will perform good and I would like from my end there will be no complaints from Tcs.']\n"
          ]
        },
        {
          "metadata": {
            "tags": null
          },
          "name": "stderr",
          "output_type": "stream",
          "text": [
            "Your max_length is set to 142, but you input_length is only 4. You might consider decreasing max_length manually, e.g. summarizer('...', max_length=2)\n"
          ]
        },
        {
          "metadata": {
            "tags": null
          },
          "name": "stdout",
          "output_type": "stream",
          "text": [
            "110\n",
            "[[{'summary_text': ' Okay yeah yeah. Okay yeah . Okay yeah. What\\'s going on here? What\\'s really going on with this? \"I\\'m going on to tell you what\\'s really happening,\" he says . What\\'s next? \"What\\'s next?\" he asks. \"What really happened?\" he says.'}], 'Okay yeah']\n"
          ]
        },
        {
          "metadata": {
            "tags": null
          },
          "name": "stderr",
          "output_type": "stream",
          "text": [
            "Your max_length is set to 142, but you input_length is only 4. You might consider decreasing max_length manually, e.g. summarizer('...', max_length=2)\n"
          ]
        },
        {
          "metadata": {
            "tags": null
          },
          "name": "stdout",
          "output_type": "stream",
          "text": [
            "112\n",
            "[[{'summary_text': ' Gauri Gauri is the author of a new book, \"Gauriauri\" Gauri . Gauri was born in India . She is famous for her work in the U.S. and travels around the world . She has been married for more than 30 years and has a daughter .'}], 'Gauri']\n"
          ]
        },
        {
          "metadata": {
            "tags": null
          },
          "name": "stderr",
          "output_type": "stream",
          "text": [
            "Your max_length is set to 142, but you input_length is only 5. You might consider decreasing max_length manually, e.g. summarizer('...', max_length=2)\n"
          ]
        },
        {
          "metadata": {
            "tags": null
          },
          "name": "stdout",
          "output_type": "stream",
          "text": [
            "114\n",
            "[[{'summary_text': \" Good afternoon sir. Good afternoon Sir. I'm going to tell you what I really want to do . I'm looking forward to seeing you again. Please send your best wishes to see if you know you can still see you in good spirits . Have you ever seen him? Please email him to say hello to him.\"}], 'Good afternoon sir']\n"
          ]
        },
        {
          "metadata": {
            "tags": null
          },
          "name": "stderr",
          "output_type": "stream",
          "text": [
            "Your max_length is set to 142, but you input_length is only 11. You might consider decreasing max_length manually, e.g. summarizer('...', max_length=5)\n"
          ]
        },
        {
          "metadata": {
            "tags": null
          },
          "name": "stdout",
          "output_type": "stream",
          "text": [
            "116\n",
            "[[{'summary_text': ' Good afternoon ah which domain you feel comfortable? Please tell us if you like to use the domain name of your preferred domain . I like to see your domain name in which domain name is appropriate . Please choose which domain is appropriate for your use of the domain, please use it .'}], 'Good afternoon ah which domain you feel comfortable?']\n"
          ]
        },
        {
          "metadata": {
            "tags": null
          },
          "name": "stderr",
          "output_type": "stream",
          "text": [
            "Your max_length is set to 142, but you input_length is only 16. You might consider decreasing max_length manually, e.g. summarizer('...', max_length=8)\n"
          ]
        },
        {
          "metadata": {
            "tags": null
          },
          "name": "stdout",
          "output_type": "stream",
          "text": [
            "118\n",
            "[[{'summary_text': ' Core subject subjects programming C++ and DBMS . Yes sir. Ah sir . Ah sir. Yes sir . Core subject subject subjects . Programming C++ , DBMS programming C ++ and programming CMS DBMS is a core subject of the subject subject . Yes, yes .'}], 'Ah sir core subject subjects programming C++ , DBMS Yes sir.']\n"
          ]
        },
        {
          "metadata": {
            "tags": null
          },
          "name": "stderr",
          "output_type": "stream",
          "text": [
            "Your max_length is set to 142, but you input_length is only 14. You might consider decreasing max_length manually, e.g. summarizer('...', max_length=7)\n"
          ]
        },
        {
          "metadata": {
            "tags": null
          },
          "name": "stdout",
          "output_type": "stream",
          "text": [
            "120\n",
            "[[{'summary_text': ' So, give me a concept to implement snake and ladder . So, please give me an idea of how to use the ladder and snake to get a ladder to reach the top of the pyramid. So, how do you do it? Please give us a concept of snake-and-ladders .'}], 'So, give me a concept to implement snake and ladder.']\n"
          ]
        },
        {
          "metadata": {
            "tags": null
          },
          "name": "stderr",
          "output_type": "stream",
          "text": [
            "Your max_length is set to 142, but you input_length is only 13. You might consider decreasing max_length manually, e.g. summarizer('...', max_length=6)\n"
          ]
        },
        {
          "metadata": {
            "tags": null
          },
          "name": "stdout",
          "output_type": "stream",
          "text": [
            "122\n",
            "[[{'summary_text': ' Snakes and Ladders can be played using any programming language . How do you play Snakes Ladders using a programming language? Do you know how to use Snakes to Ladders? Use any language or programming language to play the game using any language you can use .'}], 'implement Snakes and Ladders using any programming language?']\n"
          ]
        },
        {
          "metadata": {
            "tags": null
          },
          "name": "stderr",
          "output_type": "stream",
          "text": [
            "Your max_length is set to 142, but you input_length is only 19. You might consider decreasing max_length manually, e.g. summarizer('...', max_length=9)\n"
          ]
        },
        {
          "metadata": {
            "tags": null
          },
          "name": "stdout",
          "output_type": "stream",
          "text": [
            "124\n",
            "[[{'summary_text': \" I want to know only concept not the implementation, not the idea . I'm giving you the one minute. Okay, give me one minute . Give me a minute to tell you what you think you need to know about the project. I want you to know what you want to do with it .\"}], \"I want to know only concept not the implementation Okay I'm giving you the one minute\"]\n"
          ]
        },
        {
          "metadata": {
            "tags": null
          },
          "name": "stderr",
          "output_type": "stream",
          "text": [
            "Your max_length is set to 142, but you input_length is only 9. You might consider decreasing max_length manually, e.g. summarizer('...', max_length=4)\n"
          ]
        },
        {
          "metadata": {
            "tags": null
          },
          "name": "stdout",
          "output_type": "stream",
          "text": [
            "126\n",
            "[[{'summary_text': \" Hmm  sir can I write something? I think I'm going to write something here? I'm not sure what I would like to do . I'm sure you can't write something, but please please write something for you to see if you want to write a piece of your own .\"}], 'Hmm  sir can I write something']\n"
          ]
        },
        {
          "metadata": {
            "tags": null
          },
          "name": "stderr",
          "output_type": "stream",
          "text": [
            "Your max_length is set to 142, but you input_length is only 18. You might consider decreasing max_length manually, e.g. summarizer('...', max_length=9)\n"
          ]
        },
        {
          "metadata": {
            "tags": null
          },
          "name": "stdout",
          "output_type": "stream",
          "text": [
            "128\n",
            "[[{'summary_text': ' \"Yes yes but I need only logic right not the coding a code part.  Yes yes,\" says the author of the book . \"I need logic right.   Yes, but I don\\'t need to code code part,\" says author of \"Yes, yes, yes. Yes, yes\"'}], ' Yes yes but I need only logic right not the coding a code part.']\n"
          ]
        },
        {
          "metadata": {
            "tags": null
          },
          "name": "stderr",
          "output_type": "stream",
          "text": [
            "Your max_length is set to 142, but you input_length is only 4. You might consider decreasing max_length manually, e.g. summarizer('...', max_length=2)\n"
          ]
        },
        {
          "metadata": {
            "tags": null
          },
          "name": "stdout",
          "output_type": "stream",
          "text": [
            "130\n",
            "[[{'summary_text': \" Ok sir. Ok sir . Ok sir, please tell me what happened to you? Ok . Ok, I'm fine. Ok . I'm OK. Ok. Ok, you're OK. I'm not OK. What's next? Ok, please please. I'll be OK .\"}], 'Ok sir']\n"
          ]
        },
        {
          "metadata": {
            "tags": null
          },
          "name": "stderr",
          "output_type": "stream",
          "text": [
            "Your max_length is set to 142, but you input_length is only 5. You might consider decreasing max_length manually, e.g. summarizer('...', max_length=2)\n"
          ]
        },
        {
          "metadata": {
            "tags": null
          },
          "name": "stdout",
          "output_type": "stream",
          "text": [
            "132\n",
            "[[{'summary_text': ' Hua Gauri is a member of the world\\'s largest conservation group of conservationists . She is also known for her work in the U.S. National Geographic Geographic Geographic Network . She has published a book called \"Hua Gauri\" and \"Gauri\" in which she shares her views of her work on conservation .'}], 'Hua Gauri']\n"
          ]
        },
        {
          "metadata": {
            "tags": null
          },
          "name": "stderr",
          "output_type": "stream",
          "text": [
            "Your max_length is set to 142, but you input_length is only 12. You might consider decreasing max_length manually, e.g. summarizer('...', max_length=6)\n"
          ]
        },
        {
          "metadata": {
            "tags": null
          },
          "name": "stdout",
          "output_type": "stream",
          "text": [
            "134\n",
            "[[{'summary_text': \" Yes sir thoda thoda . ah sir we can. Yes sir . We can. We can, we can, I say . Yes sir. Ah sir, we're fine. We're fine, we say we can . We'll be in touch with you again. Please tell us what we can do .\"}], 'Yes sir thoda thoda ah sir we can']\n"
          ]
        },
        {
          "metadata": {
            "tags": null
          },
          "name": "stderr",
          "output_type": "stream",
          "text": [
            "Your max_length is set to 142, but you input_length is only 24. You might consider decreasing max_length manually, e.g. summarizer('...', max_length=12)\n"
          ]
        },
        {
          "metadata": {
            "tags": null
          },
          "name": "stdout",
          "output_type": "stream",
          "text": [
            "136\n",
            "[[{'summary_text': ' Verbaly btao to bus when I can analyze that you are going in the right direction or not . Verbaly: \"I can\\'t say if I think you\\'re doing the right way or not.\" Verbaly says he will not give up on the bus when he gets to the bus .'}], 'Verbaly btao to bus when I can analyze that you are going in the right direction or not.']\n",
            "138\n",
            "[[{'summary_text': ' A variable in which we will take a random function with the help of random function, we can derive a number between one to six . For the first for the first move, if the numbers random number is six, then we can move like we can keep a counter of the player . And then now now we can predefine the snakes for example, if at if we reach five then the the counter should like increased by 10 blocks . That is the ladder and this way we can like pre define the next .'}], 'Okay sir ah so ah firstly a we will the will like a this for example of how how many columns are there for example, I take disk of fifty the maximum we take a fifty and then now we take dice.', 'so a variable in which we will take a random function with the help of random function, we can derive a number between one to six and for the first for the first move, if the numbers random number is six, then we can move like we can keep a counter of the player.', 'so we can increase the counter with the numbers that comes in the dice.', 'And then now we can predefine the snakes for example, if at if we reach five then the the counter should like increased by 10 blocks.', 'so the counter will increase by ten block That is the ladder and this way we can like pre define the next.']\n"
          ]
        },
        {
          "metadata": {
            "tags": null
          },
          "name": "stderr",
          "output_type": "stream",
          "text": [
            "Your max_length is set to 142, but you input_length is only 61. You might consider decreasing max_length manually, e.g. summarizer('...', max_length=30)\n"
          ]
        },
        {
          "metadata": {
            "tags": null
          },
          "name": "stdout",
          "output_type": "stream",
          "text": [
            "140\n",
            "[[{'summary_text': \" How you will determine whether to you have to increment its dice value means you you own to use it's increasing the counter value in form of ladder or decreasing the number of snake . How will you decide whether to increase the number you own is a ladder or snake? How do you determine it?\"}], \"My next is the how you will how you will determine whether to you have to increment its dice value means you you own to use it's increasing the counter value in form of ladder yes sir or you have to decrement the counter value in form of snake.\", 'so how you will determine it.']\n"
          ]
        },
        {
          "metadata": {
            "tags": null
          },
          "name": "stderr",
          "output_type": "stream",
          "text": [
            "Your max_length is set to 142, but you input_length is only 90. You might consider decreasing max_length manually, e.g. summarizer('...', max_length=45)\n"
          ]
        },
        {
          "metadata": {
            "tags": null
          },
          "name": "stdout",
          "output_type": "stream",
          "text": [
            "142\n",
            "[[{'summary_text': \" Sir with the help of functions. For example, if the dice value for if if if the . dice value or the that block value in which the counter is right now is . is five so I have assigned five already that five is a ladder, so then it will increase and for example if 12 is a snake then I've already defined that at 12 you need to decrement the value by for example FIFO or whatever .\"}], 'Sir with the help of functions.', \"For example, if the dice value for if if the dice value or the that block value in which the counter is right now is five so I have assigned five already that five is a ladder, so then it will increase and for example if 12 is a snake then I've already defined that at 12 you need to decrement the value by for example FIFO or whatever.\", 'So I will predefined']\n"
          ]
        },
        {
          "metadata": {
            "tags": null
          },
          "name": "stderr",
          "output_type": "stream",
          "text": [
            "Your max_length is set to 142, but you input_length is only 10. You might consider decreasing max_length manually, e.g. summarizer('...', max_length=5)\n"
          ]
        },
        {
          "metadata": {
            "tags": null
          },
          "name": "stdout",
          "output_type": "stream",
          "text": [
            "144\n",
            "[[{'summary_text': ' Where you will predefined these values? Where do you have a place where you can define your values? We need to find a place to define our values? What do you do? Find a place in the world where these values can be defined by your own values? Visit CNN.com/Heroes for more information .'}], 'where you will predefined these values?']\n"
          ]
        },
        {
          "metadata": {
            "tags": null
          },
          "name": "stderr",
          "output_type": "stream",
          "text": [
            "Your max_length is set to 142, but you input_length is only 25. You might consider decreasing max_length manually, e.g. summarizer('...', max_length=12)\n"
          ]
        },
        {
          "metadata": {
            "tags": null
          },
          "name": "stdout",
          "output_type": "stream",
          "text": [
            "146\n",
            "[[{'summary_text': \" Python can use a dictionary to like if I'm doing in Python then I can use it dictonary . So I can . use a . dictionary to help me understand what I am doing and what I want to do in Python . Python is a language that can be written in Python and can be used in a dictionary .\"}], \"So I can use a dictionary to like if I'm doing in Python then I can use it dictonary.\"]\n"
          ]
        },
        {
          "metadata": {
            "tags": null
          },
          "name": "stderr",
          "output_type": "stream",
          "text": [
            "Your max_length is set to 142, but you input_length is only 20. You might consider decreasing max_length manually, e.g. summarizer('...', max_length=10)\n"
          ]
        },
        {
          "metadata": {
            "tags": null
          },
          "name": "stdout",
          "output_type": "stream",
          "text": [
            "148\n",
            "[[{'summary_text': \" If we are using C then and C++, Java there we doesn't have any dictionary . Java there is no dictionary for C then then and Java . Java is Java, C then, C++ and C then is Java . We don't have a dictionary for Java .\"}], \"If we are using C then and C++, Java there we doesn't have any dictionary\"]\n"
          ]
        },
        {
          "metadata": {
            "tags": null
          },
          "name": "stderr",
          "output_type": "stream",
          "text": [
            "Your max_length is set to 142, but you input_length is only 23. You might consider decreasing max_length manually, e.g. summarizer('...', max_length=11)\n"
          ]
        },
        {
          "metadata": {
            "tags": null
          },
          "name": "stdout",
          "output_type": "stream",
          "text": [
            "150\n",
            "[[{'summary_text': ' We can use array of arrays and then like make dictionary with the help of arrays, we can make dictionary . Then sir we can ah we can ... use array arrays to make dictionary, then use array array of array arrays . We can also use arrays of arrays to create dictionary, make dictionary and create dictionary .'}], 'Then sir we can ah we can use array of arrays and then like make dictionary with the help of arrays']\n"
          ]
        },
        {
          "metadata": {
            "tags": null
          },
          "name": "stderr",
          "output_type": "stream",
          "text": [
            "Your max_length is set to 142, but you input_length is only 11. You might consider decreasing max_length manually, e.g. summarizer('...', max_length=5)\n"
          ]
        },
        {
          "metadata": {
            "tags": null
          },
          "name": "stdout",
          "output_type": "stream",
          "text": [
            "152\n",
            "[[{'summary_text': ' Okay yes can we switch or not there? Okay yes yes . Okay yes . Can we switch? \"Yes yes,\" she says. Okay yes, not there,\" she asks. \"Can we switch?\" She says. \"Yes, yes, we switch\" She says she wants to switch .'}], 'Okay yes can we switch or not there?']\n"
          ]
        },
        {
          "metadata": {
            "tags": null
          },
          "name": "stderr",
          "output_type": "stream",
          "text": [
            "Your max_length is set to 142, but you input_length is only 28. You might consider decreasing max_length manually, e.g. summarizer('...', max_length=14)\n"
          ]
        },
        {
          "metadata": {
            "tags": null
          },
          "name": "stdout",
          "output_type": "stream",
          "text": [
            "154\n",
            "[[{'summary_text': ' switch yes hnn but so we can use but it is too long like we will have to write the code many times in switch . switch yes, hnn. switch yes . switch is too short and too long for us to write code in switch code . switch code is so long that it can be used in switch function .'}], 'switch yes hnn but so we can use but it is too long like we will have to write the code many times in switch']\n"
          ]
        },
        {
          "metadata": {
            "tags": null
          },
          "name": "stderr",
          "output_type": "stream",
          "text": [
            "Your max_length is set to 142, but you input_length is only 19. You might consider decreasing max_length manually, e.g. summarizer('...', max_length=9)\n"
          ]
        },
        {
          "metadata": {
            "tags": null
          },
          "name": "stdout",
          "output_type": "stream",
          "text": [
            "156\n",
            "[[{'summary_text': ' Why many times times we can define a in switch global or anywhere then we can use it? We can define an in switch globally or anywhere we want to use it. We need to be able to define a global or global switch global . We can then use a global switch globally to use the global switch switch globally .'}], 'why many times we can define a in switch global or anywhere then we can use it']\n"
          ]
        },
        {
          "metadata": {
            "tags": null
          },
          "name": "stderr",
          "output_type": "stream",
          "text": [
            "Your max_length is set to 142, but you input_length is only 22. You might consider decreasing max_length manually, e.g. summarizer('...', max_length=11)\n"
          ]
        },
        {
          "metadata": {
            "tags": null
          },
          "name": "stdout",
          "output_type": "stream",
          "text": [
            "158\n",
            "[[{'summary_text': ' Cause switch for snake and switch for ladder two separate switches we can use yes sir that we can . cause switch for . snake is switch for a ladder and cause for a snake . switch for the ladder is a ladder switch for two separate switch switches . Cause switch is for snake, switch for  ladder switch is a snake switch switch for an ladder switch .'}], 'cause switch for snake and switch for a ladder two separate switches we can use yes sir that we can']\n"
          ]
        },
        {
          "metadata": {
            "tags": null
          },
          "name": "stderr",
          "output_type": "stream",
          "text": [
            "Your max_length is set to 142, but you input_length is only 22. You might consider decreasing max_length manually, e.g. summarizer('...', max_length=11)\n"
          ]
        },
        {
          "metadata": {
            "tags": null
          },
          "name": "stdout",
          "output_type": "stream",
          "text": [
            "160\n",
            "[[{'summary_text': \" Divyansh answer is correct. ahh . ahh so what do you mean by the encapsulation? ahh So what do I mean? Diviansh answers is correct, ahh ahh I'm not sure what I mean by that . Divi's answer is right .\"}], 'ahh so what do you mean by the encapsulation is Divyansh answer is correct.']\n"
          ]
        },
        {
          "metadata": {
            "tags": null
          },
          "name": "stderr",
          "output_type": "stream",
          "text": [
            "Your max_length is set to 142, but you input_length is only 99. You might consider decreasing max_length manually, e.g. summarizer('...', max_length=49)\n"
          ]
        },
        {
          "metadata": {
            "tags": null
          },
          "name": "stdout",
          "output_type": "stream",
          "text": [
            "162\n",
            "[[{'summary_text': ' In our class it is implemented using access modifiers like public protected private and there is a default access specifier as well . Using these we can a define the scope of the variables or functions . If it is public then it can be used all through and if it is protected then only the subclasses can use it .'}], 'Sir partially it is correct it is used for data hiding but more data security.', 'So aa in our class it is implemented using access modifiers like public protected private and there is a default access specifier as well.', 'So ahh using these we can a define the scope of the variables or the functions like if it is public then it can be used all through and if it is protected then only the subclasses can use it and if private then only the current class can use it.']\n"
          ]
        },
        {
          "metadata": {
            "tags": null
          },
          "name": "stderr",
          "output_type": "stream",
          "text": [
            "Your max_length is set to 142, but you input_length is only 10. You might consider decreasing max_length manually, e.g. summarizer('...', max_length=5)\n"
          ]
        },
        {
          "metadata": {
            "tags": null
          },
          "name": "stdout",
          "output_type": "stream",
          "text": [
            "164\n",
            "[[{'summary_text': ' What do you mean by storage classes ? What do they mean by storing classes ? Ask about storage classes? Share your own storage classes . Share your knowledge of storage classes with iReport.com: Share your photos, videos, photos and videos of your favorite storage classes. Visit CNN.com/Stories .'}], 'What do you mean by storage classes ?']\n"
          ]
        },
        {
          "metadata": {
            "tags": null
          },
          "name": "stderr",
          "output_type": "stream",
          "text": [
            "Your max_length is set to 142, but you input_length is only 14. You might consider decreasing max_length manually, e.g. summarizer('...', max_length=7)\n"
          ]
        },
        {
          "metadata": {
            "tags": null
          },
          "name": "stdout",
          "output_type": "stream",
          "text": [
            "166\n",
            "[[{'summary_text': \" A storage classes sir im no able to recall ive ive a storage class . A storage class is a storage storage class. I'm not sure if I can recall  ive any of these classes. I can't recall any of the classes I've been in storage classes .\"}], 'A storage classes sir im no able to recall ive a']\n"
          ]
        },
        {
          "metadata": {
            "tags": null
          },
          "name": "stderr",
          "output_type": "stream",
          "text": [
            "Your max_length is set to 142, but you input_length is only 8. You might consider decreasing max_length manually, e.g. summarizer('...', max_length=4)\n"
          ]
        },
        {
          "metadata": {
            "tags": null
          },
          "name": "stdout",
          "output_type": "stream",
          "text": [
            "168\n",
            "[[{'summary_text': ' Gauri all the best. Okay gauri . Gauri: \"I love you. I love you\" Gauri says she is in love with Gauri again. Gauri is in a relationship with the world\\'s best friend, Ravi Agrawalu, who lives in India .'}], 'Okay gauri all the best']\n"
          ]
        },
        {
          "metadata": {
            "tags": null
          },
          "name": "stderr",
          "output_type": "stream",
          "text": [
            "Your max_length is set to 142, but you input_length is only 6. You might consider decreasing max_length manually, e.g. summarizer('...', max_length=3)\n"
          ]
        },
        {
          "metadata": {
            "tags": null
          },
          "name": "stdout",
          "output_type": "stream",
          "text": [
            "170\n",
            "[[{'summary_text': ' Thankyou so much for all the support you can give . Please email us at www.mailonline.com/thankyou-so-much-worth.com . Back to the page you came from.com. Please submit your photos and videos of your favourite moments of the day .'}], 'Thankyou so much']\n"
          ]
        },
        {
          "metadata": {
            "tags": null
          },
          "name": "stderr",
          "output_type": "stream",
          "text": [
            "Your max_length is set to 142, but you input_length is only 25. You might consider decreasing max_length manually, e.g. summarizer('...', max_length=12)\n"
          ]
        },
        {
          "metadata": {
            "tags": null
          },
          "name": "stdout",
          "output_type": "stream",
          "text": [
            "172\n",
            "[[{'summary_text': ' Tcs technical interview questions are basically mainly from C and C++ . They are asked about their knowledge of programming languages and programming languages . Tcs is based on C, C, and C, while C is C is written in C . C is a C-based language and C is an open-source language .'}], 'Explore more and more Tcs technical interview questions right?', 'Ok sir They are basically mainly from C and C++.']\n"
          ]
        },
        {
          "metadata": {
            "tags": null
          },
          "name": "stderr",
          "output_type": "stream",
          "text": [
            "Your max_length is set to 142, but you input_length is only 20. You might consider decreasing max_length manually, e.g. summarizer('...', max_length=10)\n"
          ]
        },
        {
          "metadata": {
            "tags": null
          },
          "name": "stdout",
          "output_type": "stream",
          "text": [
            "174\n",
            "[[{'summary_text': ' \"I will keep that in mind thankyou so much sir all the best thank you,\" she said . \"I\\'ll keep it in mind,\" she replied . \"Thank you sir. Okay sir ill keep that   \\xa0- \\xa0thankyou . Thank you sir . All the best I say .'}], 'Okay sir ill keep that in mind thankyou so much sir all the best thank you']\n"
          ]
        },
        {
          "metadata": {
            "tags": null
          },
          "name": "stderr",
          "output_type": "stream",
          "text": [
            "Your max_length is set to 142, but you input_length is only 57. You might consider decreasing max_length manually, e.g. summarizer('...', max_length=28)\n"
          ]
        },
        {
          "metadata": {
            "tags": null
          },
          "name": "stdout",
          "output_type": "stream",
          "text": [
            "176\n",
            "[[{'summary_text': ' A from my side and rathor sir interview my remark for you definitely you are the good candidate that we have already observed many time ahh technical knowledge I have not checked out your head of department CAC will check it out but a you can easily correct the process .'}], 'A from my side and rathor sir interview my remark for you definitely you are the good candidate that we have already observed many time ahh technical knowledge I have not checked out your head of department CAC will check it out but a you can easily correct the process.']\n"
          ]
        },
        {
          "metadata": {
            "tags": null
          },
          "name": "stderr",
          "output_type": "stream",
          "text": [
            "Your max_length is set to 142, but you input_length is only 8. You might consider decreasing max_length manually, e.g. summarizer('...', max_length=4)\n"
          ]
        },
        {
          "metadata": {
            "tags": null
          },
          "name": "stdout",
          "output_type": "stream",
          "text": [
            "178\n",
            "[[{'summary_text': \" Okay thank you so much sir. Okay, thank you for your kind of kind of words . We'll be happy to hear you back in the comments again. Please send your best wishes to see if you can help us in the next episode of this week's iReporter coverage .\"}], 'Okay thank you so much sir']\n",
            "180\n",
            "[[{'summary_text': ' If they feel that you want to come but you can not come then then then there is a chances they can drop you . Either you are a good candidate or the best for example Google want to hire somebody or they find the candidate which is having the capabilities to get a caror package in a anom . Or a when you are clear about your thought process then at least it should be justified .'}], 'Or a when you are clear about your thought process then at least it should be justified when you are giving the interviews Yes sir sure it is very important ok sir if they feel that you want to come but you can not come then then there is a chances they can drop you.', 'Either you are a good candidate or the best for example Google want to hire somebody or they find the candidate which is having the capabilities to get a caror package in a anom.', \"But they have the doubt that no doubt is the best but they have the doubt that either he'll join or not.\", 'then might be they can drop so yes that kind of condition in the interview at least shoud not be so case.']\n"
          ]
        },
        {
          "metadata": {
            "tags": null
          },
          "name": "stderr",
          "output_type": "stream",
          "text": [
            "Your max_length is set to 142, but you input_length is only 12. You might consider decreasing max_length manually, e.g. summarizer('...', max_length=6)\n"
          ]
        },
        {
          "metadata": {
            "tags": null
          },
          "name": "stdout",
          "output_type": "stream",
          "text": [
            "182\n",
            "[[{'summary_text': ' \"I\\'ll keep that in mind sir thank you,\" she said . \"I\\'m going to keep that a little bit in mind,\" she replied . \"Thank you sir, thank you. Okay I\\'ll keep it in mind. Okay, I\\'m fine. Thank you sir . Thank you.\"'}], \"Okay I'll keep that in mind sir thank you\"]\n"
          ]
        },
        {
          "metadata": {
            "tags": null
          },
          "name": "stderr",
          "output_type": "stream",
          "text": [
            "Your max_length is set to 142, but you input_length is only 8. You might consider decreasing max_length manually, e.g. summarizer('...', max_length=4)\n"
          ]
        },
        {
          "output_type": "stream",
          "name": "stdout",
          "text": [
            "184\n",
            "[[{'summary_text': \" Otherwise all set all right ok ok . Otherwise all right, ok. Otherwise, ok, I'll be fine. I'm fine. Otherwise I'm not fine. OK, I'm just fine. Ok, I just want to see if you're OK. I'll see if I'm OK. OK. Ok. Ok . Ok.\"}], 'Otherwise all set all right ok']\n"
          ]
        },
        {
          "output_type": "stream",
          "name": "stderr",
          "text": [
            "Your max_length is set to 142, but you input_length is only 4. You might consider decreasing max_length manually, e.g. summarizer('...', max_length=2)\n"
          ]
        },
        {
          "output_type": "stream",
          "name": "stdout",
          "text": [
            "186\n",
            "[[{'summary_text': \" CNN.com will feature iReporter photos in a weekly Travel Snapshots gallery . Please submit your best shots for next week's gallery of snapshots of your favorite destinations . Visit CNN iReport.com/Travel next Wednesday for a new gallery of shots of the world's most beautiful beaches .\"}], 'Thank you']\n"
          ]
        },
        {
          "output_type": "stream",
          "name": "stderr",
          "text": [
            "Your max_length is set to 142, but you input_length is only 5. You might consider decreasing max_length manually, e.g. summarizer('...', max_length=2)\n"
          ]
        },
        {
          "output_type": "stream",
          "name": "stdout",
          "text": [
            "188\n",
            "[[{'summary_text': \" Thank you sir. Thank you for your service . Please email your photos to us at iReport@dailymailonline.co.uk . Visit CNN.com/Travel next Wednesday for a new look at the latest iReporter's weekly Travel Snapshots of the World .\"}], 'Thank you sir']\n"
          ]
        }
      ],
      "source": [
        "file1 = open(\"myfile.txt\",\"w\")\n",
        "for i in range(1, len(sentences)):\n",
        "    if(sentences[i]==' 'or sentences[i]==''):\n",
        "      continue\n",
        "\n",
        "    print(i)\n",
        "    a_list = nltk.tokenize.sent_tokenize(sentences[i])\n",
        "    arr = []\n",
        "    L = [sentences[i]]\n",
        "    summary=classifier(sentences[i])\n",
        "    arr.append(summary)\n",
        "    arr.extend(a_list)\n",
        "    print(arr)\n",
        "    file1.write(\"PARAGRAPH: \")\n",
        "    file1.write(sentences[i]) #writing paragraphs\n",
        "    file1.write(\"\\n\\n\")\n",
        "    file1.write(\"SUMMARY of the ABOVE PARAGRAPH:\")\n",
        "    file1.write(summary[0]['summary_text']) #writing summary of paragraph\n",
        "    sentence_embeddings = model.encode(arr)\n",
        "\n",
        "    cos = cosine_similarity(\n",
        "    [sentence_embeddings[0]],\n",
        "    sentence_embeddings[1:]\n",
        "    )\n",
        "    file1.write(\"\\n\\n\")\n",
        "    file1.write(\"INSIGHTS of the PARAGRAPH: \\n\")\n",
        "    for j in range(len(cos[0])):\n",
        "      if(cos[0][j]>=0.50 and sentences[j+1]!=' ' and sentences[j+1]!=''):\n",
        "        file1.write(sentences[j+1]) #writing paragraphs\n",
        "        file1.write(\"\\n\")\n",
        "        file1.write(\"COSINE SIMILARITY SCORE = \")\n",
        "        file1.write(str(cos[0][j]))\n",
        "        file1.write(\"\\n\")\n",
        "    #file1.write(\"\\n\\n\")\n",
        "      \n",
        "\n",
        "       \n",
        "       \n",
        "\n",
        "\n",
        "\n",
        "    #break\n",
        "file1.close()"
      ]
    },
    {
      "cell_type": "code",
      "execution_count": 25,
      "id": "3b3d27d7",
      "metadata": {
        "colab": {
          "base_uri": "https://localhost:8080/"
        },
        "id": "3b3d27d7",
        "outputId": "53cd8203-5f6e-457c-f19b-6fb38c2456f5"
      },
      "outputs": [
        {
          "output_type": "stream",
          "name": "stdout",
          "text": [
            "PARAGRAPH: Okay ahh thank you for allowing me to introduce myself. My name is Gauri shirmali. I am from Udaipur Rajasthan. I'm doing computer science engineering from Geetanjali Institute of technical studies. I secured 9.2 c GPA in 10, standard 73.4 Cgp ahh percentage in 12 standard. And currently an engineering my aggregate score is 77 percentage. computer sciences is omnipresent that is it is present in every field and hence I have invested these last 3.5 almost years and a developing my software skills My technical skills include programming in Python, Java, C, c++, databases I am also familiar with web development, Kubernetes, Docker, Ansible, et cetera. So these all are my technical skills. And I’ve  also used this skills to build several projects, which include user management project and attendance management project. I've also participated in smart India hackathons of which ahh in one we also got to the finals. Ahh these are my technical skills, coming to my extracurricular activities I love to dance umm particularly semi classical dance. I also like to read write and paint have been the student editor of our colleges newsletter bits and bytes. And currently I am one of the cultural heads of our students club, So I've I have also participated in several donation camps several donation camps as I am a  a member of the Rotary Club Udaipur, I consider myself as a very focused person, I’ve  and I always work towards my goals and in a very efficient manner. I am a team player and very optimistic in tough times And lastly I would like to say that why not start the journey of my success by the success of joining TCS Thank you so much.\n",
            "\n",
            "SUMMARY of the ABOVE PARAGRAPH: Gauri shirmali is doing computer science engineering from Geetanjali Institute of technical studies in Rajasthan . Her technical skills include programming in Python, Java, C, c++, databases and web development . She is a team player and very optimistic in tough times .\n",
            "\n",
            "INSIGHTS of the PARAGRAPH: \n",
            "Okay ahh What are the five specific point about Tcs which makes Tcs different from the other IT MNCs?\n",
            "COSINE SIMILARITY SCORE = 0.69443285\n",
            "sir like I said there is a work life balance and it a it it promotes like gender equality ,there is no like discrimination on the basis of that. And it so it's very good ethics overall.\n",
            "COSINE SIMILARITY SCORE = 0.6153734\n",
            "Okay okay Gauri nice talking to you , thankyou sir , and  I request kernel rathor sir to take next part of interview Right.\n",
            "COSINE SIMILARITY SCORE = 0.5501616\n",
            "Thankyou so much sir\n",
            "COSINE SIMILARITY SCORE = 0.5167833\n",
            "PARAGRAPH: Okay ahh What are the five specific point about Tcs which makes Tcs different from the other IT MNCs?\n",
            "\n",
            "SUMMARY of the ABOVE PARAGRAPH: What are the five specific point about Tcs which makes Tcs different from the other IT MNCs? What are five specific points about the company which makes it different from others? What do you know about the five points that make Tcs unique from other IT companies? Share your knowledge of these five points .\n",
            "\n",
            "INSIGHTS of the PARAGRAPH: \n",
            "PARAGRAPH: Sure firstly sir ahh tcs is has a brand name, it is known it is a multinational company and it has a very good brand name and thus it would give me a good start for my career. Secondly, it has a work life balance. I have talked to many of my friends who are in Tcs and they say that Tcs gives a very good work life balance. So that is the second point. Third point is the colleagues there hardraw very futuristic in their skills. So there is a lot to learn from them. Fourthly, as Tcs is a multinational company, I would like to I would have the chance to even uhh go abroad and a meet a people of different nationalities. And lastly there as Tcs is has been in the industry for almost hundred and fifty years. So it gives me a sense of job security to some extent.\n",
            "\n",
            "SUMMARY of the ABOVE PARAGRAPH: Tcs is has a brand name, it is known it is a multinational company and it has a very good brand name and thus it would give me a good start for my career . I would like to I would have the chance to go abroad and a meet a people of different nationalities . And lastly there as Tcs has been in the industry for almost hundred and fifty years, it gives me a sense of job security .\n",
            "\n",
            "INSIGHTS of the PARAGRAPH: \n",
            "Okay what are the ethical values Tcs have?\n",
            "COSINE SIMILARITY SCORE = 0.5501946\n",
            "PARAGRAPH: Okay what are the ethical values Tcs have?\n",
            "\n",
            "SUMMARY of the ABOVE PARAGRAPH: Okay what are the ethical values Tcs have? Okay . Okay . What do you have? Please tell us what your ethical values are? Please send us a video of your own . Send it to CNN iReport: Share your photos of yourself with us at iReport .\n",
            "\n",
            "INSIGHTS of the PARAGRAPH: \n",
            "PARAGRAPH: sir like I said there is a work life balance and it a it it promotes like gender equality ,there is no like discrimination on the basis of that. And it so it's very good ethics overall.\n",
            "\n",
            "SUMMARY of the ABOVE PARAGRAPH: There is a work life balance and it promotes like gender equality ,there is no like discrimination on the basis of that. And it so it so is very good ethics overall. sir like I said there is a very good ethical ethics overall,’s very good .\n",
            "\n",
            "INSIGHTS of the PARAGRAPH: \n",
            "Okay ahh thank you for allowing me to introduce myself. My name is Gauri shirmali. I am from Udaipur Rajasthan. I'm doing computer science engineering from Geetanjali Institute of technical studies. I secured 9.2 c GPA in 10, standard 73.4 Cgp ahh percentage in 12 standard. And currently an engineering my aggregate score is 77 percentage. computer sciences is omnipresent that is it is present in every field and hence I have invested these last 3.5 almost years and a developing my software skills My technical skills include programming in Python, Java, C, c++, databases I am also familiar with web development, Kubernetes, Docker, Ansible, et cetera. So these all are my technical skills. And I’ve  also used this skills to build several projects, which include user management project and attendance management project. I've also participated in smart India hackathons of which ahh in one we also got to the finals. Ahh these are my technical skills, coming to my extracurricular activities I love to dance umm particularly semi classical dance. I also like to read write and paint have been the student editor of our colleges newsletter bits and bytes. And currently I am one of the cultural heads of our students club, So I've I have also participated in several donation camps several donation camps as I am a  a member of the Rotary Club Udaipur, I consider myself as a very focused person, I’ve  and I always work towards my goals and in a very efficient manner. I am a team player and very optimistic in tough times And lastly I would like to say that why not start the journey of my success by the success of joining TCS Thank you so much.\n",
            "COSINE SIMILARITY SCORE = 0.7327193\n",
            "PARAGRAPH: Okay okay Gauri nice talking to you , thankyou sir , and  I request kernel rathor sir to take next part of interview Right.\n",
            "\n",
            "SUMMARY of the ABOVE PARAGRAPH: Gauri asks kernel rathor to take next part of interview right. Okay okay okay Gauri nice talking to you , thankyou sir . Gauri says she wants kernel to take part in interview right now. Gauri: \"I am happy to talk to Gauri again. I am very happy to see the end of the interview\"\n",
            "\n",
            "INSIGHTS of the PARAGRAPH: \n",
            "PARAGRAPH: Thankyou so much sir\n",
            "\n",
            "SUMMARY of the ABOVE PARAGRAPH: Thankyou so much sir. Thank you so much for your kind of kind of words . I love you all over the world. I can't wait to hear from you again. I'm so happy to see you back in the U.S. for the first time.\n",
            "\n",
            "INSIGHTS of the PARAGRAPH: \n",
            "PARAGRAPH: Good afternoon\n",
            "\n",
            "SUMMARY of the ABOVE PARAGRAPH: CNN.com will feature iReporter photos in a weekly Travel Snapshots gallery . Please submit your best shots of the day for next week's gallery of snapshots . Visit http://www.dailymailonline.com/Travel next Friday for a new look at the gallery of iReporters.com .\n",
            "\n",
            "INSIGHTS of the PARAGRAPH: \n",
            "PARAGRAPH: Good afternoon sir\n",
            "\n",
            "SUMMARY of the ABOVE PARAGRAPH: Good afternoon sir. Good afternoon Sir. I'm going to tell you what I really want to do . I'm looking forward to seeing you again. Please send your best wishes to see if you know you can still see you in good spirits . Have you ever seen him? Please email him to say hello to him.\n",
            "\n",
            "INSIGHTS of the PARAGRAPH: \n",
            "PARAGRAPH: All prepare\n",
            "\n",
            "SUMMARY of the ABOVE PARAGRAPH: All prepare for the first time in a week to prepare for President Obama's visit to the U.S. House of Representatives in Washington, D.C. Rep. Joe Biden is scheduled to appear on CNN.com Live on Sunday at 9 p.m. ET .\n",
            "\n",
            "INSIGHTS of the PARAGRAPH: \n",
            "PARAGRAPH: Yes sir\n",
            "\n",
            "SUMMARY of the ABOVE PARAGRAPH: Yes sir. Yes sir . Yes sir, please please please tell me . Please tell us what you want to do . Yes, please. Yes, yes, yes. Yes. Yes . No, no, yes sir. No, yes . No. No. I want to say yes .\n",
            "\n",
            "INSIGHTS of the PARAGRAPH: \n",
            "PARAGRAPH: Okay Tell us which other campus interviews Have you appeared for and what has been the results?\n",
            "\n",
            "SUMMARY of the ABOVE PARAGRAPH: Okay Tell us which other campus interviews have you appeared for and what has been the results? Have you ever appeared for a campus interview? Tell us what you have done and what you think about the results of the interviews? Send us your thoughts to iReport@mailonline.com .\n",
            "\n",
            "INSIGHTS of the PARAGRAPH: \n",
            "PARAGRAPH: So I have interviewed for darnet, which is an depor only and I got selected for it. I also interviewed for gateway industries. I was not selected in the interview I got to the interview part but was not selected So that's it. I've only given these interviews.\n",
            "\n",
            "SUMMARY of the ABOVE PARAGRAPH: So I have interviewed for darnet, which is an depor only and I got selected for it . I also interviewed for gateway industries. I got to the interview part but was not selected . So that's it. I've only given these interviews. So that is it .\n",
            "\n",
            "INSIGHTS of the PARAGRAPH: \n",
            "Okay ahh What are the five specific point about Tcs which makes Tcs different from the other IT MNCs?\n",
            "COSINE SIMILARITY SCORE = 0.688388\n",
            "PARAGRAPH: Okay Have you analyzed Why you didn't get selected for gateway?\n",
            "\n",
            "SUMMARY of the ABOVE PARAGRAPH: Okay Have you analyzed Why you didn't get selected for gateway? Why not you get selected by gateway? Okay. Okay. Why not us selected? Why didn't we get selected to gateway? Please submit your analysis for the next week's list of reasons why you were selected to be selected .\n",
            "\n",
            "INSIGHTS of the PARAGRAPH: \n",
            "PARAGRAPH: Sir in gateway I might have not answered the technical questions very well as compared to the other candidates.\n",
            "\n",
            "SUMMARY of the ABOVE PARAGRAPH: Sir in gateway I might have not answered technical questions very well, compared to the other candidates. Sir in gatekeeper I might not have answered the technical questions . Sir in his first interview, he said: ‘I might have . not answered . very well . compared to other candidates’\n",
            "\n",
            "INSIGHTS of the PARAGRAPH: \n",
            "PARAGRAPH: Okay so how have you prepared for TCS interview now?\n",
            "\n",
            "SUMMARY of the ABOVE PARAGRAPH: TCS interview will be aired on November 11 at 8pm ET . Interview will be on November 14 at 8.30pm ET on CNN.com.com Live . Follow CNN Living on Facebook and Twitter for more information about TCS interviews.com/Follow CNN Living .\n",
            "\n",
            "INSIGHTS of the PARAGRAPH: \n",
            "PARAGRAPH: Sir I have an enhanced my technical skills I have been preparing for the core subjects, and I've been doing coding almost every day So I think that I prepared quite well For Tcs.\n",
            "\n",
            "SUMMARY of the ABOVE PARAGRAPH: Sir I have an enhanced my technical skills I have been preparing for the core subjects, and I've been doing coding almost every day . So I think that I prepared quite well For Tcs. Sir I'm confident that I will be able to do well at the end of the year .\n",
            "\n",
            "INSIGHTS of the PARAGRAPH: \n",
            "PARAGRAPH: Okay ahhh umm  Gauri tell me what are your future plans?\n",
            "\n",
            "SUMMARY of the ABOVE PARAGRAPH: Gauri tell me what are your future plans? Okay ahhh umm  Gauri tells me what she plans to do with her career . Gauri says she has no plans for her life . She says she wants to see more of her career as a model and actress .\n",
            "\n",
            "INSIGHTS of the PARAGRAPH: \n",
            "PARAGRAPH: Sir my future plans sir if I join TCS or otherwise\n",
            "\n",
            "SUMMARY of the ABOVE PARAGRAPH: Sir my future plans sir if I join TCS or otherwise if I joined TCS, or otherwise . Sir my plans sir are Sir Myles' future plans Sir Sir Sir if he joins TCS . Sir Sir my . future plans are Sir Sir . if I Join TCS  or otherwise, Sir Sir I'm not sure if I want to join .\n",
            "\n",
            "INSIGHTS of the PARAGRAPH: \n",
            "PARAGRAPH: What are your future plans ?\n",
            "\n",
            "SUMMARY of the ABOVE PARAGRAPH: What are your future plans ? Share your pictures with us at iReport.com . Please submit your photos of your future in the gallery for a new gallery . Visit www.report.com/pictures/images for more information about your future . Visit http://www.pictures@picturesonline.com for more photos .\n",
            "\n",
            "INSIGHTS of the PARAGRAPH: \n",
            "PARAGRAPH: Sir I want to join a software company and a work for it. And I want to a learn as much ah like as much languages and as much skills as I can and I also want to achieve great success so that I'm satisfied with what I've learned\n",
            "\n",
            "SUMMARY of the ABOVE PARAGRAPH: Sir I want to join a software company and a work for it, he says . And he wants to a learn as much languages and as much skills as I can . He also wants to achieve great success so that he's satisfied with what he's learned . Sir I Want to a join software company, he said .\n",
            "\n",
            "INSIGHTS of the PARAGRAPH: \n",
            "Okay ahh thank you for allowing me to introduce myself. My name is Gauri shirmali. I am from Udaipur Rajasthan. I'm doing computer science engineering from Geetanjali Institute of technical studies. I secured 9.2 c GPA in 10, standard 73.4 Cgp ahh percentage in 12 standard. And currently an engineering my aggregate score is 77 percentage. computer sciences is omnipresent that is it is present in every field and hence I have invested these last 3.5 almost years and a developing my software skills My technical skills include programming in Python, Java, C, c++, databases I am also familiar with web development, Kubernetes, Docker, Ansible, et cetera. So these all are my technical skills. And I’ve  also used this skills to build several projects, which include user management project and attendance management project. I've also participated in smart India hackathons of which ahh in one we also got to the finals. Ahh these are my technical skills, coming to my extracurricular activities I love to dance umm particularly semi classical dance. I also like to read write and paint have been the student editor of our colleges newsletter bits and bytes. And currently I am one of the cultural heads of our students club, So I've I have also participated in several donation camps several donation camps as I am a  a member of the Rotary Club Udaipur, I consider myself as a very focused person, I’ve  and I always work towards my goals and in a very efficient manner. I am a team player and very optimistic in tough times And lastly I would like to say that why not start the journey of my success by the success of joining TCS Thank you so much.\n",
            "COSINE SIMILARITY SCORE = 0.7802837\n",
            "PARAGRAPH: Okay ah what do you think are the reasons for youngsters switching over jobs?\n",
            "\n",
            "SUMMARY of the ABOVE PARAGRAPH: What do you think are the reasons for youngsters switching over jobs? Please share your thoughts with us at CNN iReport.com . Have you ever been to a job? Please submit your thoughts at the end of the article. Please email us at http://www.mailonlineonline.com/news/change/changechange .\n",
            "\n",
            "INSIGHTS of the PARAGRAPH: \n",
            "PARAGRAPH: Sir maybe it is job satisfaction because they enter a company without a a seeing the background of the company and then they later find out that the company was not suitable for them.\n",
            "\n",
            "SUMMARY of the ABOVE PARAGRAPH: Sir maybe it is job satisfaction because they enter a company without a a a seeing the background of the company and then they later find out that the company was not suitable for them . Sir Maybe it is that they enter companies without a view of the background and then find out they are not suitable .\n",
            "\n",
            "INSIGHTS of the PARAGRAPH: \n",
            "PARAGRAPH: Okay. That's for you, what are the three important things ah that ah one should consider before joining any organization as a fresher?\n",
            "\n",
            "SUMMARY of the ABOVE PARAGRAPH: What are the three important things ah that ah one should consider before joining any organization as a fresher? That's for you, what are the 3 important things you should consider? What's the three most important things that ah should consider, and what's the most important thing you should do?\n",
            "\n",
            "INSIGHTS of the PARAGRAPH: \n",
            "Okay ahh thank you for allowing me to introduce myself. My name is Gauri shirmali. I am from Udaipur Rajasthan. I'm doing computer science engineering from Geetanjali Institute of technical studies. I secured 9.2 c GPA in 10, standard 73.4 Cgp ahh percentage in 12 standard. And currently an engineering my aggregate score is 77 percentage. computer sciences is omnipresent that is it is present in every field and hence I have invested these last 3.5 almost years and a developing my software skills My technical skills include programming in Python, Java, C, c++, databases I am also familiar with web development, Kubernetes, Docker, Ansible, et cetera. So these all are my technical skills. And I’ve  also used this skills to build several projects, which include user management project and attendance management project. I've also participated in smart India hackathons of which ahh in one we also got to the finals. Ahh these are my technical skills, coming to my extracurricular activities I love to dance umm particularly semi classical dance. I also like to read write and paint have been the student editor of our colleges newsletter bits and bytes. And currently I am one of the cultural heads of our students club, So I've I have also participated in several donation camps several donation camps as I am a  a member of the Rotary Club Udaipur, I consider myself as a very focused person, I’ve  and I always work towards my goals and in a very efficient manner. I am a team player and very optimistic in tough times And lastly I would like to say that why not start the journey of my success by the success of joining TCS Thank you so much.\n",
            "COSINE SIMILARITY SCORE = 0.9347408\n",
            "PARAGRAPH: So firstly the one should look if there is a lot to learn from the company, I mean, there should be a very steep like growing curve in the company. Secondly, they should be like the colleagues and everything should be very frank so that they help you in every way and thirdly  for me there should be a brand name so that there is a satisfaction that yes I have achieved a level and now I can go to the next level.\n",
            "\n",
            "SUMMARY of the ABOVE PARAGRAPH: The one should look if there is a lot to learn from the company, I mean, there should be a very steep like growing curve in the company. Secondly, they should be like the colleagues and everything should be very frank so that they help you in every way . For me,  for me there should have a brand name so that there is  satisfaction that yes I have achieved a level .\n",
            "\n",
            "INSIGHTS of the PARAGRAPH: \n",
            "Okay ahh thank you for allowing me to introduce myself. My name is Gauri shirmali. I am from Udaipur Rajasthan. I'm doing computer science engineering from Geetanjali Institute of technical studies. I secured 9.2 c GPA in 10, standard 73.4 Cgp ahh percentage in 12 standard. And currently an engineering my aggregate score is 77 percentage. computer sciences is omnipresent that is it is present in every field and hence I have invested these last 3.5 almost years and a developing my software skills My technical skills include programming in Python, Java, C, c++, databases I am also familiar with web development, Kubernetes, Docker, Ansible, et cetera. So these all are my technical skills. And I’ve  also used this skills to build several projects, which include user management project and attendance management project. I've also participated in smart India hackathons of which ahh in one we also got to the finals. Ahh these are my technical skills, coming to my extracurricular activities I love to dance umm particularly semi classical dance. I also like to read write and paint have been the student editor of our colleges newsletter bits and bytes. And currently I am one of the cultural heads of our students club, So I've I have also participated in several donation camps several donation camps as I am a  a member of the Rotary Club Udaipur, I consider myself as a very focused person, I’ve  and I always work towards my goals and in a very efficient manner. I am a team player and very optimistic in tough times And lastly I would like to say that why not start the journey of my success by the success of joining TCS Thank you so much.\n",
            "COSINE SIMILARITY SCORE = 0.85819423\n",
            "PARAGRAPH: Okay technically what gives you job satisfaction?\n",
            "\n",
            "SUMMARY of the ABOVE PARAGRAPH: Okay technically technically what gives you job satisfaction? What do you give you the job satisfaction of your job? What gives you that satisfaction? \"What gives you a job satisfaction?\" \"I love my job,\" she says. \"I like my job. I like it. I love it\"\n",
            "\n",
            "INSIGHTS of the PARAGRAPH: \n",
            "PARAGRAPH: Sir technically the latest I want to go with latest technical skills, like not obsolete technologies, but the latest technologies.\n",
            "\n",
            "SUMMARY of the ABOVE PARAGRAPH: \"I want to go with latest technical skills, like not obsolete technologies, but the latest technologies,\" says Sir Richard Hammond . Sir Hammond says he wants to go ahead with the latest technology skills, not obsolete technology, but latest technologies . He says he is looking to take on the challenge of the world's most powerful technology .\n",
            "\n",
            "INSIGHTS of the PARAGRAPH: \n",
            "PARAGRAPH: So how does TCS fit into your requirement?\n",
            "\n",
            "SUMMARY of the ABOVE PARAGRAPH: So how does TCS fit into your requirement? So how do you fit into that requirement? TCS fits into your requirements? So does it fit into a requirement? How do you know what you need to do to make sure you're going to be able to get the best job?\n",
            "\n",
            "INSIGHTS of the PARAGRAPH: \n",
            "PARAGRAPH: Sir tcs changes with technologies according to the needs of the people of the or so there is not a there is no fixed technology that they use they use according to the clients which is very well.\n",
            "\n",
            "SUMMARY of the ABOVE PARAGRAPH: Sir tcs changes with technologies according to the needs of the people of the . or so there is not a there is no fixed technology that they use they use . They use according to . the clients which is very well, says Sir Tcs. Sir TCS .\n",
            "\n",
            "INSIGHTS of the PARAGRAPH: \n",
            "PARAGRAPH: which are the major clients of TCS? Can you name three or four of them?\n",
            "\n",
            "SUMMARY of the ABOVE PARAGRAPH: which are the major clients of TCS? Can you name three or four of them? TCS is a global technology consulting firm that is based in New York City, New York, Washington, D.C. which are based in the U.S. can name a few of the clients of the company .\n",
            "\n",
            "INSIGHTS of the PARAGRAPH: \n",
            "PARAGRAPH: I'm sorry sir but I'm not aware of the clients.\n",
            "\n",
            "SUMMARY of the ABOVE PARAGRAPH: I'm sorry sir but I'm not aware of the clients. I'm sure you're aware of your clients. Please tell me if you have any clients you have clients . I don't know what clients are, I'm just not sure if they have clients, it's not a client .\n",
            "\n",
            "INSIGHTS of the PARAGRAPH: \n",
            "PARAGRAPH: Okay sure anything that you want to ask?\n",
            "\n",
            "SUMMARY of the ABOVE PARAGRAPH: Okay sure anything that you want to ask? Okay . Okay sure . Okay . What do you have to say to anyone who has a question? Please email us at CNN.com/Heroes.com for more information . Please submit your questions to the Daily Mail Online home .\n",
            "\n",
            "INSIGHTS of the PARAGRAPH: \n",
            "PARAGRAPH: Sir will I be able to like fit in the company? I mean what do you think?\n",
            "\n",
            "SUMMARY of the ABOVE PARAGRAPH: Sir will I be able to like fit in the company? I mean what do you think? I don't think it's a good idea, Sir . I mean, I think it would be a good thing for the company. Sir will it be a great thing for me? I think I would like fit here, Sir will you fit here?\n",
            "\n",
            "INSIGHTS of the PARAGRAPH: \n",
            "PARAGRAPH: Will you be able to fit into the company?\n",
            "\n",
            "SUMMARY of the ABOVE PARAGRAPH: Will you be able to fit into the company? Share your thoughts with us at CNN iReport . Share your own photos of your favorite moments of your life . Share them with us on iReport.com . Visit CNN.com/Travel next Wednesday for a new look at our gallery of snapshots .\n",
            "\n",
            "INSIGHTS of the PARAGRAPH: \n",
            "PARAGRAPH: Yes sir\n",
            "\n",
            "SUMMARY of the ABOVE PARAGRAPH: Yes sir. Yes sir . Yes sir, please please please tell me . Please tell us what you want to do . Yes, please. Yes, yes, yes. Yes. Yes . No, no, yes sir. No, yes . No. No. I want to say yes .\n",
            "\n",
            "INSIGHTS of the PARAGRAPH: \n",
            "PARAGRAPH: Yeah, as per your own analysis, you said you're a good team player and what requirements you said for a good job in case you have those qualities I'm sure you will be able to fit into.\n",
            "\n",
            "SUMMARY of the ABOVE PARAGRAPH: As per your own analysis, you said you're a good team player and what requirements you said for a good job in case you have those qualities, I'm sure you will be able to fit into. Yeah, as per my own analysis . I'm not sure whether you will fit into the role, but you will have to be a team player .\n",
            "\n",
            "INSIGHTS of the PARAGRAPH: \n",
            "PARAGRAPH: Okay, sir, thank you any more suggestions for me?\n",
            "\n",
            "SUMMARY of the ABOVE PARAGRAPH: Okay, sir, thank you any more suggestions for me? Please come up with your own suggestions for a new name . Please submit your suggestions for the new name of your new name. Please submit a photo of your favorite new name for next week’s new name, please .\n",
            "\n",
            "INSIGHTS of the PARAGRAPH: \n",
            "PARAGRAPH: No nothing more adventure will finally give his remarks.\n",
            "\n",
            "SUMMARY of the ABOVE PARAGRAPH: \"No nothing more adventure will finally give his remarks,\" he said . \"No. No nothing more adventures will give him the opportunity to give his speech,\" he added. \"He will give it to the world,\" he insisted. \"It's a good thing for the world to know what's going to happen.\"\n",
            "\n",
            "INSIGHTS of the PARAGRAPH: \n",
            "PARAGRAPH: Thank you so much sir.\n",
            "\n",
            "SUMMARY of the ABOVE PARAGRAPH: Thank you so much sir. Thank you for your kind of words. I'm sure you'll be able to hear from you again. I'll be happy to see you back in the comments. Please send us a video of your thoughts. We'll see you in the next few days.\n",
            "\n",
            "INSIGHTS of the PARAGRAPH: \n",
            "PARAGRAPH: All the best right\n",
            "\n",
            "SUMMARY of the ABOVE PARAGRAPH: All the best right right right from the start of this week's coverage of the U.S. election . CNN.com will feature iReporter photos in a weekly Travel Snapshots gallery . Please submit your best shots of the election for next week's gallery . Visit CNN iReport.com/Travel next Friday for a new gallery of snapshots .\n",
            "\n",
            "INSIGHTS of the PARAGRAPH: \n",
            "PARAGRAPH: Gauri\n",
            "\n",
            "SUMMARY of the ABOVE PARAGRAPH: Gauri Gauri is the author of a new book, \"Gauriauri\" Gauri . Gauri was born in India . She is famous for her work in the U.S. and travels around the world . She has been married for more than 30 years and has a daughter .\n",
            "\n",
            "INSIGHTS of the PARAGRAPH: \n",
            "PARAGRAPH: Yes sir\n",
            "\n",
            "SUMMARY of the ABOVE PARAGRAPH: Yes sir. Yes sir . Yes sir, please please please tell me . Please tell us what you want to do . Yes, please. Yes, yes, yes. Yes. Yes . No, no, yes sir. No, yes . No. No. I want to say yes .\n",
            "\n",
            "INSIGHTS of the PARAGRAPH: \n",
            "PARAGRAPH: What is your basically the aim you want to go into software companies or anything more than that?\n",
            "\n",
            "SUMMARY of the ABOVE PARAGRAPH: What is your basically the aim you want to go into software companies or anything more than that? What is the aim of your goal? \"I want to be in software companies,\" he says. \"I don't want to do anything more that that,\" he asks. \"What's your aim?\"\n",
            "\n",
            "INSIGHTS of the PARAGRAPH: \n",
            "PARAGRAPH: No sir I want to go into software companies that is aim\n",
            "\n",
            "SUMMARY of the ABOVE PARAGRAPH: No sir I want to go into software companies that is aimed at software companies, he says . No sir, he wants to focus on software companies like Apple, Google, Apple, Microsoft, Apple and Google . He wants to work in software companies such as Apple, Facebook, Google and Microsoft .\n",
            "\n",
            "INSIGHTS of the PARAGRAPH: \n",
            "PARAGRAPH: okay. You don't want to go for any higher studies or entrepreneurship like.\n",
            "\n",
            "SUMMARY of the ABOVE PARAGRAPH: You don't want to go for any higher studies or entrepreneurship like. okay. You want to focus on entrepreneurship or entrepreneurship . okay. Don't go for higher studies like. higher studies, entrepreneurship like . okay . Don't be afraid of going for higher education or entrepreneurship, she says .\n",
            "\n",
            "INSIGHTS of the PARAGRAPH: \n",
            "Okay ahh thank you for allowing me to introduce myself. My name is Gauri shirmali. I am from Udaipur Rajasthan. I'm doing computer science engineering from Geetanjali Institute of technical studies. I secured 9.2 c GPA in 10, standard 73.4 Cgp ahh percentage in 12 standard. And currently an engineering my aggregate score is 77 percentage. computer sciences is omnipresent that is it is present in every field and hence I have invested these last 3.5 almost years and a developing my software skills My technical skills include programming in Python, Java, C, c++, databases I am also familiar with web development, Kubernetes, Docker, Ansible, et cetera. So these all are my technical skills. And I’ve  also used this skills to build several projects, which include user management project and attendance management project. I've also participated in smart India hackathons of which ahh in one we also got to the finals. Ahh these are my technical skills, coming to my extracurricular activities I love to dance umm particularly semi classical dance. I also like to read write and paint have been the student editor of our colleges newsletter bits and bytes. And currently I am one of the cultural heads of our students club, So I've I have also participated in several donation camps several donation camps as I am a  a member of the Rotary Club Udaipur, I consider myself as a very focused person, I’ve  and I always work towards my goals and in a very efficient manner. I am a team player and very optimistic in tough times And lastly I would like to say that why not start the journey of my success by the success of joining TCS Thank you so much.\n",
            "COSINE SIMILARITY SCORE = 0.76188827\n",
            "PARAGRAPH: No sir entrepreneurship No  but the highest studies many of the companies Tcs also provide like conc simultaneously highest studies So that may also be a very good option.\n",
            "\n",
            "SUMMARY of the ABOVE PARAGRAPH: No sir entrepreneurship No. but the highest studies many of the companies Tcs also provide like conc simultaneously highest studies . So that may also be a very good option. No sir entrepreneur No. entrepreneurship No . entrepreneurship No  but  but the best studies many companies also provide .\n",
            "\n",
            "INSIGHTS of the PARAGRAPH: \n",
            "PARAGRAPH: Okay for example you have got you have got the offer from Tcs Or at the same time Meanwhile you're getting the better offer than Tcs from another organization which is not a tier one organization but tier two organization but the packages just develop what we are offering then what you will do?\n",
            "\n",
            "SUMMARY of the ABOVE PARAGRAPH: The packages just develop what we are offering then what you will do? Or at the same time Meanwhile you're getting the better offer than Tcs from another organization which is not a tier one organization but tier two organization but the packages just become more and more of a package .\n",
            "\n",
            "INSIGHTS of the PARAGRAPH: \n",
            "PARAGRAPH: a sir I compare both the companies in terms of the\n",
            "\n",
            "SUMMARY of the ABOVE PARAGRAPH: a sir I compare both the companies in terms of terms of the time they spent together . a sir . I compare them to each other. a sir, a sir. I compare this to the time I spent with the U.S. government. a . sir . A sir .\n",
            "\n",
            "INSIGHTS of the PARAGRAPH: \n",
            "PARAGRAPH: defiantly I’ve told the tcs is the tier one and you've got the offer from tier two it means the startup or midsize company with the package for example, we are giving you four lakh they are giving you eight lakh in that case what do you do?\n",
            "\n",
            "SUMMARY of the ABOVE PARAGRAPH: The tcs is the tier one and you've got the offer from tier two it means the startup or midsize company with the package for example, we are giving you four lakh they are giving them eight lakh in that case what do you do? I’ve told the tcs. defiantly .\n",
            "\n",
            "INSIGHTS of the PARAGRAPH: \n",
            "PARAGRAPH:  Sir I choose Tcs only because Tcs is like almost hundred and fifty years old company so it it has a very good job security. And as I cannot really trust a startup because they are new in the industry, and that's why there is there might be some trust issues so i\n",
            "\n",
            "SUMMARY of the ABOVE PARAGRAPH: Sir I choose Tcs only because Tcs is like almost hundred and fifty years old company so it it has a very good job security . And as I cannot really trust a startup because they are new in the industry, and that's why there is there might be some trust issues so i .\n",
            "\n",
            "INSIGHTS of the PARAGRAPH: \n",
            "Okay ahh thank you for allowing me to introduce myself. My name is Gauri shirmali. I am from Udaipur Rajasthan. I'm doing computer science engineering from Geetanjali Institute of technical studies. I secured 9.2 c GPA in 10, standard 73.4 Cgp ahh percentage in 12 standard. And currently an engineering my aggregate score is 77 percentage. computer sciences is omnipresent that is it is present in every field and hence I have invested these last 3.5 almost years and a developing my software skills My technical skills include programming in Python, Java, C, c++, databases I am also familiar with web development, Kubernetes, Docker, Ansible, et cetera. So these all are my technical skills. And I’ve  also used this skills to build several projects, which include user management project and attendance management project. I've also participated in smart India hackathons of which ahh in one we also got to the finals. Ahh these are my technical skills, coming to my extracurricular activities I love to dance umm particularly semi classical dance. I also like to read write and paint have been the student editor of our colleges newsletter bits and bytes. And currently I am one of the cultural heads of our students club, So I've I have also participated in several donation camps several donation camps as I am a  a member of the Rotary Club Udaipur, I consider myself as a very focused person, I’ve  and I always work towards my goals and in a very efficient manner. I am a team player and very optimistic in tough times And lastly I would like to say that why not start the journey of my success by the success of joining TCS Thank you so much.\n",
            "COSINE SIMILARITY SCORE = 0.81134903\n",
            "PARAGRAPH: At least salary does not matter for you ?\n",
            "\n",
            "SUMMARY of the ABOVE PARAGRAPH: At least salary does not matter for you ? At least Salary does not matters for you . At least salaries do not matter, says CNN.com's John Defterios.com.com . In the U.S. state of Washington, D.C., the state of the nation's capital, is located in Washington, DC .\n",
            "\n",
            "INSIGHTS of the PARAGRAPH: \n",
            "PARAGRAPH: Sir job security is more important than a salary\n",
            "\n",
            "SUMMARY of the ABOVE PARAGRAPH: Sir job security is more important than a salary, says Sir Sir Sir . Sir Sir Michael Clarke-Clarke says job security and job security are more important . Sir Clarke says he wants job security, not salary, but job security . He says he has 'nothing to give' as a result of his success in his career .\n",
            "\n",
            "INSIGHTS of the PARAGRAPH: \n",
            "PARAGRAPH: if you will not perform well in the tcs also you can get the job insecurity in tcs also.\n",
            "\n",
            "SUMMARY of the ABOVE PARAGRAPH: If you will not perform well in the tcs also you can get the job insecurity in tcs . You can get a job insecurity also in the role of a tcs. if you will . not . perform well, you can also get the . job insecurity . if you are not . performing well in  tcs, you will have to perform well .\n",
            "\n",
            "INSIGHTS of the PARAGRAPH: \n",
            "PARAGRAPH: Sir but I will perform good and I would like from my end there will be no complaints from Tcs.\n",
            "\n",
            "SUMMARY of the ABOVE PARAGRAPH: I would like from my end there will be no complaints from Tcs. Sir but I will perform good and I will ... perform good,\" he said . \"I would like to see no complaints\" from the Tcs, he said, but he would be happy if he performed good .\n",
            "\n",
            "INSIGHTS of the PARAGRAPH: \n",
            "PARAGRAPH: Okay yeah\n",
            "\n",
            "SUMMARY of the ABOVE PARAGRAPH: Okay yeah yeah. Okay yeah . Okay yeah. What's going on here? What's really going on with this? \"I'm going on to tell you what's really happening,\" he says . What's next? \"What's next?\" he asks. \"What really happened?\" he says.\n",
            "\n",
            "INSIGHTS of the PARAGRAPH: \n",
            "PARAGRAPH: Gauri\n",
            "\n",
            "SUMMARY of the ABOVE PARAGRAPH: Gauri Gauri is the author of a new book, \"Gauriauri\" Gauri . Gauri was born in India . She is famous for her work in the U.S. and travels around the world . She has been married for more than 30 years and has a daughter .\n",
            "\n",
            "INSIGHTS of the PARAGRAPH: \n",
            "PARAGRAPH: Good afternoon sir\n",
            "\n",
            "SUMMARY of the ABOVE PARAGRAPH: Good afternoon sir. Good afternoon Sir. I'm going to tell you what I really want to do . I'm looking forward to seeing you again. Please send your best wishes to see if you know you can still see you in good spirits . Have you ever seen him? Please email him to say hello to him.\n",
            "\n",
            "INSIGHTS of the PARAGRAPH: \n",
            "PARAGRAPH: Good afternoon ah which domain you feel comfortable?\n",
            "\n",
            "SUMMARY of the ABOVE PARAGRAPH: Good afternoon ah which domain you feel comfortable? Please tell us if you like to use the domain name of your preferred domain . I like to see your domain name in which domain name is appropriate . Please choose which domain is appropriate for your use of the domain, please use it .\n",
            "\n",
            "INSIGHTS of the PARAGRAPH: \n",
            "PARAGRAPH: Ah sir core subject subjects programming C++ , DBMS Yes sir.\n",
            "\n",
            "SUMMARY of the ABOVE PARAGRAPH: Core subject subjects programming C++ and DBMS . Yes sir. Ah sir . Ah sir. Yes sir . Core subject subject subjects . Programming C++ , DBMS programming C ++ and programming CMS DBMS is a core subject of the subject subject . Yes, yes .\n",
            "\n",
            "INSIGHTS of the PARAGRAPH: \n",
            "PARAGRAPH: So, give me a concept to implement snake and ladder.\n",
            "\n",
            "SUMMARY of the ABOVE PARAGRAPH: So, give me a concept to implement snake and ladder . So, please give me an idea of how to use the ladder and snake to get a ladder to reach the top of the pyramid. So, how do you do it? Please give us a concept of snake-and-ladders .\n",
            "\n",
            "INSIGHTS of the PARAGRAPH: \n",
            "PARAGRAPH: implement Snakes and Ladders using any programming language?\n",
            "\n",
            "SUMMARY of the ABOVE PARAGRAPH: Snakes and Ladders can be played using any programming language . How do you play Snakes Ladders using a programming language? Do you know how to use Snakes to Ladders? Use any language or programming language to play the game using any language you can use .\n",
            "\n",
            "INSIGHTS of the PARAGRAPH: \n",
            "PARAGRAPH: I want to know only concept not the implementation Okay I'm giving you the one minute\n",
            "\n",
            "SUMMARY of the ABOVE PARAGRAPH: I want to know only concept not the implementation, not the idea . I'm giving you the one minute. Okay, give me one minute . Give me a minute to tell you what you think you need to know about the project. I want you to know what you want to do with it .\n",
            "\n",
            "INSIGHTS of the PARAGRAPH: \n",
            "PARAGRAPH: Hmm  sir can I write something\n",
            "\n",
            "SUMMARY of the ABOVE PARAGRAPH: Hmm  sir can I write something? I think I'm going to write something here? I'm not sure what I would like to do . I'm sure you can't write something, but please please write something for you to see if you want to write a piece of your own .\n",
            "\n",
            "INSIGHTS of the PARAGRAPH: \n",
            "PARAGRAPH:  Yes yes but I need only logic right not the coding a code part.\n",
            "\n",
            "SUMMARY of the ABOVE PARAGRAPH: \"Yes yes but I need only logic right not the coding a code part.  Yes yes,\" says the author of the book . \"I need logic right.   Yes, but I don't need to code code part,\" says author of \"Yes, yes, yes. Yes, yes\"\n",
            "\n",
            "INSIGHTS of the PARAGRAPH: \n",
            "PARAGRAPH: Ok sir\n",
            "\n",
            "SUMMARY of the ABOVE PARAGRAPH: Ok sir. Ok sir . Ok sir, please tell me what happened to you? Ok . Ok, I'm fine. Ok . I'm OK. Ok. Ok, you're OK. I'm not OK. What's next? Ok, please please. I'll be OK .\n",
            "\n",
            "INSIGHTS of the PARAGRAPH: \n",
            "PARAGRAPH: Hua Gauri\n",
            "\n",
            "SUMMARY of the ABOVE PARAGRAPH: Hua Gauri is a member of the world's largest conservation group of conservationists . She is also known for her work in the U.S. National Geographic Geographic Geographic Network . She has published a book called \"Hua Gauri\" and \"Gauri\" in which she shares her views of her work on conservation .\n",
            "\n",
            "INSIGHTS of the PARAGRAPH: \n",
            "PARAGRAPH: Yes sir thoda thoda ah sir we can\n",
            "\n",
            "SUMMARY of the ABOVE PARAGRAPH: Yes sir thoda thoda . ah sir we can. Yes sir . We can. We can, we can, I say . Yes sir. Ah sir, we're fine. We're fine, we say we can . We'll be in touch with you again. Please tell us what we can do .\n",
            "\n",
            "INSIGHTS of the PARAGRAPH: \n",
            "PARAGRAPH: Verbaly btao to bus when I can analyze that you are going in the right direction or not.\n",
            "\n",
            "SUMMARY of the ABOVE PARAGRAPH: Verbaly btao to bus when I can analyze that you are going in the right direction or not . Verbaly: \"I can't say if I think you're doing the right way or not.\" Verbaly says he will not give up on the bus when he gets to the bus .\n",
            "\n",
            "INSIGHTS of the PARAGRAPH: \n",
            "PARAGRAPH: Okay sir ah so ah firstly a we will the will like a this for example of how how many columns are there for example, I take disk of fifty the maximum we take a fifty and then now we take dice. so a variable in which we will take a random function with the help of random function, we can derive a number between one to six and for the first for the first move, if the numbers random number is six, then we can move like we can keep a counter of the player. so we can increase the counter with the numbers that comes in the dice. And then now we can predefine the snakes for example, if at if we reach five then the the counter should like increased by 10 blocks. so the counter will increase by ten block That is the ladder and this way we can like pre define the next.\n",
            "\n",
            "SUMMARY of the ABOVE PARAGRAPH: A variable in which we will take a random function with the help of random function, we can derive a number between one to six . For the first for the first move, if the numbers random number is six, then we can move like we can keep a counter of the player . And then now now we can predefine the snakes for example, if at if we reach five then the the counter should like increased by 10 blocks . That is the ladder and this way we can like pre define the next .\n",
            "\n",
            "INSIGHTS of the PARAGRAPH: \n",
            "Okay ahh thank you for allowing me to introduce myself. My name is Gauri shirmali. I am from Udaipur Rajasthan. I'm doing computer science engineering from Geetanjali Institute of technical studies. I secured 9.2 c GPA in 10, standard 73.4 Cgp ahh percentage in 12 standard. And currently an engineering my aggregate score is 77 percentage. computer sciences is omnipresent that is it is present in every field and hence I have invested these last 3.5 almost years and a developing my software skills My technical skills include programming in Python, Java, C, c++, databases I am also familiar with web development, Kubernetes, Docker, Ansible, et cetera. So these all are my technical skills. And I’ve  also used this skills to build several projects, which include user management project and attendance management project. I've also participated in smart India hackathons of which ahh in one we also got to the finals. Ahh these are my technical skills, coming to my extracurricular activities I love to dance umm particularly semi classical dance. I also like to read write and paint have been the student editor of our colleges newsletter bits and bytes. And currently I am one of the cultural heads of our students club, So I've I have also participated in several donation camps several donation camps as I am a  a member of the Rotary Club Udaipur, I consider myself as a very focused person, I’ve  and I always work towards my goals and in a very efficient manner. I am a team player and very optimistic in tough times And lastly I would like to say that why not start the journey of my success by the success of joining TCS Thank you so much.\n",
            "COSINE SIMILARITY SCORE = 0.797202\n",
            "Okay ahh What are the five specific point about Tcs which makes Tcs different from the other IT MNCs?\n",
            "COSINE SIMILARITY SCORE = 0.85987437\n",
            "PARAGRAPH: My next is the how you will how you will determine whether to you have to increment its dice value means you you own to use it's increasing the counter value in form of ladder yes sir or you have to decrement the counter value in form of snake. so how you will determine it.\n",
            "\n",
            "SUMMARY of the ABOVE PARAGRAPH: How you will determine whether to you have to increment its dice value means you you own to use it's increasing the counter value in form of ladder or decreasing the number of snake . How will you decide whether to increase the number you own is a ladder or snake? How do you determine it?\n",
            "\n",
            "INSIGHTS of the PARAGRAPH: \n",
            "PARAGRAPH: Sir with the help of functions. For example, if the dice value for if if the dice value or the that block value in which the counter is right now is five so I have assigned five already that five is a ladder, so then it will increase and for example if 12 is a snake then I've already defined that at 12 you need to decrement the value by for example FIFO or whatever. So I will predefined\n",
            "\n",
            "SUMMARY of the ABOVE PARAGRAPH: Sir with the help of functions. For example, if the dice value for if if if the . dice value or the that block value in which the counter is right now is . is five so I have assigned five already that five is a ladder, so then it will increase and for example if 12 is a snake then I've already defined that at 12 you need to decrement the value by for example FIFO or whatever .\n",
            "\n",
            "INSIGHTS of the PARAGRAPH: \n",
            "Okay ahh thank you for allowing me to introduce myself. My name is Gauri shirmali. I am from Udaipur Rajasthan. I'm doing computer science engineering from Geetanjali Institute of technical studies. I secured 9.2 c GPA in 10, standard 73.4 Cgp ahh percentage in 12 standard. And currently an engineering my aggregate score is 77 percentage. computer sciences is omnipresent that is it is present in every field and hence I have invested these last 3.5 almost years and a developing my software skills My technical skills include programming in Python, Java, C, c++, databases I am also familiar with web development, Kubernetes, Docker, Ansible, et cetera. So these all are my technical skills. And I’ve  also used this skills to build several projects, which include user management project and attendance management project. I've also participated in smart India hackathons of which ahh in one we also got to the finals. Ahh these are my technical skills, coming to my extracurricular activities I love to dance umm particularly semi classical dance. I also like to read write and paint have been the student editor of our colleges newsletter bits and bytes. And currently I am one of the cultural heads of our students club, So I've I have also participated in several donation camps several donation camps as I am a  a member of the Rotary Club Udaipur, I consider myself as a very focused person, I’ve  and I always work towards my goals and in a very efficient manner. I am a team player and very optimistic in tough times And lastly I would like to say that why not start the journey of my success by the success of joining TCS Thank you so much.\n",
            "COSINE SIMILARITY SCORE = 0.9754579\n",
            "PARAGRAPH: where you will predefined these values?\n",
            "\n",
            "SUMMARY of the ABOVE PARAGRAPH: Where you will predefined these values? Where do you have a place where you can define your values? We need to find a place to define our values? What do you do? Find a place in the world where these values can be defined by your own values? Visit CNN.com/Heroes for more information .\n",
            "\n",
            "INSIGHTS of the PARAGRAPH: \n",
            "PARAGRAPH: So I can use a dictionary to like if I'm doing in Python then I can use it dictonary.\n",
            "\n",
            "SUMMARY of the ABOVE PARAGRAPH: Python can use a dictionary to like if I'm doing in Python then I can use it dictonary . So I can . use a . dictionary to help me understand what I am doing and what I want to do in Python . Python is a language that can be written in Python and can be used in a dictionary .\n",
            "\n",
            "INSIGHTS of the PARAGRAPH: \n",
            "PARAGRAPH: If we are using C then and C++, Java there we doesn't have any dictionary\n",
            "\n",
            "SUMMARY of the ABOVE PARAGRAPH: If we are using C then and C++, Java there we doesn't have any dictionary . Java there is no dictionary for C then then and Java . Java is Java, C then, C++ and C then is Java . We don't have a dictionary for Java .\n",
            "\n",
            "INSIGHTS of the PARAGRAPH: \n",
            "PARAGRAPH: Then sir we can ah we can use array of arrays and then like make dictionary with the help of arrays\n",
            "\n",
            "SUMMARY of the ABOVE PARAGRAPH: We can use array of arrays and then like make dictionary with the help of arrays, we can make dictionary . Then sir we can ah we can ... use array arrays to make dictionary, then use array array of array arrays . We can also use arrays of arrays to create dictionary, make dictionary and create dictionary .\n",
            "\n",
            "INSIGHTS of the PARAGRAPH: \n",
            "PARAGRAPH: Okay yes can we switch or not there?\n",
            "\n",
            "SUMMARY of the ABOVE PARAGRAPH: Okay yes can we switch or not there? Okay yes yes . Okay yes . Can we switch? \"Yes yes,\" she says. Okay yes, not there,\" she asks. \"Can we switch?\" She says. \"Yes, yes, we switch\" She says she wants to switch .\n",
            "\n",
            "INSIGHTS of the PARAGRAPH: \n",
            "PARAGRAPH: switch yes hnn but so we can use but it is too long like we will have to write the code many times in switch\n",
            "\n",
            "SUMMARY of the ABOVE PARAGRAPH: switch yes hnn but so we can use but it is too long like we will have to write the code many times in switch . switch yes, hnn. switch yes . switch is too short and too long for us to write code in switch code . switch code is so long that it can be used in switch function .\n",
            "\n",
            "INSIGHTS of the PARAGRAPH: \n",
            "PARAGRAPH: why many times we can define a in switch global or anywhere then we can use it\n",
            "\n",
            "SUMMARY of the ABOVE PARAGRAPH: Why many times times we can define a in switch global or anywhere then we can use it? We can define an in switch globally or anywhere we want to use it. We need to be able to define a global or global switch global . We can then use a global switch globally to use the global switch switch globally .\n",
            "\n",
            "INSIGHTS of the PARAGRAPH: \n",
            "PARAGRAPH: cause switch for snake and switch for a ladder two separate switches we can use yes sir that we can\n",
            "\n",
            "SUMMARY of the ABOVE PARAGRAPH: Cause switch for snake and switch for ladder two separate switches we can use yes sir that we can . cause switch for . snake is switch for a ladder and cause for a snake . switch for the ladder is a ladder switch for two separate switch switches . Cause switch is for snake, switch for  ladder switch is a snake switch switch for an ladder switch .\n",
            "\n",
            "INSIGHTS of the PARAGRAPH: \n",
            "PARAGRAPH: ahh so what do you mean by the encapsulation is Divyansh answer is correct.\n",
            "\n",
            "SUMMARY of the ABOVE PARAGRAPH: Divyansh answer is correct. ahh . ahh so what do you mean by the encapsulation? ahh So what do I mean? Diviansh answers is correct, ahh ahh I'm not sure what I mean by that . Divi's answer is right .\n",
            "\n",
            "INSIGHTS of the PARAGRAPH: \n",
            "PARAGRAPH: Sir partially it is correct it is used for data hiding but more data security. So aa in our class it is implemented using access modifiers like public protected private and there is a default access specifier as well. So ahh using these we can a define the scope of the variables or the functions like if it is public then it can be used all through and if it is protected then only the subclasses can use it and if private then only the current class can use it.\n",
            "\n",
            "SUMMARY of the ABOVE PARAGRAPH: In our class it is implemented using access modifiers like public protected private and there is a default access specifier as well . Using these we can a define the scope of the variables or functions . If it is public then it can be used all through and if it is protected then only the subclasses can use it .\n",
            "\n",
            "INSIGHTS of the PARAGRAPH: \n",
            "Okay ahh thank you for allowing me to introduce myself. My name is Gauri shirmali. I am from Udaipur Rajasthan. I'm doing computer science engineering from Geetanjali Institute of technical studies. I secured 9.2 c GPA in 10, standard 73.4 Cgp ahh percentage in 12 standard. And currently an engineering my aggregate score is 77 percentage. computer sciences is omnipresent that is it is present in every field and hence I have invested these last 3.5 almost years and a developing my software skills My technical skills include programming in Python, Java, C, c++, databases I am also familiar with web development, Kubernetes, Docker, Ansible, et cetera. So these all are my technical skills. And I’ve  also used this skills to build several projects, which include user management project and attendance management project. I've also participated in smart India hackathons of which ahh in one we also got to the finals. Ahh these are my technical skills, coming to my extracurricular activities I love to dance umm particularly semi classical dance. I also like to read write and paint have been the student editor of our colleges newsletter bits and bytes. And currently I am one of the cultural heads of our students club, So I've I have also participated in several donation camps several donation camps as I am a  a member of the Rotary Club Udaipur, I consider myself as a very focused person, I’ve  and I always work towards my goals and in a very efficient manner. I am a team player and very optimistic in tough times And lastly I would like to say that why not start the journey of my success by the success of joining TCS Thank you so much.\n",
            "COSINE SIMILARITY SCORE = 0.87787473\n",
            "PARAGRAPH: What do you mean by storage classes ?\n",
            "\n",
            "SUMMARY of the ABOVE PARAGRAPH: What do you mean by storage classes ? What do they mean by storing classes ? Ask about storage classes? Share your own storage classes . Share your knowledge of storage classes with iReport.com: Share your photos, videos, photos and videos of your favorite storage classes. Visit CNN.com/Stories .\n",
            "\n",
            "INSIGHTS of the PARAGRAPH: \n",
            "PARAGRAPH: A storage classes sir im no able to recall ive a\n",
            "\n",
            "SUMMARY of the ABOVE PARAGRAPH: A storage classes sir im no able to recall ive ive a storage class . A storage class is a storage storage class. I'm not sure if I can recall  ive any of these classes. I can't recall any of the classes I've been in storage classes .\n",
            "\n",
            "INSIGHTS of the PARAGRAPH: \n",
            "PARAGRAPH: Okay gauri all the best\n",
            "\n",
            "SUMMARY of the ABOVE PARAGRAPH: Gauri all the best. Okay gauri . Gauri: \"I love you. I love you\" Gauri says she is in love with Gauri again. Gauri is in a relationship with the world's best friend, Ravi Agrawalu, who lives in India .\n",
            "\n",
            "INSIGHTS of the PARAGRAPH: \n",
            "PARAGRAPH: Thankyou so much\n",
            "\n",
            "SUMMARY of the ABOVE PARAGRAPH: Thankyou so much for all the support you can give . Please email us at www.mailonline.com/thankyou-so-much-worth.com . Back to the page you came from.com. Please submit your photos and videos of your favourite moments of the day .\n",
            "\n",
            "INSIGHTS of the PARAGRAPH: \n",
            "PARAGRAPH: Explore more and more Tcs technical interview questions right? Ok sir They are basically mainly from C and C++.\n",
            "\n",
            "SUMMARY of the ABOVE PARAGRAPH: Tcs technical interview questions are basically mainly from C and C++ . They are asked about their knowledge of programming languages and programming languages . Tcs is based on C, C, and C, while C is C is written in C . C is a C-based language and C is an open-source language .\n",
            "\n",
            "INSIGHTS of the PARAGRAPH: \n",
            "Okay ahh thank you for allowing me to introduce myself. My name is Gauri shirmali. I am from Udaipur Rajasthan. I'm doing computer science engineering from Geetanjali Institute of technical studies. I secured 9.2 c GPA in 10, standard 73.4 Cgp ahh percentage in 12 standard. And currently an engineering my aggregate score is 77 percentage. computer sciences is omnipresent that is it is present in every field and hence I have invested these last 3.5 almost years and a developing my software skills My technical skills include programming in Python, Java, C, c++, databases I am also familiar with web development, Kubernetes, Docker, Ansible, et cetera. So these all are my technical skills. And I’ve  also used this skills to build several projects, which include user management project and attendance management project. I've also participated in smart India hackathons of which ahh in one we also got to the finals. Ahh these are my technical skills, coming to my extracurricular activities I love to dance umm particularly semi classical dance. I also like to read write and paint have been the student editor of our colleges newsletter bits and bytes. And currently I am one of the cultural heads of our students club, So I've I have also participated in several donation camps several donation camps as I am a  a member of the Rotary Club Udaipur, I consider myself as a very focused person, I’ve  and I always work towards my goals and in a very efficient manner. I am a team player and very optimistic in tough times And lastly I would like to say that why not start the journey of my success by the success of joining TCS Thank you so much.\n",
            "COSINE SIMILARITY SCORE = 0.7623385\n",
            "PARAGRAPH: Okay sir ill keep that in mind thankyou so much sir all the best thank you\n",
            "\n",
            "SUMMARY of the ABOVE PARAGRAPH: \"I will keep that in mind thankyou so much sir all the best thank you,\" she said . \"I'll keep it in mind,\" she replied . \"Thank you sir. Okay sir ill keep that    -  thankyou . Thank you sir . All the best I say .\n",
            "\n",
            "INSIGHTS of the PARAGRAPH: \n",
            "PARAGRAPH: A from my side and rathor sir interview my remark for you definitely you are the good candidate that we have already observed many time ahh technical knowledge I have not checked out your head of department CAC will check it out but a you can easily correct the process.\n",
            "\n",
            "SUMMARY of the ABOVE PARAGRAPH: A from my side and rathor sir interview my remark for you definitely you are the good candidate that we have already observed many time ahh technical knowledge I have not checked out your head of department CAC will check it out but a you can easily correct the process .\n",
            "\n",
            "INSIGHTS of the PARAGRAPH: \n",
            "PARAGRAPH: Okay thank you so much sir\n",
            "\n",
            "SUMMARY of the ABOVE PARAGRAPH: Okay thank you so much sir. Okay, thank you for your kind of kind of words . We'll be happy to hear you back in the comments again. Please send your best wishes to see if you can help us in the next episode of this week's iReporter coverage .\n",
            "\n",
            "INSIGHTS of the PARAGRAPH: \n",
            "PARAGRAPH: Or a when you are clear about your thought process then at least it should be justified when you are giving the interviews Yes sir sure it is very important ok sir if they feel that you want to come but you can not come then then there is a chances they can drop you. Either you are a good candidate or the best for example Google want to hire somebody or they find the candidate which is having the capabilities to get a caror package in a anom. But they have the doubt that no doubt is the best but they have the doubt that either he'll join or not. then might be they can drop so yes that kind of condition in the interview at least shoud not be so case.\n",
            "\n",
            "SUMMARY of the ABOVE PARAGRAPH: If they feel that you want to come but you can not come then then then there is a chances they can drop you . Either you are a good candidate or the best for example Google want to hire somebody or they find the candidate which is having the capabilities to get a caror package in a anom . Or a when you are clear about your thought process then at least it should be justified .\n",
            "\n",
            "INSIGHTS of the PARAGRAPH: \n",
            "Okay ahh thank you for allowing me to introduce myself. My name is Gauri shirmali. I am from Udaipur Rajasthan. I'm doing computer science engineering from Geetanjali Institute of technical studies. I secured 9.2 c GPA in 10, standard 73.4 Cgp ahh percentage in 12 standard. And currently an engineering my aggregate score is 77 percentage. computer sciences is omnipresent that is it is present in every field and hence I have invested these last 3.5 almost years and a developing my software skills My technical skills include programming in Python, Java, C, c++, databases I am also familiar with web development, Kubernetes, Docker, Ansible, et cetera. So these all are my technical skills. And I’ve  also used this skills to build several projects, which include user management project and attendance management project. I've also participated in smart India hackathons of which ahh in one we also got to the finals. Ahh these are my technical skills, coming to my extracurricular activities I love to dance umm particularly semi classical dance. I also like to read write and paint have been the student editor of our colleges newsletter bits and bytes. And currently I am one of the cultural heads of our students club, So I've I have also participated in several donation camps several donation camps as I am a  a member of the Rotary Club Udaipur, I consider myself as a very focused person, I’ve  and I always work towards my goals and in a very efficient manner. I am a team player and very optimistic in tough times And lastly I would like to say that why not start the journey of my success by the success of joining TCS Thank you so much.\n",
            "COSINE SIMILARITY SCORE = 0.84675205\n",
            "Okay ahh What are the five specific point about Tcs which makes Tcs different from the other IT MNCs?\n",
            "COSINE SIMILARITY SCORE = 0.65760183\n",
            "PARAGRAPH: Okay I'll keep that in mind sir thank you\n",
            "\n",
            "SUMMARY of the ABOVE PARAGRAPH: \"I'll keep that in mind sir thank you,\" she said . \"I'm going to keep that a little bit in mind,\" she replied . \"Thank you sir, thank you. Okay I'll keep it in mind. Okay, I'm fine. Thank you sir . Thank you.\"\n",
            "\n",
            "INSIGHTS of the PARAGRAPH: \n",
            "PARAGRAPH: Otherwise all set all right ok\n",
            "\n",
            "SUMMARY of the ABOVE PARAGRAPH: Otherwise all set all right ok ok . Otherwise all right, ok. Otherwise, ok, I'll be fine. I'm fine. Otherwise I'm not fine. OK, I'm just fine. Ok, I just want to see if you're OK. I'll see if I'm OK. OK. Ok. Ok . Ok.\n",
            "\n",
            "INSIGHTS of the PARAGRAPH: \n",
            "PARAGRAPH: Thank you\n",
            "\n",
            "SUMMARY of the ABOVE PARAGRAPH: CNN.com will feature iReporter photos in a weekly Travel Snapshots gallery . Please submit your best shots for next week's gallery of snapshots of your favorite destinations . Visit CNN iReport.com/Travel next Wednesday for a new gallery of shots of the world's most beautiful beaches .\n",
            "\n",
            "INSIGHTS of the PARAGRAPH: \n",
            "PARAGRAPH: Thank you sir\n",
            "\n",
            "SUMMARY of the ABOVE PARAGRAPH: Thank you sir. Thank you for your service . Please email your photos to us at iReport@dailymailonline.co.uk . Visit CNN.com/Travel next Wednesday for a new look at the latest iReporter's weekly Travel Snapshots of the World .\n",
            "\n",
            "INSIGHTS of the PARAGRAPH: \n",
            "\n"
          ]
        }
      ],
      "source": [
        "file1 = open(\"myfile.txt\", \"r\")\n",
        "print(file1.read())"
      ]
    },
    {
      "cell_type": "code",
      "execution_count": null,
      "id": "d84fb771",
      "metadata": {
        "id": "d84fb771"
      },
      "outputs": [],
      "source": [
        ""
      ]
    },
    {
      "cell_type": "code",
      "execution_count": null,
      "id": "a4ecc29d",
      "metadata": {
        "id": "a4ecc29d"
      },
      "outputs": [],
      "source": [
        ""
      ]
    },
    {
      "cell_type": "code",
      "execution_count": null,
      "id": "ebd8f03b",
      "metadata": {
        "id": "ebd8f03b"
      },
      "outputs": [],
      "source": [
        ""
      ]
    },
    {
      "cell_type": "code",
      "source": [
        ""
      ],
      "metadata": {
        "id": "aScj7NbEC2KZ"
      },
      "id": "aScj7NbEC2KZ",
      "execution_count": null,
      "outputs": []
    }
  ],
  "metadata": {
    "kernelspec": {
      "display_name": "Python 3 (ipykernel)",
      "language": "python",
      "name": "python3"
    },
    "language_info": {
      "codemirror_mode": {
        "name": "ipython",
        "version": 3
      },
      "file_extension": ".py",
      "mimetype": "text/x-python",
      "name": "python",
      "nbconvert_exporter": "python",
      "pygments_lexer": "ipython3",
      "version": "3.9.7"
    },
    "colab": {
      "name": "NLP Task instaminutes intern.ipynb",
      "provenance": [],
      "include_colab_link": true
    },
    "widgets": {
      "application/vnd.jupyter.widget-state+json": {
        "46e9504e9d0e4f0abf49b43c85ce72d2": {
          "model_module": "@jupyter-widgets/controls",
          "model_name": "HBoxModel",
          "model_module_version": "1.5.0",
          "state": {
            "_dom_classes": [],
            "_model_module": "@jupyter-widgets/controls",
            "_model_module_version": "1.5.0",
            "_model_name": "HBoxModel",
            "_view_count": null,
            "_view_module": "@jupyter-widgets/controls",
            "_view_module_version": "1.5.0",
            "_view_name": "HBoxView",
            "box_style": "",
            "children": [
              "IPY_MODEL_0521b85c940444e59dab81df3bd8219d",
              "IPY_MODEL_6a6a3a7b80b84318b706f8c8a9f768d5",
              "IPY_MODEL_84e0e3e4d6a1402998648766a3351082"
            ],
            "layout": "IPY_MODEL_f1a50ad440024f0d86c89b010d3dfb0c"
          }
        },
        "0521b85c940444e59dab81df3bd8219d": {
          "model_module": "@jupyter-widgets/controls",
          "model_name": "HTMLModel",
          "model_module_version": "1.5.0",
          "state": {
            "_dom_classes": [],
            "_model_module": "@jupyter-widgets/controls",
            "_model_module_version": "1.5.0",
            "_model_name": "HTMLModel",
            "_view_count": null,
            "_view_module": "@jupyter-widgets/controls",
            "_view_module_version": "1.5.0",
            "_view_name": "HTMLView",
            "description": "",
            "description_tooltip": null,
            "layout": "IPY_MODEL_3ff1c26108ee4cbda645071cf16bf3a3",
            "placeholder": "​",
            "style": "IPY_MODEL_e8008f6549fa44f099a43ee0f78b8f9b",
            "value": "Downloading: 100%"
          }
        },
        "6a6a3a7b80b84318b706f8c8a9f768d5": {
          "model_module": "@jupyter-widgets/controls",
          "model_name": "FloatProgressModel",
          "model_module_version": "1.5.0",
          "state": {
            "_dom_classes": [],
            "_model_module": "@jupyter-widgets/controls",
            "_model_module_version": "1.5.0",
            "_model_name": "FloatProgressModel",
            "_view_count": null,
            "_view_module": "@jupyter-widgets/controls",
            "_view_module_version": "1.5.0",
            "_view_name": "ProgressView",
            "bar_style": "success",
            "description": "",
            "description_tooltip": null,
            "layout": "IPY_MODEL_5b5b3209db8a40a5aada47814712329a",
            "max": 391,
            "min": 0,
            "orientation": "horizontal",
            "style": "IPY_MODEL_c8a7844c0f724e1aa4dd0a2d1c911743",
            "value": 391
          }
        },
        "84e0e3e4d6a1402998648766a3351082": {
          "model_module": "@jupyter-widgets/controls",
          "model_name": "HTMLModel",
          "model_module_version": "1.5.0",
          "state": {
            "_dom_classes": [],
            "_model_module": "@jupyter-widgets/controls",
            "_model_module_version": "1.5.0",
            "_model_name": "HTMLModel",
            "_view_count": null,
            "_view_module": "@jupyter-widgets/controls",
            "_view_module_version": "1.5.0",
            "_view_name": "HTMLView",
            "description": "",
            "description_tooltip": null,
            "layout": "IPY_MODEL_5c4e902c6bf34090853013e7a455c35e",
            "placeholder": "​",
            "style": "IPY_MODEL_a7b962ec5e304a4c84ad6a2964ceba48",
            "value": " 391/391 [00:00&lt;00:00, 2.49kB/s]"
          }
        },
        "f1a50ad440024f0d86c89b010d3dfb0c": {
          "model_module": "@jupyter-widgets/base",
          "model_name": "LayoutModel",
          "model_module_version": "1.2.0",
          "state": {
            "_model_module": "@jupyter-widgets/base",
            "_model_module_version": "1.2.0",
            "_model_name": "LayoutModel",
            "_view_count": null,
            "_view_module": "@jupyter-widgets/base",
            "_view_module_version": "1.2.0",
            "_view_name": "LayoutView",
            "align_content": null,
            "align_items": null,
            "align_self": null,
            "border": null,
            "bottom": null,
            "display": null,
            "flex": null,
            "flex_flow": null,
            "grid_area": null,
            "grid_auto_columns": null,
            "grid_auto_flow": null,
            "grid_auto_rows": null,
            "grid_column": null,
            "grid_gap": null,
            "grid_row": null,
            "grid_template_areas": null,
            "grid_template_columns": null,
            "grid_template_rows": null,
            "height": null,
            "justify_content": null,
            "justify_items": null,
            "left": null,
            "margin": null,
            "max_height": null,
            "max_width": null,
            "min_height": null,
            "min_width": null,
            "object_fit": null,
            "object_position": null,
            "order": null,
            "overflow": null,
            "overflow_x": null,
            "overflow_y": null,
            "padding": null,
            "right": null,
            "top": null,
            "visibility": null,
            "width": null
          }
        },
        "3ff1c26108ee4cbda645071cf16bf3a3": {
          "model_module": "@jupyter-widgets/base",
          "model_name": "LayoutModel",
          "model_module_version": "1.2.0",
          "state": {
            "_model_module": "@jupyter-widgets/base",
            "_model_module_version": "1.2.0",
            "_model_name": "LayoutModel",
            "_view_count": null,
            "_view_module": "@jupyter-widgets/base",
            "_view_module_version": "1.2.0",
            "_view_name": "LayoutView",
            "align_content": null,
            "align_items": null,
            "align_self": null,
            "border": null,
            "bottom": null,
            "display": null,
            "flex": null,
            "flex_flow": null,
            "grid_area": null,
            "grid_auto_columns": null,
            "grid_auto_flow": null,
            "grid_auto_rows": null,
            "grid_column": null,
            "grid_gap": null,
            "grid_row": null,
            "grid_template_areas": null,
            "grid_template_columns": null,
            "grid_template_rows": null,
            "height": null,
            "justify_content": null,
            "justify_items": null,
            "left": null,
            "margin": null,
            "max_height": null,
            "max_width": null,
            "min_height": null,
            "min_width": null,
            "object_fit": null,
            "object_position": null,
            "order": null,
            "overflow": null,
            "overflow_x": null,
            "overflow_y": null,
            "padding": null,
            "right": null,
            "top": null,
            "visibility": null,
            "width": null
          }
        },
        "e8008f6549fa44f099a43ee0f78b8f9b": {
          "model_module": "@jupyter-widgets/controls",
          "model_name": "DescriptionStyleModel",
          "model_module_version": "1.5.0",
          "state": {
            "_model_module": "@jupyter-widgets/controls",
            "_model_module_version": "1.5.0",
            "_model_name": "DescriptionStyleModel",
            "_view_count": null,
            "_view_module": "@jupyter-widgets/base",
            "_view_module_version": "1.2.0",
            "_view_name": "StyleView",
            "description_width": ""
          }
        },
        "5b5b3209db8a40a5aada47814712329a": {
          "model_module": "@jupyter-widgets/base",
          "model_name": "LayoutModel",
          "model_module_version": "1.2.0",
          "state": {
            "_model_module": "@jupyter-widgets/base",
            "_model_module_version": "1.2.0",
            "_model_name": "LayoutModel",
            "_view_count": null,
            "_view_module": "@jupyter-widgets/base",
            "_view_module_version": "1.2.0",
            "_view_name": "LayoutView",
            "align_content": null,
            "align_items": null,
            "align_self": null,
            "border": null,
            "bottom": null,
            "display": null,
            "flex": null,
            "flex_flow": null,
            "grid_area": null,
            "grid_auto_columns": null,
            "grid_auto_flow": null,
            "grid_auto_rows": null,
            "grid_column": null,
            "grid_gap": null,
            "grid_row": null,
            "grid_template_areas": null,
            "grid_template_columns": null,
            "grid_template_rows": null,
            "height": null,
            "justify_content": null,
            "justify_items": null,
            "left": null,
            "margin": null,
            "max_height": null,
            "max_width": null,
            "min_height": null,
            "min_width": null,
            "object_fit": null,
            "object_position": null,
            "order": null,
            "overflow": null,
            "overflow_x": null,
            "overflow_y": null,
            "padding": null,
            "right": null,
            "top": null,
            "visibility": null,
            "width": null
          }
        },
        "c8a7844c0f724e1aa4dd0a2d1c911743": {
          "model_module": "@jupyter-widgets/controls",
          "model_name": "ProgressStyleModel",
          "model_module_version": "1.5.0",
          "state": {
            "_model_module": "@jupyter-widgets/controls",
            "_model_module_version": "1.5.0",
            "_model_name": "ProgressStyleModel",
            "_view_count": null,
            "_view_module": "@jupyter-widgets/base",
            "_view_module_version": "1.2.0",
            "_view_name": "StyleView",
            "bar_color": null,
            "description_width": ""
          }
        },
        "5c4e902c6bf34090853013e7a455c35e": {
          "model_module": "@jupyter-widgets/base",
          "model_name": "LayoutModel",
          "model_module_version": "1.2.0",
          "state": {
            "_model_module": "@jupyter-widgets/base",
            "_model_module_version": "1.2.0",
            "_model_name": "LayoutModel",
            "_view_count": null,
            "_view_module": "@jupyter-widgets/base",
            "_view_module_version": "1.2.0",
            "_view_name": "LayoutView",
            "align_content": null,
            "align_items": null,
            "align_self": null,
            "border": null,
            "bottom": null,
            "display": null,
            "flex": null,
            "flex_flow": null,
            "grid_area": null,
            "grid_auto_columns": null,
            "grid_auto_flow": null,
            "grid_auto_rows": null,
            "grid_column": null,
            "grid_gap": null,
            "grid_row": null,
            "grid_template_areas": null,
            "grid_template_columns": null,
            "grid_template_rows": null,
            "height": null,
            "justify_content": null,
            "justify_items": null,
            "left": null,
            "margin": null,
            "max_height": null,
            "max_width": null,
            "min_height": null,
            "min_width": null,
            "object_fit": null,
            "object_position": null,
            "order": null,
            "overflow": null,
            "overflow_x": null,
            "overflow_y": null,
            "padding": null,
            "right": null,
            "top": null,
            "visibility": null,
            "width": null
          }
        },
        "a7b962ec5e304a4c84ad6a2964ceba48": {
          "model_module": "@jupyter-widgets/controls",
          "model_name": "DescriptionStyleModel",
          "model_module_version": "1.5.0",
          "state": {
            "_model_module": "@jupyter-widgets/controls",
            "_model_module_version": "1.5.0",
            "_model_name": "DescriptionStyleModel",
            "_view_count": null,
            "_view_module": "@jupyter-widgets/base",
            "_view_module_version": "1.2.0",
            "_view_name": "StyleView",
            "description_width": ""
          }
        },
        "c165e0ef2c074a88b68fe5db219447bd": {
          "model_module": "@jupyter-widgets/controls",
          "model_name": "HBoxModel",
          "model_module_version": "1.5.0",
          "state": {
            "_dom_classes": [],
            "_model_module": "@jupyter-widgets/controls",
            "_model_module_version": "1.5.0",
            "_model_name": "HBoxModel",
            "_view_count": null,
            "_view_module": "@jupyter-widgets/controls",
            "_view_module_version": "1.5.0",
            "_view_name": "HBoxView",
            "box_style": "",
            "children": [
              "IPY_MODEL_0b9ac6e01dcd4fa2a6563b13e7852041",
              "IPY_MODEL_8554beb7f6e347b0a17c312d76a2dd9c",
              "IPY_MODEL_7ff1ed7ae52d4d77a0ed00bde0c181e8"
            ],
            "layout": "IPY_MODEL_8e3d34df52914d6084b522c950a6cda0"
          }
        },
        "0b9ac6e01dcd4fa2a6563b13e7852041": {
          "model_module": "@jupyter-widgets/controls",
          "model_name": "HTMLModel",
          "model_module_version": "1.5.0",
          "state": {
            "_dom_classes": [],
            "_model_module": "@jupyter-widgets/controls",
            "_model_module_version": "1.5.0",
            "_model_name": "HTMLModel",
            "_view_count": null,
            "_view_module": "@jupyter-widgets/controls",
            "_view_module_version": "1.5.0",
            "_view_name": "HTMLView",
            "description": "",
            "description_tooltip": null,
            "layout": "IPY_MODEL_48ccdfcad60d4705b088ca90aa181d18",
            "placeholder": "​",
            "style": "IPY_MODEL_587c57cfaefa4d5fa5a4cbc486ccfc9f",
            "value": "Downloading: 100%"
          }
        },
        "8554beb7f6e347b0a17c312d76a2dd9c": {
          "model_module": "@jupyter-widgets/controls",
          "model_name": "FloatProgressModel",
          "model_module_version": "1.5.0",
          "state": {
            "_dom_classes": [],
            "_model_module": "@jupyter-widgets/controls",
            "_model_module_version": "1.5.0",
            "_model_name": "FloatProgressModel",
            "_view_count": null,
            "_view_module": "@jupyter-widgets/controls",
            "_view_module_version": "1.5.0",
            "_view_name": "ProgressView",
            "bar_style": "success",
            "description": "",
            "description_tooltip": null,
            "layout": "IPY_MODEL_fd3d49f6b6704c71b35b68be1be4b77e",
            "max": 190,
            "min": 0,
            "orientation": "horizontal",
            "style": "IPY_MODEL_a51fb9c580f1455bbcba2c1fb02855b7",
            "value": 190
          }
        },
        "7ff1ed7ae52d4d77a0ed00bde0c181e8": {
          "model_module": "@jupyter-widgets/controls",
          "model_name": "HTMLModel",
          "model_module_version": "1.5.0",
          "state": {
            "_dom_classes": [],
            "_model_module": "@jupyter-widgets/controls",
            "_model_module_version": "1.5.0",
            "_model_name": "HTMLModel",
            "_view_count": null,
            "_view_module": "@jupyter-widgets/controls",
            "_view_module_version": "1.5.0",
            "_view_name": "HTMLView",
            "description": "",
            "description_tooltip": null,
            "layout": "IPY_MODEL_94aed1e1fa464a01a2f12cbf522be98c",
            "placeholder": "​",
            "style": "IPY_MODEL_b5ace0cbde3f4728a9669abf987f921e",
            "value": " 190/190 [00:00&lt;00:00, 1.44kB/s]"
          }
        },
        "8e3d34df52914d6084b522c950a6cda0": {
          "model_module": "@jupyter-widgets/base",
          "model_name": "LayoutModel",
          "model_module_version": "1.2.0",
          "state": {
            "_model_module": "@jupyter-widgets/base",
            "_model_module_version": "1.2.0",
            "_model_name": "LayoutModel",
            "_view_count": null,
            "_view_module": "@jupyter-widgets/base",
            "_view_module_version": "1.2.0",
            "_view_name": "LayoutView",
            "align_content": null,
            "align_items": null,
            "align_self": null,
            "border": null,
            "bottom": null,
            "display": null,
            "flex": null,
            "flex_flow": null,
            "grid_area": null,
            "grid_auto_columns": null,
            "grid_auto_flow": null,
            "grid_auto_rows": null,
            "grid_column": null,
            "grid_gap": null,
            "grid_row": null,
            "grid_template_areas": null,
            "grid_template_columns": null,
            "grid_template_rows": null,
            "height": null,
            "justify_content": null,
            "justify_items": null,
            "left": null,
            "margin": null,
            "max_height": null,
            "max_width": null,
            "min_height": null,
            "min_width": null,
            "object_fit": null,
            "object_position": null,
            "order": null,
            "overflow": null,
            "overflow_x": null,
            "overflow_y": null,
            "padding": null,
            "right": null,
            "top": null,
            "visibility": null,
            "width": null
          }
        },
        "48ccdfcad60d4705b088ca90aa181d18": {
          "model_module": "@jupyter-widgets/base",
          "model_name": "LayoutModel",
          "model_module_version": "1.2.0",
          "state": {
            "_model_module": "@jupyter-widgets/base",
            "_model_module_version": "1.2.0",
            "_model_name": "LayoutModel",
            "_view_count": null,
            "_view_module": "@jupyter-widgets/base",
            "_view_module_version": "1.2.0",
            "_view_name": "LayoutView",
            "align_content": null,
            "align_items": null,
            "align_self": null,
            "border": null,
            "bottom": null,
            "display": null,
            "flex": null,
            "flex_flow": null,
            "grid_area": null,
            "grid_auto_columns": null,
            "grid_auto_flow": null,
            "grid_auto_rows": null,
            "grid_column": null,
            "grid_gap": null,
            "grid_row": null,
            "grid_template_areas": null,
            "grid_template_columns": null,
            "grid_template_rows": null,
            "height": null,
            "justify_content": null,
            "justify_items": null,
            "left": null,
            "margin": null,
            "max_height": null,
            "max_width": null,
            "min_height": null,
            "min_width": null,
            "object_fit": null,
            "object_position": null,
            "order": null,
            "overflow": null,
            "overflow_x": null,
            "overflow_y": null,
            "padding": null,
            "right": null,
            "top": null,
            "visibility": null,
            "width": null
          }
        },
        "587c57cfaefa4d5fa5a4cbc486ccfc9f": {
          "model_module": "@jupyter-widgets/controls",
          "model_name": "DescriptionStyleModel",
          "model_module_version": "1.5.0",
          "state": {
            "_model_module": "@jupyter-widgets/controls",
            "_model_module_version": "1.5.0",
            "_model_name": "DescriptionStyleModel",
            "_view_count": null,
            "_view_module": "@jupyter-widgets/base",
            "_view_module_version": "1.2.0",
            "_view_name": "StyleView",
            "description_width": ""
          }
        },
        "fd3d49f6b6704c71b35b68be1be4b77e": {
          "model_module": "@jupyter-widgets/base",
          "model_name": "LayoutModel",
          "model_module_version": "1.2.0",
          "state": {
            "_model_module": "@jupyter-widgets/base",
            "_model_module_version": "1.2.0",
            "_model_name": "LayoutModel",
            "_view_count": null,
            "_view_module": "@jupyter-widgets/base",
            "_view_module_version": "1.2.0",
            "_view_name": "LayoutView",
            "align_content": null,
            "align_items": null,
            "align_self": null,
            "border": null,
            "bottom": null,
            "display": null,
            "flex": null,
            "flex_flow": null,
            "grid_area": null,
            "grid_auto_columns": null,
            "grid_auto_flow": null,
            "grid_auto_rows": null,
            "grid_column": null,
            "grid_gap": null,
            "grid_row": null,
            "grid_template_areas": null,
            "grid_template_columns": null,
            "grid_template_rows": null,
            "height": null,
            "justify_content": null,
            "justify_items": null,
            "left": null,
            "margin": null,
            "max_height": null,
            "max_width": null,
            "min_height": null,
            "min_width": null,
            "object_fit": null,
            "object_position": null,
            "order": null,
            "overflow": null,
            "overflow_x": null,
            "overflow_y": null,
            "padding": null,
            "right": null,
            "top": null,
            "visibility": null,
            "width": null
          }
        },
        "a51fb9c580f1455bbcba2c1fb02855b7": {
          "model_module": "@jupyter-widgets/controls",
          "model_name": "ProgressStyleModel",
          "model_module_version": "1.5.0",
          "state": {
            "_model_module": "@jupyter-widgets/controls",
            "_model_module_version": "1.5.0",
            "_model_name": "ProgressStyleModel",
            "_view_count": null,
            "_view_module": "@jupyter-widgets/base",
            "_view_module_version": "1.2.0",
            "_view_name": "StyleView",
            "bar_color": null,
            "description_width": ""
          }
        },
        "94aed1e1fa464a01a2f12cbf522be98c": {
          "model_module": "@jupyter-widgets/base",
          "model_name": "LayoutModel",
          "model_module_version": "1.2.0",
          "state": {
            "_model_module": "@jupyter-widgets/base",
            "_model_module_version": "1.2.0",
            "_model_name": "LayoutModel",
            "_view_count": null,
            "_view_module": "@jupyter-widgets/base",
            "_view_module_version": "1.2.0",
            "_view_name": "LayoutView",
            "align_content": null,
            "align_items": null,
            "align_self": null,
            "border": null,
            "bottom": null,
            "display": null,
            "flex": null,
            "flex_flow": null,
            "grid_area": null,
            "grid_auto_columns": null,
            "grid_auto_flow": null,
            "grid_auto_rows": null,
            "grid_column": null,
            "grid_gap": null,
            "grid_row": null,
            "grid_template_areas": null,
            "grid_template_columns": null,
            "grid_template_rows": null,
            "height": null,
            "justify_content": null,
            "justify_items": null,
            "left": null,
            "margin": null,
            "max_height": null,
            "max_width": null,
            "min_height": null,
            "min_width": null,
            "object_fit": null,
            "object_position": null,
            "order": null,
            "overflow": null,
            "overflow_x": null,
            "overflow_y": null,
            "padding": null,
            "right": null,
            "top": null,
            "visibility": null,
            "width": null
          }
        },
        "b5ace0cbde3f4728a9669abf987f921e": {
          "model_module": "@jupyter-widgets/controls",
          "model_name": "DescriptionStyleModel",
          "model_module_version": "1.5.0",
          "state": {
            "_model_module": "@jupyter-widgets/controls",
            "_model_module_version": "1.5.0",
            "_model_name": "DescriptionStyleModel",
            "_view_count": null,
            "_view_module": "@jupyter-widgets/base",
            "_view_module_version": "1.2.0",
            "_view_name": "StyleView",
            "description_width": ""
          }
        },
        "64655b387e8946d088c089b6b5d98436": {
          "model_module": "@jupyter-widgets/controls",
          "model_name": "HBoxModel",
          "model_module_version": "1.5.0",
          "state": {
            "_dom_classes": [],
            "_model_module": "@jupyter-widgets/controls",
            "_model_module_version": "1.5.0",
            "_model_name": "HBoxModel",
            "_view_count": null,
            "_view_module": "@jupyter-widgets/controls",
            "_view_module_version": "1.5.0",
            "_view_name": "HBoxView",
            "box_style": "",
            "children": [
              "IPY_MODEL_c5ae92bc8b4844b9a2fca755d06954ec",
              "IPY_MODEL_6adf45fa900f477e888db098e56bacaf",
              "IPY_MODEL_7cbe71d8115d4a1891f36ce746972eaf"
            ],
            "layout": "IPY_MODEL_a5893cd719514fbfa8d98a7f402f6142"
          }
        },
        "c5ae92bc8b4844b9a2fca755d06954ec": {
          "model_module": "@jupyter-widgets/controls",
          "model_name": "HTMLModel",
          "model_module_version": "1.5.0",
          "state": {
            "_dom_classes": [],
            "_model_module": "@jupyter-widgets/controls",
            "_model_module_version": "1.5.0",
            "_model_name": "HTMLModel",
            "_view_count": null,
            "_view_module": "@jupyter-widgets/controls",
            "_view_module_version": "1.5.0",
            "_view_name": "HTMLView",
            "description": "",
            "description_tooltip": null,
            "layout": "IPY_MODEL_a4ff7c8a22344c70923729c0d32952a3",
            "placeholder": "​",
            "style": "IPY_MODEL_64a58d9867b342cb8ba634ccb1788e9e",
            "value": "Downloading: 100%"
          }
        },
        "6adf45fa900f477e888db098e56bacaf": {
          "model_module": "@jupyter-widgets/controls",
          "model_name": "FloatProgressModel",
          "model_module_version": "1.5.0",
          "state": {
            "_dom_classes": [],
            "_model_module": "@jupyter-widgets/controls",
            "_model_module_version": "1.5.0",
            "_model_name": "FloatProgressModel",
            "_view_count": null,
            "_view_module": "@jupyter-widgets/controls",
            "_view_module_version": "1.5.0",
            "_view_name": "ProgressView",
            "bar_style": "success",
            "description": "",
            "description_tooltip": null,
            "layout": "IPY_MODEL_363bda4c782143c7999aba2ba080a2a7",
            "max": 3951,
            "min": 0,
            "orientation": "horizontal",
            "style": "IPY_MODEL_073969d4d28f4cabb79ab69736fd3519",
            "value": 3951
          }
        },
        "7cbe71d8115d4a1891f36ce746972eaf": {
          "model_module": "@jupyter-widgets/controls",
          "model_name": "HTMLModel",
          "model_module_version": "1.5.0",
          "state": {
            "_dom_classes": [],
            "_model_module": "@jupyter-widgets/controls",
            "_model_module_version": "1.5.0",
            "_model_name": "HTMLModel",
            "_view_count": null,
            "_view_module": "@jupyter-widgets/controls",
            "_view_module_version": "1.5.0",
            "_view_name": "HTMLView",
            "description": "",
            "description_tooltip": null,
            "layout": "IPY_MODEL_cd40da7254184c06848b72e027d59088",
            "placeholder": "​",
            "style": "IPY_MODEL_ccac010baaa94c15abe133996bd42163",
            "value": " 3.95k/3.95k [00:00&lt;00:00, 5.63kB/s]"
          }
        },
        "a5893cd719514fbfa8d98a7f402f6142": {
          "model_module": "@jupyter-widgets/base",
          "model_name": "LayoutModel",
          "model_module_version": "1.2.0",
          "state": {
            "_model_module": "@jupyter-widgets/base",
            "_model_module_version": "1.2.0",
            "_model_name": "LayoutModel",
            "_view_count": null,
            "_view_module": "@jupyter-widgets/base",
            "_view_module_version": "1.2.0",
            "_view_name": "LayoutView",
            "align_content": null,
            "align_items": null,
            "align_self": null,
            "border": null,
            "bottom": null,
            "display": null,
            "flex": null,
            "flex_flow": null,
            "grid_area": null,
            "grid_auto_columns": null,
            "grid_auto_flow": null,
            "grid_auto_rows": null,
            "grid_column": null,
            "grid_gap": null,
            "grid_row": null,
            "grid_template_areas": null,
            "grid_template_columns": null,
            "grid_template_rows": null,
            "height": null,
            "justify_content": null,
            "justify_items": null,
            "left": null,
            "margin": null,
            "max_height": null,
            "max_width": null,
            "min_height": null,
            "min_width": null,
            "object_fit": null,
            "object_position": null,
            "order": null,
            "overflow": null,
            "overflow_x": null,
            "overflow_y": null,
            "padding": null,
            "right": null,
            "top": null,
            "visibility": null,
            "width": null
          }
        },
        "a4ff7c8a22344c70923729c0d32952a3": {
          "model_module": "@jupyter-widgets/base",
          "model_name": "LayoutModel",
          "model_module_version": "1.2.0",
          "state": {
            "_model_module": "@jupyter-widgets/base",
            "_model_module_version": "1.2.0",
            "_model_name": "LayoutModel",
            "_view_count": null,
            "_view_module": "@jupyter-widgets/base",
            "_view_module_version": "1.2.0",
            "_view_name": "LayoutView",
            "align_content": null,
            "align_items": null,
            "align_self": null,
            "border": null,
            "bottom": null,
            "display": null,
            "flex": null,
            "flex_flow": null,
            "grid_area": null,
            "grid_auto_columns": null,
            "grid_auto_flow": null,
            "grid_auto_rows": null,
            "grid_column": null,
            "grid_gap": null,
            "grid_row": null,
            "grid_template_areas": null,
            "grid_template_columns": null,
            "grid_template_rows": null,
            "height": null,
            "justify_content": null,
            "justify_items": null,
            "left": null,
            "margin": null,
            "max_height": null,
            "max_width": null,
            "min_height": null,
            "min_width": null,
            "object_fit": null,
            "object_position": null,
            "order": null,
            "overflow": null,
            "overflow_x": null,
            "overflow_y": null,
            "padding": null,
            "right": null,
            "top": null,
            "visibility": null,
            "width": null
          }
        },
        "64a58d9867b342cb8ba634ccb1788e9e": {
          "model_module": "@jupyter-widgets/controls",
          "model_name": "DescriptionStyleModel",
          "model_module_version": "1.5.0",
          "state": {
            "_model_module": "@jupyter-widgets/controls",
            "_model_module_version": "1.5.0",
            "_model_name": "DescriptionStyleModel",
            "_view_count": null,
            "_view_module": "@jupyter-widgets/base",
            "_view_module_version": "1.2.0",
            "_view_name": "StyleView",
            "description_width": ""
          }
        },
        "363bda4c782143c7999aba2ba080a2a7": {
          "model_module": "@jupyter-widgets/base",
          "model_name": "LayoutModel",
          "model_module_version": "1.2.0",
          "state": {
            "_model_module": "@jupyter-widgets/base",
            "_model_module_version": "1.2.0",
            "_model_name": "LayoutModel",
            "_view_count": null,
            "_view_module": "@jupyter-widgets/base",
            "_view_module_version": "1.2.0",
            "_view_name": "LayoutView",
            "align_content": null,
            "align_items": null,
            "align_self": null,
            "border": null,
            "bottom": null,
            "display": null,
            "flex": null,
            "flex_flow": null,
            "grid_area": null,
            "grid_auto_columns": null,
            "grid_auto_flow": null,
            "grid_auto_rows": null,
            "grid_column": null,
            "grid_gap": null,
            "grid_row": null,
            "grid_template_areas": null,
            "grid_template_columns": null,
            "grid_template_rows": null,
            "height": null,
            "justify_content": null,
            "justify_items": null,
            "left": null,
            "margin": null,
            "max_height": null,
            "max_width": null,
            "min_height": null,
            "min_width": null,
            "object_fit": null,
            "object_position": null,
            "order": null,
            "overflow": null,
            "overflow_x": null,
            "overflow_y": null,
            "padding": null,
            "right": null,
            "top": null,
            "visibility": null,
            "width": null
          }
        },
        "073969d4d28f4cabb79ab69736fd3519": {
          "model_module": "@jupyter-widgets/controls",
          "model_name": "ProgressStyleModel",
          "model_module_version": "1.5.0",
          "state": {
            "_model_module": "@jupyter-widgets/controls",
            "_model_module_version": "1.5.0",
            "_model_name": "ProgressStyleModel",
            "_view_count": null,
            "_view_module": "@jupyter-widgets/base",
            "_view_module_version": "1.2.0",
            "_view_name": "StyleView",
            "bar_color": null,
            "description_width": ""
          }
        },
        "cd40da7254184c06848b72e027d59088": {
          "model_module": "@jupyter-widgets/base",
          "model_name": "LayoutModel",
          "model_module_version": "1.2.0",
          "state": {
            "_model_module": "@jupyter-widgets/base",
            "_model_module_version": "1.2.0",
            "_model_name": "LayoutModel",
            "_view_count": null,
            "_view_module": "@jupyter-widgets/base",
            "_view_module_version": "1.2.0",
            "_view_name": "LayoutView",
            "align_content": null,
            "align_items": null,
            "align_self": null,
            "border": null,
            "bottom": null,
            "display": null,
            "flex": null,
            "flex_flow": null,
            "grid_area": null,
            "grid_auto_columns": null,
            "grid_auto_flow": null,
            "grid_auto_rows": null,
            "grid_column": null,
            "grid_gap": null,
            "grid_row": null,
            "grid_template_areas": null,
            "grid_template_columns": null,
            "grid_template_rows": null,
            "height": null,
            "justify_content": null,
            "justify_items": null,
            "left": null,
            "margin": null,
            "max_height": null,
            "max_width": null,
            "min_height": null,
            "min_width": null,
            "object_fit": null,
            "object_position": null,
            "order": null,
            "overflow": null,
            "overflow_x": null,
            "overflow_y": null,
            "padding": null,
            "right": null,
            "top": null,
            "visibility": null,
            "width": null
          }
        },
        "ccac010baaa94c15abe133996bd42163": {
          "model_module": "@jupyter-widgets/controls",
          "model_name": "DescriptionStyleModel",
          "model_module_version": "1.5.0",
          "state": {
            "_model_module": "@jupyter-widgets/controls",
            "_model_module_version": "1.5.0",
            "_model_name": "DescriptionStyleModel",
            "_view_count": null,
            "_view_module": "@jupyter-widgets/base",
            "_view_module_version": "1.2.0",
            "_view_name": "StyleView",
            "description_width": ""
          }
        },
        "4bbc7d3066374967aa96daf1155d66e0": {
          "model_module": "@jupyter-widgets/controls",
          "model_name": "HBoxModel",
          "model_module_version": "1.5.0",
          "state": {
            "_dom_classes": [],
            "_model_module": "@jupyter-widgets/controls",
            "_model_module_version": "1.5.0",
            "_model_name": "HBoxModel",
            "_view_count": null,
            "_view_module": "@jupyter-widgets/controls",
            "_view_module_version": "1.5.0",
            "_view_name": "HBoxView",
            "box_style": "",
            "children": [
              "IPY_MODEL_9af28e27d5a34c82b9a546f83980bac0",
              "IPY_MODEL_8eb2afa4ea6a4ba192dfb44c0e0c376b",
              "IPY_MODEL_a1184c50caa545a6ae7789edba537c86"
            ],
            "layout": "IPY_MODEL_69a342cd949948caadb438cc10bfc7c6"
          }
        },
        "9af28e27d5a34c82b9a546f83980bac0": {
          "model_module": "@jupyter-widgets/controls",
          "model_name": "HTMLModel",
          "model_module_version": "1.5.0",
          "state": {
            "_dom_classes": [],
            "_model_module": "@jupyter-widgets/controls",
            "_model_module_version": "1.5.0",
            "_model_name": "HTMLModel",
            "_view_count": null,
            "_view_module": "@jupyter-widgets/controls",
            "_view_module_version": "1.5.0",
            "_view_name": "HTMLView",
            "description": "",
            "description_tooltip": null,
            "layout": "IPY_MODEL_dd9e42b26efc4ddea1ebc0f1258b38f9",
            "placeholder": "​",
            "style": "IPY_MODEL_d158ff51f9c245dda325ceaf3b7bef5c",
            "value": "Downloading: 100%"
          }
        },
        "8eb2afa4ea6a4ba192dfb44c0e0c376b": {
          "model_module": "@jupyter-widgets/controls",
          "model_name": "FloatProgressModel",
          "model_module_version": "1.5.0",
          "state": {
            "_dom_classes": [],
            "_model_module": "@jupyter-widgets/controls",
            "_model_module_version": "1.5.0",
            "_model_name": "FloatProgressModel",
            "_view_count": null,
            "_view_module": "@jupyter-widgets/controls",
            "_view_module_version": "1.5.0",
            "_view_name": "ProgressView",
            "bar_style": "success",
            "description": "",
            "description_tooltip": null,
            "layout": "IPY_MODEL_b562f061e6674752bb0f43bb5465fc31",
            "max": 2,
            "min": 0,
            "orientation": "horizontal",
            "style": "IPY_MODEL_8f334bffa06249b89711c75a28f36adb",
            "value": 2
          }
        },
        "a1184c50caa545a6ae7789edba537c86": {
          "model_module": "@jupyter-widgets/controls",
          "model_name": "HTMLModel",
          "model_module_version": "1.5.0",
          "state": {
            "_dom_classes": [],
            "_model_module": "@jupyter-widgets/controls",
            "_model_module_version": "1.5.0",
            "_model_name": "HTMLModel",
            "_view_count": null,
            "_view_module": "@jupyter-widgets/controls",
            "_view_module_version": "1.5.0",
            "_view_name": "HTMLView",
            "description": "",
            "description_tooltip": null,
            "layout": "IPY_MODEL_fbdcd8a1a54f449985c11e9a2a036206",
            "placeholder": "​",
            "style": "IPY_MODEL_f1ffd6850bd54a0dbf6b3cb5eb27bb7c",
            "value": " 2.00/2.00 [00:00&lt;00:00, 31.6B/s]"
          }
        },
        "69a342cd949948caadb438cc10bfc7c6": {
          "model_module": "@jupyter-widgets/base",
          "model_name": "LayoutModel",
          "model_module_version": "1.2.0",
          "state": {
            "_model_module": "@jupyter-widgets/base",
            "_model_module_version": "1.2.0",
            "_model_name": "LayoutModel",
            "_view_count": null,
            "_view_module": "@jupyter-widgets/base",
            "_view_module_version": "1.2.0",
            "_view_name": "LayoutView",
            "align_content": null,
            "align_items": null,
            "align_self": null,
            "border": null,
            "bottom": null,
            "display": null,
            "flex": null,
            "flex_flow": null,
            "grid_area": null,
            "grid_auto_columns": null,
            "grid_auto_flow": null,
            "grid_auto_rows": null,
            "grid_column": null,
            "grid_gap": null,
            "grid_row": null,
            "grid_template_areas": null,
            "grid_template_columns": null,
            "grid_template_rows": null,
            "height": null,
            "justify_content": null,
            "justify_items": null,
            "left": null,
            "margin": null,
            "max_height": null,
            "max_width": null,
            "min_height": null,
            "min_width": null,
            "object_fit": null,
            "object_position": null,
            "order": null,
            "overflow": null,
            "overflow_x": null,
            "overflow_y": null,
            "padding": null,
            "right": null,
            "top": null,
            "visibility": null,
            "width": null
          }
        },
        "dd9e42b26efc4ddea1ebc0f1258b38f9": {
          "model_module": "@jupyter-widgets/base",
          "model_name": "LayoutModel",
          "model_module_version": "1.2.0",
          "state": {
            "_model_module": "@jupyter-widgets/base",
            "_model_module_version": "1.2.0",
            "_model_name": "LayoutModel",
            "_view_count": null,
            "_view_module": "@jupyter-widgets/base",
            "_view_module_version": "1.2.0",
            "_view_name": "LayoutView",
            "align_content": null,
            "align_items": null,
            "align_self": null,
            "border": null,
            "bottom": null,
            "display": null,
            "flex": null,
            "flex_flow": null,
            "grid_area": null,
            "grid_auto_columns": null,
            "grid_auto_flow": null,
            "grid_auto_rows": null,
            "grid_column": null,
            "grid_gap": null,
            "grid_row": null,
            "grid_template_areas": null,
            "grid_template_columns": null,
            "grid_template_rows": null,
            "height": null,
            "justify_content": null,
            "justify_items": null,
            "left": null,
            "margin": null,
            "max_height": null,
            "max_width": null,
            "min_height": null,
            "min_width": null,
            "object_fit": null,
            "object_position": null,
            "order": null,
            "overflow": null,
            "overflow_x": null,
            "overflow_y": null,
            "padding": null,
            "right": null,
            "top": null,
            "visibility": null,
            "width": null
          }
        },
        "d158ff51f9c245dda325ceaf3b7bef5c": {
          "model_module": "@jupyter-widgets/controls",
          "model_name": "DescriptionStyleModel",
          "model_module_version": "1.5.0",
          "state": {
            "_model_module": "@jupyter-widgets/controls",
            "_model_module_version": "1.5.0",
            "_model_name": "DescriptionStyleModel",
            "_view_count": null,
            "_view_module": "@jupyter-widgets/base",
            "_view_module_version": "1.2.0",
            "_view_name": "StyleView",
            "description_width": ""
          }
        },
        "b562f061e6674752bb0f43bb5465fc31": {
          "model_module": "@jupyter-widgets/base",
          "model_name": "LayoutModel",
          "model_module_version": "1.2.0",
          "state": {
            "_model_module": "@jupyter-widgets/base",
            "_model_module_version": "1.2.0",
            "_model_name": "LayoutModel",
            "_view_count": null,
            "_view_module": "@jupyter-widgets/base",
            "_view_module_version": "1.2.0",
            "_view_name": "LayoutView",
            "align_content": null,
            "align_items": null,
            "align_self": null,
            "border": null,
            "bottom": null,
            "display": null,
            "flex": null,
            "flex_flow": null,
            "grid_area": null,
            "grid_auto_columns": null,
            "grid_auto_flow": null,
            "grid_auto_rows": null,
            "grid_column": null,
            "grid_gap": null,
            "grid_row": null,
            "grid_template_areas": null,
            "grid_template_columns": null,
            "grid_template_rows": null,
            "height": null,
            "justify_content": null,
            "justify_items": null,
            "left": null,
            "margin": null,
            "max_height": null,
            "max_width": null,
            "min_height": null,
            "min_width": null,
            "object_fit": null,
            "object_position": null,
            "order": null,
            "overflow": null,
            "overflow_x": null,
            "overflow_y": null,
            "padding": null,
            "right": null,
            "top": null,
            "visibility": null,
            "width": null
          }
        },
        "8f334bffa06249b89711c75a28f36adb": {
          "model_module": "@jupyter-widgets/controls",
          "model_name": "ProgressStyleModel",
          "model_module_version": "1.5.0",
          "state": {
            "_model_module": "@jupyter-widgets/controls",
            "_model_module_version": "1.5.0",
            "_model_name": "ProgressStyleModel",
            "_view_count": null,
            "_view_module": "@jupyter-widgets/base",
            "_view_module_version": "1.2.0",
            "_view_name": "StyleView",
            "bar_color": null,
            "description_width": ""
          }
        },
        "fbdcd8a1a54f449985c11e9a2a036206": {
          "model_module": "@jupyter-widgets/base",
          "model_name": "LayoutModel",
          "model_module_version": "1.2.0",
          "state": {
            "_model_module": "@jupyter-widgets/base",
            "_model_module_version": "1.2.0",
            "_model_name": "LayoutModel",
            "_view_count": null,
            "_view_module": "@jupyter-widgets/base",
            "_view_module_version": "1.2.0",
            "_view_name": "LayoutView",
            "align_content": null,
            "align_items": null,
            "align_self": null,
            "border": null,
            "bottom": null,
            "display": null,
            "flex": null,
            "flex_flow": null,
            "grid_area": null,
            "grid_auto_columns": null,
            "grid_auto_flow": null,
            "grid_auto_rows": null,
            "grid_column": null,
            "grid_gap": null,
            "grid_row": null,
            "grid_template_areas": null,
            "grid_template_columns": null,
            "grid_template_rows": null,
            "height": null,
            "justify_content": null,
            "justify_items": null,
            "left": null,
            "margin": null,
            "max_height": null,
            "max_width": null,
            "min_height": null,
            "min_width": null,
            "object_fit": null,
            "object_position": null,
            "order": null,
            "overflow": null,
            "overflow_x": null,
            "overflow_y": null,
            "padding": null,
            "right": null,
            "top": null,
            "visibility": null,
            "width": null
          }
        },
        "f1ffd6850bd54a0dbf6b3cb5eb27bb7c": {
          "model_module": "@jupyter-widgets/controls",
          "model_name": "DescriptionStyleModel",
          "model_module_version": "1.5.0",
          "state": {
            "_model_module": "@jupyter-widgets/controls",
            "_model_module_version": "1.5.0",
            "_model_name": "DescriptionStyleModel",
            "_view_count": null,
            "_view_module": "@jupyter-widgets/base",
            "_view_module_version": "1.2.0",
            "_view_name": "StyleView",
            "description_width": ""
          }
        },
        "87191ad121544dae9a749f06118b2ff4": {
          "model_module": "@jupyter-widgets/controls",
          "model_name": "HBoxModel",
          "model_module_version": "1.5.0",
          "state": {
            "_dom_classes": [],
            "_model_module": "@jupyter-widgets/controls",
            "_model_module_version": "1.5.0",
            "_model_name": "HBoxModel",
            "_view_count": null,
            "_view_module": "@jupyter-widgets/controls",
            "_view_module_version": "1.5.0",
            "_view_name": "HBoxView",
            "box_style": "",
            "children": [
              "IPY_MODEL_2209ed7d1ab04b34b7ef6a550cf373ab",
              "IPY_MODEL_c306c87755c1442f89c44cbef8f77d69",
              "IPY_MODEL_0822ee178d824e0f80631c9e18ec9f9e"
            ],
            "layout": "IPY_MODEL_600a759fb216446085fa58fa59a8c5f0"
          }
        },
        "2209ed7d1ab04b34b7ef6a550cf373ab": {
          "model_module": "@jupyter-widgets/controls",
          "model_name": "HTMLModel",
          "model_module_version": "1.5.0",
          "state": {
            "_dom_classes": [],
            "_model_module": "@jupyter-widgets/controls",
            "_model_module_version": "1.5.0",
            "_model_name": "HTMLModel",
            "_view_count": null,
            "_view_module": "@jupyter-widgets/controls",
            "_view_module_version": "1.5.0",
            "_view_name": "HTMLView",
            "description": "",
            "description_tooltip": null,
            "layout": "IPY_MODEL_e0cea84178394bcd8322f4bdbb88c069",
            "placeholder": "​",
            "style": "IPY_MODEL_abe16a0d02cd4457b7c13c2abd5b9311",
            "value": "Downloading: 100%"
          }
        },
        "c306c87755c1442f89c44cbef8f77d69": {
          "model_module": "@jupyter-widgets/controls",
          "model_name": "FloatProgressModel",
          "model_module_version": "1.5.0",
          "state": {
            "_dom_classes": [],
            "_model_module": "@jupyter-widgets/controls",
            "_model_module_version": "1.5.0",
            "_model_name": "FloatProgressModel",
            "_view_count": null,
            "_view_module": "@jupyter-widgets/controls",
            "_view_module_version": "1.5.0",
            "_view_name": "ProgressView",
            "bar_style": "success",
            "description": "",
            "description_tooltip": null,
            "layout": "IPY_MODEL_8175d22ede604f3891c477ea72a2a371",
            "max": 625,
            "min": 0,
            "orientation": "horizontal",
            "style": "IPY_MODEL_df7819b55ceb4fbb94d4f8d0bb94229e",
            "value": 625
          }
        },
        "0822ee178d824e0f80631c9e18ec9f9e": {
          "model_module": "@jupyter-widgets/controls",
          "model_name": "HTMLModel",
          "model_module_version": "1.5.0",
          "state": {
            "_dom_classes": [],
            "_model_module": "@jupyter-widgets/controls",
            "_model_module_version": "1.5.0",
            "_model_name": "HTMLModel",
            "_view_count": null,
            "_view_module": "@jupyter-widgets/controls",
            "_view_module_version": "1.5.0",
            "_view_name": "HTMLView",
            "description": "",
            "description_tooltip": null,
            "layout": "IPY_MODEL_f2e7e20e1653469ab833e135bc1d37ee",
            "placeholder": "​",
            "style": "IPY_MODEL_a4746239b85749d79d2d8b882673d232",
            "value": " 625/625 [00:00&lt;00:00, 4.54kB/s]"
          }
        },
        "600a759fb216446085fa58fa59a8c5f0": {
          "model_module": "@jupyter-widgets/base",
          "model_name": "LayoutModel",
          "model_module_version": "1.2.0",
          "state": {
            "_model_module": "@jupyter-widgets/base",
            "_model_module_version": "1.2.0",
            "_model_name": "LayoutModel",
            "_view_count": null,
            "_view_module": "@jupyter-widgets/base",
            "_view_module_version": "1.2.0",
            "_view_name": "LayoutView",
            "align_content": null,
            "align_items": null,
            "align_self": null,
            "border": null,
            "bottom": null,
            "display": null,
            "flex": null,
            "flex_flow": null,
            "grid_area": null,
            "grid_auto_columns": null,
            "grid_auto_flow": null,
            "grid_auto_rows": null,
            "grid_column": null,
            "grid_gap": null,
            "grid_row": null,
            "grid_template_areas": null,
            "grid_template_columns": null,
            "grid_template_rows": null,
            "height": null,
            "justify_content": null,
            "justify_items": null,
            "left": null,
            "margin": null,
            "max_height": null,
            "max_width": null,
            "min_height": null,
            "min_width": null,
            "object_fit": null,
            "object_position": null,
            "order": null,
            "overflow": null,
            "overflow_x": null,
            "overflow_y": null,
            "padding": null,
            "right": null,
            "top": null,
            "visibility": null,
            "width": null
          }
        },
        "e0cea84178394bcd8322f4bdbb88c069": {
          "model_module": "@jupyter-widgets/base",
          "model_name": "LayoutModel",
          "model_module_version": "1.2.0",
          "state": {
            "_model_module": "@jupyter-widgets/base",
            "_model_module_version": "1.2.0",
            "_model_name": "LayoutModel",
            "_view_count": null,
            "_view_module": "@jupyter-widgets/base",
            "_view_module_version": "1.2.0",
            "_view_name": "LayoutView",
            "align_content": null,
            "align_items": null,
            "align_self": null,
            "border": null,
            "bottom": null,
            "display": null,
            "flex": null,
            "flex_flow": null,
            "grid_area": null,
            "grid_auto_columns": null,
            "grid_auto_flow": null,
            "grid_auto_rows": null,
            "grid_column": null,
            "grid_gap": null,
            "grid_row": null,
            "grid_template_areas": null,
            "grid_template_columns": null,
            "grid_template_rows": null,
            "height": null,
            "justify_content": null,
            "justify_items": null,
            "left": null,
            "margin": null,
            "max_height": null,
            "max_width": null,
            "min_height": null,
            "min_width": null,
            "object_fit": null,
            "object_position": null,
            "order": null,
            "overflow": null,
            "overflow_x": null,
            "overflow_y": null,
            "padding": null,
            "right": null,
            "top": null,
            "visibility": null,
            "width": null
          }
        },
        "abe16a0d02cd4457b7c13c2abd5b9311": {
          "model_module": "@jupyter-widgets/controls",
          "model_name": "DescriptionStyleModel",
          "model_module_version": "1.5.0",
          "state": {
            "_model_module": "@jupyter-widgets/controls",
            "_model_module_version": "1.5.0",
            "_model_name": "DescriptionStyleModel",
            "_view_count": null,
            "_view_module": "@jupyter-widgets/base",
            "_view_module_version": "1.2.0",
            "_view_name": "StyleView",
            "description_width": ""
          }
        },
        "8175d22ede604f3891c477ea72a2a371": {
          "model_module": "@jupyter-widgets/base",
          "model_name": "LayoutModel",
          "model_module_version": "1.2.0",
          "state": {
            "_model_module": "@jupyter-widgets/base",
            "_model_module_version": "1.2.0",
            "_model_name": "LayoutModel",
            "_view_count": null,
            "_view_module": "@jupyter-widgets/base",
            "_view_module_version": "1.2.0",
            "_view_name": "LayoutView",
            "align_content": null,
            "align_items": null,
            "align_self": null,
            "border": null,
            "bottom": null,
            "display": null,
            "flex": null,
            "flex_flow": null,
            "grid_area": null,
            "grid_auto_columns": null,
            "grid_auto_flow": null,
            "grid_auto_rows": null,
            "grid_column": null,
            "grid_gap": null,
            "grid_row": null,
            "grid_template_areas": null,
            "grid_template_columns": null,
            "grid_template_rows": null,
            "height": null,
            "justify_content": null,
            "justify_items": null,
            "left": null,
            "margin": null,
            "max_height": null,
            "max_width": null,
            "min_height": null,
            "min_width": null,
            "object_fit": null,
            "object_position": null,
            "order": null,
            "overflow": null,
            "overflow_x": null,
            "overflow_y": null,
            "padding": null,
            "right": null,
            "top": null,
            "visibility": null,
            "width": null
          }
        },
        "df7819b55ceb4fbb94d4f8d0bb94229e": {
          "model_module": "@jupyter-widgets/controls",
          "model_name": "ProgressStyleModel",
          "model_module_version": "1.5.0",
          "state": {
            "_model_module": "@jupyter-widgets/controls",
            "_model_module_version": "1.5.0",
            "_model_name": "ProgressStyleModel",
            "_view_count": null,
            "_view_module": "@jupyter-widgets/base",
            "_view_module_version": "1.2.0",
            "_view_name": "StyleView",
            "bar_color": null,
            "description_width": ""
          }
        },
        "f2e7e20e1653469ab833e135bc1d37ee": {
          "model_module": "@jupyter-widgets/base",
          "model_name": "LayoutModel",
          "model_module_version": "1.2.0",
          "state": {
            "_model_module": "@jupyter-widgets/base",
            "_model_module_version": "1.2.0",
            "_model_name": "LayoutModel",
            "_view_count": null,
            "_view_module": "@jupyter-widgets/base",
            "_view_module_version": "1.2.0",
            "_view_name": "LayoutView",
            "align_content": null,
            "align_items": null,
            "align_self": null,
            "border": null,
            "bottom": null,
            "display": null,
            "flex": null,
            "flex_flow": null,
            "grid_area": null,
            "grid_auto_columns": null,
            "grid_auto_flow": null,
            "grid_auto_rows": null,
            "grid_column": null,
            "grid_gap": null,
            "grid_row": null,
            "grid_template_areas": null,
            "grid_template_columns": null,
            "grid_template_rows": null,
            "height": null,
            "justify_content": null,
            "justify_items": null,
            "left": null,
            "margin": null,
            "max_height": null,
            "max_width": null,
            "min_height": null,
            "min_width": null,
            "object_fit": null,
            "object_position": null,
            "order": null,
            "overflow": null,
            "overflow_x": null,
            "overflow_y": null,
            "padding": null,
            "right": null,
            "top": null,
            "visibility": null,
            "width": null
          }
        },
        "a4746239b85749d79d2d8b882673d232": {
          "model_module": "@jupyter-widgets/controls",
          "model_name": "DescriptionStyleModel",
          "model_module_version": "1.5.0",
          "state": {
            "_model_module": "@jupyter-widgets/controls",
            "_model_module_version": "1.5.0",
            "_model_name": "DescriptionStyleModel",
            "_view_count": null,
            "_view_module": "@jupyter-widgets/base",
            "_view_module_version": "1.2.0",
            "_view_name": "StyleView",
            "description_width": ""
          }
        },
        "faad5873b4df4389bd95343b9861fb5f": {
          "model_module": "@jupyter-widgets/controls",
          "model_name": "HBoxModel",
          "model_module_version": "1.5.0",
          "state": {
            "_dom_classes": [],
            "_model_module": "@jupyter-widgets/controls",
            "_model_module_version": "1.5.0",
            "_model_name": "HBoxModel",
            "_view_count": null,
            "_view_module": "@jupyter-widgets/controls",
            "_view_module_version": "1.5.0",
            "_view_name": "HBoxView",
            "box_style": "",
            "children": [
              "IPY_MODEL_d5e18e3226dc4cea81d295eaa2b7fece",
              "IPY_MODEL_6393a4ff8c1e49579e1c756dd28ab48d",
              "IPY_MODEL_eb35e7198ca743b69d21f3adba3503c1"
            ],
            "layout": "IPY_MODEL_e88a48da6e2242ae8a1ca124712c2c36"
          }
        },
        "d5e18e3226dc4cea81d295eaa2b7fece": {
          "model_module": "@jupyter-widgets/controls",
          "model_name": "HTMLModel",
          "model_module_version": "1.5.0",
          "state": {
            "_dom_classes": [],
            "_model_module": "@jupyter-widgets/controls",
            "_model_module_version": "1.5.0",
            "_model_name": "HTMLModel",
            "_view_count": null,
            "_view_module": "@jupyter-widgets/controls",
            "_view_module_version": "1.5.0",
            "_view_name": "HTMLView",
            "description": "",
            "description_tooltip": null,
            "layout": "IPY_MODEL_5b72ab8ae10b43eb97ce2932e7f00f27",
            "placeholder": "​",
            "style": "IPY_MODEL_37cd5218ba994f3e85bf98c20c12ccd8",
            "value": "Downloading: 100%"
          }
        },
        "6393a4ff8c1e49579e1c756dd28ab48d": {
          "model_module": "@jupyter-widgets/controls",
          "model_name": "FloatProgressModel",
          "model_module_version": "1.5.0",
          "state": {
            "_dom_classes": [],
            "_model_module": "@jupyter-widgets/controls",
            "_model_module_version": "1.5.0",
            "_model_name": "FloatProgressModel",
            "_view_count": null,
            "_view_module": "@jupyter-widgets/controls",
            "_view_module_version": "1.5.0",
            "_view_name": "ProgressView",
            "bar_style": "success",
            "description": "",
            "description_tooltip": null,
            "layout": "IPY_MODEL_2085131acc7f4586be88d51ecc1a4bfe",
            "max": 122,
            "min": 0,
            "orientation": "horizontal",
            "style": "IPY_MODEL_4e8e22d9709047018b67e0d19725242a",
            "value": 122
          }
        },
        "eb35e7198ca743b69d21f3adba3503c1": {
          "model_module": "@jupyter-widgets/controls",
          "model_name": "HTMLModel",
          "model_module_version": "1.5.0",
          "state": {
            "_dom_classes": [],
            "_model_module": "@jupyter-widgets/controls",
            "_model_module_version": "1.5.0",
            "_model_name": "HTMLModel",
            "_view_count": null,
            "_view_module": "@jupyter-widgets/controls",
            "_view_module_version": "1.5.0",
            "_view_name": "HTMLView",
            "description": "",
            "description_tooltip": null,
            "layout": "IPY_MODEL_5eee0486d43a41f2857de134094a636f",
            "placeholder": "​",
            "style": "IPY_MODEL_f2d5a8c480964621bccfdbdf006c6306",
            "value": " 122/122 [00:00&lt;00:00, 847B/s]"
          }
        },
        "e88a48da6e2242ae8a1ca124712c2c36": {
          "model_module": "@jupyter-widgets/base",
          "model_name": "LayoutModel",
          "model_module_version": "1.2.0",
          "state": {
            "_model_module": "@jupyter-widgets/base",
            "_model_module_version": "1.2.0",
            "_model_name": "LayoutModel",
            "_view_count": null,
            "_view_module": "@jupyter-widgets/base",
            "_view_module_version": "1.2.0",
            "_view_name": "LayoutView",
            "align_content": null,
            "align_items": null,
            "align_self": null,
            "border": null,
            "bottom": null,
            "display": null,
            "flex": null,
            "flex_flow": null,
            "grid_area": null,
            "grid_auto_columns": null,
            "grid_auto_flow": null,
            "grid_auto_rows": null,
            "grid_column": null,
            "grid_gap": null,
            "grid_row": null,
            "grid_template_areas": null,
            "grid_template_columns": null,
            "grid_template_rows": null,
            "height": null,
            "justify_content": null,
            "justify_items": null,
            "left": null,
            "margin": null,
            "max_height": null,
            "max_width": null,
            "min_height": null,
            "min_width": null,
            "object_fit": null,
            "object_position": null,
            "order": null,
            "overflow": null,
            "overflow_x": null,
            "overflow_y": null,
            "padding": null,
            "right": null,
            "top": null,
            "visibility": null,
            "width": null
          }
        },
        "5b72ab8ae10b43eb97ce2932e7f00f27": {
          "model_module": "@jupyter-widgets/base",
          "model_name": "LayoutModel",
          "model_module_version": "1.2.0",
          "state": {
            "_model_module": "@jupyter-widgets/base",
            "_model_module_version": "1.2.0",
            "_model_name": "LayoutModel",
            "_view_count": null,
            "_view_module": "@jupyter-widgets/base",
            "_view_module_version": "1.2.0",
            "_view_name": "LayoutView",
            "align_content": null,
            "align_items": null,
            "align_self": null,
            "border": null,
            "bottom": null,
            "display": null,
            "flex": null,
            "flex_flow": null,
            "grid_area": null,
            "grid_auto_columns": null,
            "grid_auto_flow": null,
            "grid_auto_rows": null,
            "grid_column": null,
            "grid_gap": null,
            "grid_row": null,
            "grid_template_areas": null,
            "grid_template_columns": null,
            "grid_template_rows": null,
            "height": null,
            "justify_content": null,
            "justify_items": null,
            "left": null,
            "margin": null,
            "max_height": null,
            "max_width": null,
            "min_height": null,
            "min_width": null,
            "object_fit": null,
            "object_position": null,
            "order": null,
            "overflow": null,
            "overflow_x": null,
            "overflow_y": null,
            "padding": null,
            "right": null,
            "top": null,
            "visibility": null,
            "width": null
          }
        },
        "37cd5218ba994f3e85bf98c20c12ccd8": {
          "model_module": "@jupyter-widgets/controls",
          "model_name": "DescriptionStyleModel",
          "model_module_version": "1.5.0",
          "state": {
            "_model_module": "@jupyter-widgets/controls",
            "_model_module_version": "1.5.0",
            "_model_name": "DescriptionStyleModel",
            "_view_count": null,
            "_view_module": "@jupyter-widgets/base",
            "_view_module_version": "1.2.0",
            "_view_name": "StyleView",
            "description_width": ""
          }
        },
        "2085131acc7f4586be88d51ecc1a4bfe": {
          "model_module": "@jupyter-widgets/base",
          "model_name": "LayoutModel",
          "model_module_version": "1.2.0",
          "state": {
            "_model_module": "@jupyter-widgets/base",
            "_model_module_version": "1.2.0",
            "_model_name": "LayoutModel",
            "_view_count": null,
            "_view_module": "@jupyter-widgets/base",
            "_view_module_version": "1.2.0",
            "_view_name": "LayoutView",
            "align_content": null,
            "align_items": null,
            "align_self": null,
            "border": null,
            "bottom": null,
            "display": null,
            "flex": null,
            "flex_flow": null,
            "grid_area": null,
            "grid_auto_columns": null,
            "grid_auto_flow": null,
            "grid_auto_rows": null,
            "grid_column": null,
            "grid_gap": null,
            "grid_row": null,
            "grid_template_areas": null,
            "grid_template_columns": null,
            "grid_template_rows": null,
            "height": null,
            "justify_content": null,
            "justify_items": null,
            "left": null,
            "margin": null,
            "max_height": null,
            "max_width": null,
            "min_height": null,
            "min_width": null,
            "object_fit": null,
            "object_position": null,
            "order": null,
            "overflow": null,
            "overflow_x": null,
            "overflow_y": null,
            "padding": null,
            "right": null,
            "top": null,
            "visibility": null,
            "width": null
          }
        },
        "4e8e22d9709047018b67e0d19725242a": {
          "model_module": "@jupyter-widgets/controls",
          "model_name": "ProgressStyleModel",
          "model_module_version": "1.5.0",
          "state": {
            "_model_module": "@jupyter-widgets/controls",
            "_model_module_version": "1.5.0",
            "_model_name": "ProgressStyleModel",
            "_view_count": null,
            "_view_module": "@jupyter-widgets/base",
            "_view_module_version": "1.2.0",
            "_view_name": "StyleView",
            "bar_color": null,
            "description_width": ""
          }
        },
        "5eee0486d43a41f2857de134094a636f": {
          "model_module": "@jupyter-widgets/base",
          "model_name": "LayoutModel",
          "model_module_version": "1.2.0",
          "state": {
            "_model_module": "@jupyter-widgets/base",
            "_model_module_version": "1.2.0",
            "_model_name": "LayoutModel",
            "_view_count": null,
            "_view_module": "@jupyter-widgets/base",
            "_view_module_version": "1.2.0",
            "_view_name": "LayoutView",
            "align_content": null,
            "align_items": null,
            "align_self": null,
            "border": null,
            "bottom": null,
            "display": null,
            "flex": null,
            "flex_flow": null,
            "grid_area": null,
            "grid_auto_columns": null,
            "grid_auto_flow": null,
            "grid_auto_rows": null,
            "grid_column": null,
            "grid_gap": null,
            "grid_row": null,
            "grid_template_areas": null,
            "grid_template_columns": null,
            "grid_template_rows": null,
            "height": null,
            "justify_content": null,
            "justify_items": null,
            "left": null,
            "margin": null,
            "max_height": null,
            "max_width": null,
            "min_height": null,
            "min_width": null,
            "object_fit": null,
            "object_position": null,
            "order": null,
            "overflow": null,
            "overflow_x": null,
            "overflow_y": null,
            "padding": null,
            "right": null,
            "top": null,
            "visibility": null,
            "width": null
          }
        },
        "f2d5a8c480964621bccfdbdf006c6306": {
          "model_module": "@jupyter-widgets/controls",
          "model_name": "DescriptionStyleModel",
          "model_module_version": "1.5.0",
          "state": {
            "_model_module": "@jupyter-widgets/controls",
            "_model_module_version": "1.5.0",
            "_model_name": "DescriptionStyleModel",
            "_view_count": null,
            "_view_module": "@jupyter-widgets/base",
            "_view_module_version": "1.2.0",
            "_view_name": "StyleView",
            "description_width": ""
          }
        },
        "ad7fbb4deb1a43bb8ef553b786210777": {
          "model_module": "@jupyter-widgets/controls",
          "model_name": "HBoxModel",
          "model_module_version": "1.5.0",
          "state": {
            "_dom_classes": [],
            "_model_module": "@jupyter-widgets/controls",
            "_model_module_version": "1.5.0",
            "_model_name": "HBoxModel",
            "_view_count": null,
            "_view_module": "@jupyter-widgets/controls",
            "_view_module_version": "1.5.0",
            "_view_name": "HBoxView",
            "box_style": "",
            "children": [
              "IPY_MODEL_e8d3e6fb97234a8fa25e772dbc4115eb",
              "IPY_MODEL_3d62740ba6284f4bb45510143399f7d9",
              "IPY_MODEL_8481d88c13cc40ce8dcf5a2d062c47dd"
            ],
            "layout": "IPY_MODEL_3c048df165c64bf59ec8cb8ea042ca14"
          }
        },
        "e8d3e6fb97234a8fa25e772dbc4115eb": {
          "model_module": "@jupyter-widgets/controls",
          "model_name": "HTMLModel",
          "model_module_version": "1.5.0",
          "state": {
            "_dom_classes": [],
            "_model_module": "@jupyter-widgets/controls",
            "_model_module_version": "1.5.0",
            "_model_name": "HTMLModel",
            "_view_count": null,
            "_view_module": "@jupyter-widgets/controls",
            "_view_module_version": "1.5.0",
            "_view_name": "HTMLView",
            "description": "",
            "description_tooltip": null,
            "layout": "IPY_MODEL_22f9bbc5962a4c9185ab1c4b80b03d9b",
            "placeholder": "​",
            "style": "IPY_MODEL_d157049cf98749529bb1dc5fddbc1a0a",
            "value": "Downloading: 100%"
          }
        },
        "3d62740ba6284f4bb45510143399f7d9": {
          "model_module": "@jupyter-widgets/controls",
          "model_name": "FloatProgressModel",
          "model_module_version": "1.5.0",
          "state": {
            "_dom_classes": [],
            "_model_module": "@jupyter-widgets/controls",
            "_model_module_version": "1.5.0",
            "_model_name": "FloatProgressModel",
            "_view_count": null,
            "_view_module": "@jupyter-widgets/controls",
            "_view_module_version": "1.5.0",
            "_view_name": "ProgressView",
            "bar_style": "success",
            "description": "",
            "description_tooltip": null,
            "layout": "IPY_MODEL_134d2e75bb1543eea9f89dabd5e149e3",
            "max": 229,
            "min": 0,
            "orientation": "horizontal",
            "style": "IPY_MODEL_5652fa21d1a54a9ca272d81b68d40e6a",
            "value": 229
          }
        },
        "8481d88c13cc40ce8dcf5a2d062c47dd": {
          "model_module": "@jupyter-widgets/controls",
          "model_name": "HTMLModel",
          "model_module_version": "1.5.0",
          "state": {
            "_dom_classes": [],
            "_model_module": "@jupyter-widgets/controls",
            "_model_module_version": "1.5.0",
            "_model_name": "HTMLModel",
            "_view_count": null,
            "_view_module": "@jupyter-widgets/controls",
            "_view_module_version": "1.5.0",
            "_view_name": "HTMLView",
            "description": "",
            "description_tooltip": null,
            "layout": "IPY_MODEL_0d4a0954d6ae4ff79b0f99d466c394ec",
            "placeholder": "​",
            "style": "IPY_MODEL_28018951644045c2a0241dfe9598add1",
            "value": " 229/229 [00:00&lt;00:00, 1.78kB/s]"
          }
        },
        "3c048df165c64bf59ec8cb8ea042ca14": {
          "model_module": "@jupyter-widgets/base",
          "model_name": "LayoutModel",
          "model_module_version": "1.2.0",
          "state": {
            "_model_module": "@jupyter-widgets/base",
            "_model_module_version": "1.2.0",
            "_model_name": "LayoutModel",
            "_view_count": null,
            "_view_module": "@jupyter-widgets/base",
            "_view_module_version": "1.2.0",
            "_view_name": "LayoutView",
            "align_content": null,
            "align_items": null,
            "align_self": null,
            "border": null,
            "bottom": null,
            "display": null,
            "flex": null,
            "flex_flow": null,
            "grid_area": null,
            "grid_auto_columns": null,
            "grid_auto_flow": null,
            "grid_auto_rows": null,
            "grid_column": null,
            "grid_gap": null,
            "grid_row": null,
            "grid_template_areas": null,
            "grid_template_columns": null,
            "grid_template_rows": null,
            "height": null,
            "justify_content": null,
            "justify_items": null,
            "left": null,
            "margin": null,
            "max_height": null,
            "max_width": null,
            "min_height": null,
            "min_width": null,
            "object_fit": null,
            "object_position": null,
            "order": null,
            "overflow": null,
            "overflow_x": null,
            "overflow_y": null,
            "padding": null,
            "right": null,
            "top": null,
            "visibility": null,
            "width": null
          }
        },
        "22f9bbc5962a4c9185ab1c4b80b03d9b": {
          "model_module": "@jupyter-widgets/base",
          "model_name": "LayoutModel",
          "model_module_version": "1.2.0",
          "state": {
            "_model_module": "@jupyter-widgets/base",
            "_model_module_version": "1.2.0",
            "_model_name": "LayoutModel",
            "_view_count": null,
            "_view_module": "@jupyter-widgets/base",
            "_view_module_version": "1.2.0",
            "_view_name": "LayoutView",
            "align_content": null,
            "align_items": null,
            "align_self": null,
            "border": null,
            "bottom": null,
            "display": null,
            "flex": null,
            "flex_flow": null,
            "grid_area": null,
            "grid_auto_columns": null,
            "grid_auto_flow": null,
            "grid_auto_rows": null,
            "grid_column": null,
            "grid_gap": null,
            "grid_row": null,
            "grid_template_areas": null,
            "grid_template_columns": null,
            "grid_template_rows": null,
            "height": null,
            "justify_content": null,
            "justify_items": null,
            "left": null,
            "margin": null,
            "max_height": null,
            "max_width": null,
            "min_height": null,
            "min_width": null,
            "object_fit": null,
            "object_position": null,
            "order": null,
            "overflow": null,
            "overflow_x": null,
            "overflow_y": null,
            "padding": null,
            "right": null,
            "top": null,
            "visibility": null,
            "width": null
          }
        },
        "d157049cf98749529bb1dc5fddbc1a0a": {
          "model_module": "@jupyter-widgets/controls",
          "model_name": "DescriptionStyleModel",
          "model_module_version": "1.5.0",
          "state": {
            "_model_module": "@jupyter-widgets/controls",
            "_model_module_version": "1.5.0",
            "_model_name": "DescriptionStyleModel",
            "_view_count": null,
            "_view_module": "@jupyter-widgets/base",
            "_view_module_version": "1.2.0",
            "_view_name": "StyleView",
            "description_width": ""
          }
        },
        "134d2e75bb1543eea9f89dabd5e149e3": {
          "model_module": "@jupyter-widgets/base",
          "model_name": "LayoutModel",
          "model_module_version": "1.2.0",
          "state": {
            "_model_module": "@jupyter-widgets/base",
            "_model_module_version": "1.2.0",
            "_model_name": "LayoutModel",
            "_view_count": null,
            "_view_module": "@jupyter-widgets/base",
            "_view_module_version": "1.2.0",
            "_view_name": "LayoutView",
            "align_content": null,
            "align_items": null,
            "align_self": null,
            "border": null,
            "bottom": null,
            "display": null,
            "flex": null,
            "flex_flow": null,
            "grid_area": null,
            "grid_auto_columns": null,
            "grid_auto_flow": null,
            "grid_auto_rows": null,
            "grid_column": null,
            "grid_gap": null,
            "grid_row": null,
            "grid_template_areas": null,
            "grid_template_columns": null,
            "grid_template_rows": null,
            "height": null,
            "justify_content": null,
            "justify_items": null,
            "left": null,
            "margin": null,
            "max_height": null,
            "max_width": null,
            "min_height": null,
            "min_width": null,
            "object_fit": null,
            "object_position": null,
            "order": null,
            "overflow": null,
            "overflow_x": null,
            "overflow_y": null,
            "padding": null,
            "right": null,
            "top": null,
            "visibility": null,
            "width": null
          }
        },
        "5652fa21d1a54a9ca272d81b68d40e6a": {
          "model_module": "@jupyter-widgets/controls",
          "model_name": "ProgressStyleModel",
          "model_module_version": "1.5.0",
          "state": {
            "_model_module": "@jupyter-widgets/controls",
            "_model_module_version": "1.5.0",
            "_model_name": "ProgressStyleModel",
            "_view_count": null,
            "_view_module": "@jupyter-widgets/base",
            "_view_module_version": "1.2.0",
            "_view_name": "StyleView",
            "bar_color": null,
            "description_width": ""
          }
        },
        "0d4a0954d6ae4ff79b0f99d466c394ec": {
          "model_module": "@jupyter-widgets/base",
          "model_name": "LayoutModel",
          "model_module_version": "1.2.0",
          "state": {
            "_model_module": "@jupyter-widgets/base",
            "_model_module_version": "1.2.0",
            "_model_name": "LayoutModel",
            "_view_count": null,
            "_view_module": "@jupyter-widgets/base",
            "_view_module_version": "1.2.0",
            "_view_name": "LayoutView",
            "align_content": null,
            "align_items": null,
            "align_self": null,
            "border": null,
            "bottom": null,
            "display": null,
            "flex": null,
            "flex_flow": null,
            "grid_area": null,
            "grid_auto_columns": null,
            "grid_auto_flow": null,
            "grid_auto_rows": null,
            "grid_column": null,
            "grid_gap": null,
            "grid_row": null,
            "grid_template_areas": null,
            "grid_template_columns": null,
            "grid_template_rows": null,
            "height": null,
            "justify_content": null,
            "justify_items": null,
            "left": null,
            "margin": null,
            "max_height": null,
            "max_width": null,
            "min_height": null,
            "min_width": null,
            "object_fit": null,
            "object_position": null,
            "order": null,
            "overflow": null,
            "overflow_x": null,
            "overflow_y": null,
            "padding": null,
            "right": null,
            "top": null,
            "visibility": null,
            "width": null
          }
        },
        "28018951644045c2a0241dfe9598add1": {
          "model_module": "@jupyter-widgets/controls",
          "model_name": "DescriptionStyleModel",
          "model_module_version": "1.5.0",
          "state": {
            "_model_module": "@jupyter-widgets/controls",
            "_model_module_version": "1.5.0",
            "_model_name": "DescriptionStyleModel",
            "_view_count": null,
            "_view_module": "@jupyter-widgets/base",
            "_view_module_version": "1.2.0",
            "_view_name": "StyleView",
            "description_width": ""
          }
        },
        "e1a419d3432d49c5b3325d3157d0b061": {
          "model_module": "@jupyter-widgets/controls",
          "model_name": "HBoxModel",
          "model_module_version": "1.5.0",
          "state": {
            "_dom_classes": [],
            "_model_module": "@jupyter-widgets/controls",
            "_model_module_version": "1.5.0",
            "_model_name": "HBoxModel",
            "_view_count": null,
            "_view_module": "@jupyter-widgets/controls",
            "_view_module_version": "1.5.0",
            "_view_name": "HBoxView",
            "box_style": "",
            "children": [
              "IPY_MODEL_b8aad6fa1ba54ce596459fc17e745cde",
              "IPY_MODEL_e40f28cea28b46b9946653609ddbc731",
              "IPY_MODEL_892de223d7304126a35584f0b63268ac"
            ],
            "layout": "IPY_MODEL_32986bfcf0164adfb315dea22d841854"
          }
        },
        "b8aad6fa1ba54ce596459fc17e745cde": {
          "model_module": "@jupyter-widgets/controls",
          "model_name": "HTMLModel",
          "model_module_version": "1.5.0",
          "state": {
            "_dom_classes": [],
            "_model_module": "@jupyter-widgets/controls",
            "_model_module_version": "1.5.0",
            "_model_name": "HTMLModel",
            "_view_count": null,
            "_view_module": "@jupyter-widgets/controls",
            "_view_module_version": "1.5.0",
            "_view_name": "HTMLView",
            "description": "",
            "description_tooltip": null,
            "layout": "IPY_MODEL_2b79b46e21a24a218ae914330ceb5656",
            "placeholder": "​",
            "style": "IPY_MODEL_7fca5f5a846f4ad5b543811728b7ab23",
            "value": "Downloading: 100%"
          }
        },
        "e40f28cea28b46b9946653609ddbc731": {
          "model_module": "@jupyter-widgets/controls",
          "model_name": "FloatProgressModel",
          "model_module_version": "1.5.0",
          "state": {
            "_dom_classes": [],
            "_model_module": "@jupyter-widgets/controls",
            "_model_module_version": "1.5.0",
            "_model_name": "FloatProgressModel",
            "_view_count": null,
            "_view_module": "@jupyter-widgets/controls",
            "_view_module_version": "1.5.0",
            "_view_name": "ProgressView",
            "bar_style": "success",
            "description": "",
            "description_tooltip": null,
            "layout": "IPY_MODEL_a3eea100cf604842b85225435b26896c",
            "max": 438007537,
            "min": 0,
            "orientation": "horizontal",
            "style": "IPY_MODEL_8bb8a918ddbc45c2b119c7088655cdbb",
            "value": 438007537
          }
        },
        "892de223d7304126a35584f0b63268ac": {
          "model_module": "@jupyter-widgets/controls",
          "model_name": "HTMLModel",
          "model_module_version": "1.5.0",
          "state": {
            "_dom_classes": [],
            "_model_module": "@jupyter-widgets/controls",
            "_model_module_version": "1.5.0",
            "_model_name": "HTMLModel",
            "_view_count": null,
            "_view_module": "@jupyter-widgets/controls",
            "_view_module_version": "1.5.0",
            "_view_name": "HTMLView",
            "description": "",
            "description_tooltip": null,
            "layout": "IPY_MODEL_d7ba8726e0ad4c5495a7ef8e6ff33fc1",
            "placeholder": "​",
            "style": "IPY_MODEL_70f6cf49037b4983808e4b27198dcc96",
            "value": " 438M/438M [00:17&lt;00:00, 37.1MB/s]"
          }
        },
        "32986bfcf0164adfb315dea22d841854": {
          "model_module": "@jupyter-widgets/base",
          "model_name": "LayoutModel",
          "model_module_version": "1.2.0",
          "state": {
            "_model_module": "@jupyter-widgets/base",
            "_model_module_version": "1.2.0",
            "_model_name": "LayoutModel",
            "_view_count": null,
            "_view_module": "@jupyter-widgets/base",
            "_view_module_version": "1.2.0",
            "_view_name": "LayoutView",
            "align_content": null,
            "align_items": null,
            "align_self": null,
            "border": null,
            "bottom": null,
            "display": null,
            "flex": null,
            "flex_flow": null,
            "grid_area": null,
            "grid_auto_columns": null,
            "grid_auto_flow": null,
            "grid_auto_rows": null,
            "grid_column": null,
            "grid_gap": null,
            "grid_row": null,
            "grid_template_areas": null,
            "grid_template_columns": null,
            "grid_template_rows": null,
            "height": null,
            "justify_content": null,
            "justify_items": null,
            "left": null,
            "margin": null,
            "max_height": null,
            "max_width": null,
            "min_height": null,
            "min_width": null,
            "object_fit": null,
            "object_position": null,
            "order": null,
            "overflow": null,
            "overflow_x": null,
            "overflow_y": null,
            "padding": null,
            "right": null,
            "top": null,
            "visibility": null,
            "width": null
          }
        },
        "2b79b46e21a24a218ae914330ceb5656": {
          "model_module": "@jupyter-widgets/base",
          "model_name": "LayoutModel",
          "model_module_version": "1.2.0",
          "state": {
            "_model_module": "@jupyter-widgets/base",
            "_model_module_version": "1.2.0",
            "_model_name": "LayoutModel",
            "_view_count": null,
            "_view_module": "@jupyter-widgets/base",
            "_view_module_version": "1.2.0",
            "_view_name": "LayoutView",
            "align_content": null,
            "align_items": null,
            "align_self": null,
            "border": null,
            "bottom": null,
            "display": null,
            "flex": null,
            "flex_flow": null,
            "grid_area": null,
            "grid_auto_columns": null,
            "grid_auto_flow": null,
            "grid_auto_rows": null,
            "grid_column": null,
            "grid_gap": null,
            "grid_row": null,
            "grid_template_areas": null,
            "grid_template_columns": null,
            "grid_template_rows": null,
            "height": null,
            "justify_content": null,
            "justify_items": null,
            "left": null,
            "margin": null,
            "max_height": null,
            "max_width": null,
            "min_height": null,
            "min_width": null,
            "object_fit": null,
            "object_position": null,
            "order": null,
            "overflow": null,
            "overflow_x": null,
            "overflow_y": null,
            "padding": null,
            "right": null,
            "top": null,
            "visibility": null,
            "width": null
          }
        },
        "7fca5f5a846f4ad5b543811728b7ab23": {
          "model_module": "@jupyter-widgets/controls",
          "model_name": "DescriptionStyleModel",
          "model_module_version": "1.5.0",
          "state": {
            "_model_module": "@jupyter-widgets/controls",
            "_model_module_version": "1.5.0",
            "_model_name": "DescriptionStyleModel",
            "_view_count": null,
            "_view_module": "@jupyter-widgets/base",
            "_view_module_version": "1.2.0",
            "_view_name": "StyleView",
            "description_width": ""
          }
        },
        "a3eea100cf604842b85225435b26896c": {
          "model_module": "@jupyter-widgets/base",
          "model_name": "LayoutModel",
          "model_module_version": "1.2.0",
          "state": {
            "_model_module": "@jupyter-widgets/base",
            "_model_module_version": "1.2.0",
            "_model_name": "LayoutModel",
            "_view_count": null,
            "_view_module": "@jupyter-widgets/base",
            "_view_module_version": "1.2.0",
            "_view_name": "LayoutView",
            "align_content": null,
            "align_items": null,
            "align_self": null,
            "border": null,
            "bottom": null,
            "display": null,
            "flex": null,
            "flex_flow": null,
            "grid_area": null,
            "grid_auto_columns": null,
            "grid_auto_flow": null,
            "grid_auto_rows": null,
            "grid_column": null,
            "grid_gap": null,
            "grid_row": null,
            "grid_template_areas": null,
            "grid_template_columns": null,
            "grid_template_rows": null,
            "height": null,
            "justify_content": null,
            "justify_items": null,
            "left": null,
            "margin": null,
            "max_height": null,
            "max_width": null,
            "min_height": null,
            "min_width": null,
            "object_fit": null,
            "object_position": null,
            "order": null,
            "overflow": null,
            "overflow_x": null,
            "overflow_y": null,
            "padding": null,
            "right": null,
            "top": null,
            "visibility": null,
            "width": null
          }
        },
        "8bb8a918ddbc45c2b119c7088655cdbb": {
          "model_module": "@jupyter-widgets/controls",
          "model_name": "ProgressStyleModel",
          "model_module_version": "1.5.0",
          "state": {
            "_model_module": "@jupyter-widgets/controls",
            "_model_module_version": "1.5.0",
            "_model_name": "ProgressStyleModel",
            "_view_count": null,
            "_view_module": "@jupyter-widgets/base",
            "_view_module_version": "1.2.0",
            "_view_name": "StyleView",
            "bar_color": null,
            "description_width": ""
          }
        },
        "d7ba8726e0ad4c5495a7ef8e6ff33fc1": {
          "model_module": "@jupyter-widgets/base",
          "model_name": "LayoutModel",
          "model_module_version": "1.2.0",
          "state": {
            "_model_module": "@jupyter-widgets/base",
            "_model_module_version": "1.2.0",
            "_model_name": "LayoutModel",
            "_view_count": null,
            "_view_module": "@jupyter-widgets/base",
            "_view_module_version": "1.2.0",
            "_view_name": "LayoutView",
            "align_content": null,
            "align_items": null,
            "align_self": null,
            "border": null,
            "bottom": null,
            "display": null,
            "flex": null,
            "flex_flow": null,
            "grid_area": null,
            "grid_auto_columns": null,
            "grid_auto_flow": null,
            "grid_auto_rows": null,
            "grid_column": null,
            "grid_gap": null,
            "grid_row": null,
            "grid_template_areas": null,
            "grid_template_columns": null,
            "grid_template_rows": null,
            "height": null,
            "justify_content": null,
            "justify_items": null,
            "left": null,
            "margin": null,
            "max_height": null,
            "max_width": null,
            "min_height": null,
            "min_width": null,
            "object_fit": null,
            "object_position": null,
            "order": null,
            "overflow": null,
            "overflow_x": null,
            "overflow_y": null,
            "padding": null,
            "right": null,
            "top": null,
            "visibility": null,
            "width": null
          }
        },
        "70f6cf49037b4983808e4b27198dcc96": {
          "model_module": "@jupyter-widgets/controls",
          "model_name": "DescriptionStyleModel",
          "model_module_version": "1.5.0",
          "state": {
            "_model_module": "@jupyter-widgets/controls",
            "_model_module_version": "1.5.0",
            "_model_name": "DescriptionStyleModel",
            "_view_count": null,
            "_view_module": "@jupyter-widgets/base",
            "_view_module_version": "1.2.0",
            "_view_name": "StyleView",
            "description_width": ""
          }
        },
        "541a04e2a36e4dcbbad841e042bdd34d": {
          "model_module": "@jupyter-widgets/controls",
          "model_name": "HBoxModel",
          "model_module_version": "1.5.0",
          "state": {
            "_dom_classes": [],
            "_model_module": "@jupyter-widgets/controls",
            "_model_module_version": "1.5.0",
            "_model_name": "HBoxModel",
            "_view_count": null,
            "_view_module": "@jupyter-widgets/controls",
            "_view_module_version": "1.5.0",
            "_view_name": "HBoxView",
            "box_style": "",
            "children": [
              "IPY_MODEL_ee60d4e1fdc242feb2bf75cae25dc9e1",
              "IPY_MODEL_f1267dd94de4469a8ec65843b8a28fda",
              "IPY_MODEL_063eafd6475e4c3ab382a75fcd8c6268"
            ],
            "layout": "IPY_MODEL_c2de6056fa55401ba756a6feb5d06993"
          }
        },
        "ee60d4e1fdc242feb2bf75cae25dc9e1": {
          "model_module": "@jupyter-widgets/controls",
          "model_name": "HTMLModel",
          "model_module_version": "1.5.0",
          "state": {
            "_dom_classes": [],
            "_model_module": "@jupyter-widgets/controls",
            "_model_module_version": "1.5.0",
            "_model_name": "HTMLModel",
            "_view_count": null,
            "_view_module": "@jupyter-widgets/controls",
            "_view_module_version": "1.5.0",
            "_view_name": "HTMLView",
            "description": "",
            "description_tooltip": null,
            "layout": "IPY_MODEL_6d2d52ecfba74128ac3367fd3a091284",
            "placeholder": "​",
            "style": "IPY_MODEL_4efed3a2fd004fbdbeb015a9ac21a425",
            "value": "Downloading: 100%"
          }
        },
        "f1267dd94de4469a8ec65843b8a28fda": {
          "model_module": "@jupyter-widgets/controls",
          "model_name": "FloatProgressModel",
          "model_module_version": "1.5.0",
          "state": {
            "_dom_classes": [],
            "_model_module": "@jupyter-widgets/controls",
            "_model_module_version": "1.5.0",
            "_model_name": "FloatProgressModel",
            "_view_count": null,
            "_view_module": "@jupyter-widgets/controls",
            "_view_module_version": "1.5.0",
            "_view_name": "ProgressView",
            "bar_style": "success",
            "description": "",
            "description_tooltip": null,
            "layout": "IPY_MODEL_fe8d99bb060746f2a715c4db22ea9b56",
            "max": 53,
            "min": 0,
            "orientation": "horizontal",
            "style": "IPY_MODEL_ff33b64517ec45da998cb52f7984d022",
            "value": 53
          }
        },
        "063eafd6475e4c3ab382a75fcd8c6268": {
          "model_module": "@jupyter-widgets/controls",
          "model_name": "HTMLModel",
          "model_module_version": "1.5.0",
          "state": {
            "_dom_classes": [],
            "_model_module": "@jupyter-widgets/controls",
            "_model_module_version": "1.5.0",
            "_model_name": "HTMLModel",
            "_view_count": null,
            "_view_module": "@jupyter-widgets/controls",
            "_view_module_version": "1.5.0",
            "_view_name": "HTMLView",
            "description": "",
            "description_tooltip": null,
            "layout": "IPY_MODEL_4b425369106949a0a37f988521fc9d77",
            "placeholder": "​",
            "style": "IPY_MODEL_2581c6b2b8bd46b58d03fc0874718ec5",
            "value": " 53.0/53.0 [00:00&lt;00:00, 1.29kB/s]"
          }
        },
        "c2de6056fa55401ba756a6feb5d06993": {
          "model_module": "@jupyter-widgets/base",
          "model_name": "LayoutModel",
          "model_module_version": "1.2.0",
          "state": {
            "_model_module": "@jupyter-widgets/base",
            "_model_module_version": "1.2.0",
            "_model_name": "LayoutModel",
            "_view_count": null,
            "_view_module": "@jupyter-widgets/base",
            "_view_module_version": "1.2.0",
            "_view_name": "LayoutView",
            "align_content": null,
            "align_items": null,
            "align_self": null,
            "border": null,
            "bottom": null,
            "display": null,
            "flex": null,
            "flex_flow": null,
            "grid_area": null,
            "grid_auto_columns": null,
            "grid_auto_flow": null,
            "grid_auto_rows": null,
            "grid_column": null,
            "grid_gap": null,
            "grid_row": null,
            "grid_template_areas": null,
            "grid_template_columns": null,
            "grid_template_rows": null,
            "height": null,
            "justify_content": null,
            "justify_items": null,
            "left": null,
            "margin": null,
            "max_height": null,
            "max_width": null,
            "min_height": null,
            "min_width": null,
            "object_fit": null,
            "object_position": null,
            "order": null,
            "overflow": null,
            "overflow_x": null,
            "overflow_y": null,
            "padding": null,
            "right": null,
            "top": null,
            "visibility": null,
            "width": null
          }
        },
        "6d2d52ecfba74128ac3367fd3a091284": {
          "model_module": "@jupyter-widgets/base",
          "model_name": "LayoutModel",
          "model_module_version": "1.2.0",
          "state": {
            "_model_module": "@jupyter-widgets/base",
            "_model_module_version": "1.2.0",
            "_model_name": "LayoutModel",
            "_view_count": null,
            "_view_module": "@jupyter-widgets/base",
            "_view_module_version": "1.2.0",
            "_view_name": "LayoutView",
            "align_content": null,
            "align_items": null,
            "align_self": null,
            "border": null,
            "bottom": null,
            "display": null,
            "flex": null,
            "flex_flow": null,
            "grid_area": null,
            "grid_auto_columns": null,
            "grid_auto_flow": null,
            "grid_auto_rows": null,
            "grid_column": null,
            "grid_gap": null,
            "grid_row": null,
            "grid_template_areas": null,
            "grid_template_columns": null,
            "grid_template_rows": null,
            "height": null,
            "justify_content": null,
            "justify_items": null,
            "left": null,
            "margin": null,
            "max_height": null,
            "max_width": null,
            "min_height": null,
            "min_width": null,
            "object_fit": null,
            "object_position": null,
            "order": null,
            "overflow": null,
            "overflow_x": null,
            "overflow_y": null,
            "padding": null,
            "right": null,
            "top": null,
            "visibility": null,
            "width": null
          }
        },
        "4efed3a2fd004fbdbeb015a9ac21a425": {
          "model_module": "@jupyter-widgets/controls",
          "model_name": "DescriptionStyleModel",
          "model_module_version": "1.5.0",
          "state": {
            "_model_module": "@jupyter-widgets/controls",
            "_model_module_version": "1.5.0",
            "_model_name": "DescriptionStyleModel",
            "_view_count": null,
            "_view_module": "@jupyter-widgets/base",
            "_view_module_version": "1.2.0",
            "_view_name": "StyleView",
            "description_width": ""
          }
        },
        "fe8d99bb060746f2a715c4db22ea9b56": {
          "model_module": "@jupyter-widgets/base",
          "model_name": "LayoutModel",
          "model_module_version": "1.2.0",
          "state": {
            "_model_module": "@jupyter-widgets/base",
            "_model_module_version": "1.2.0",
            "_model_name": "LayoutModel",
            "_view_count": null,
            "_view_module": "@jupyter-widgets/base",
            "_view_module_version": "1.2.0",
            "_view_name": "LayoutView",
            "align_content": null,
            "align_items": null,
            "align_self": null,
            "border": null,
            "bottom": null,
            "display": null,
            "flex": null,
            "flex_flow": null,
            "grid_area": null,
            "grid_auto_columns": null,
            "grid_auto_flow": null,
            "grid_auto_rows": null,
            "grid_column": null,
            "grid_gap": null,
            "grid_row": null,
            "grid_template_areas": null,
            "grid_template_columns": null,
            "grid_template_rows": null,
            "height": null,
            "justify_content": null,
            "justify_items": null,
            "left": null,
            "margin": null,
            "max_height": null,
            "max_width": null,
            "min_height": null,
            "min_width": null,
            "object_fit": null,
            "object_position": null,
            "order": null,
            "overflow": null,
            "overflow_x": null,
            "overflow_y": null,
            "padding": null,
            "right": null,
            "top": null,
            "visibility": null,
            "width": null
          }
        },
        "ff33b64517ec45da998cb52f7984d022": {
          "model_module": "@jupyter-widgets/controls",
          "model_name": "ProgressStyleModel",
          "model_module_version": "1.5.0",
          "state": {
            "_model_module": "@jupyter-widgets/controls",
            "_model_module_version": "1.5.0",
            "_model_name": "ProgressStyleModel",
            "_view_count": null,
            "_view_module": "@jupyter-widgets/base",
            "_view_module_version": "1.2.0",
            "_view_name": "StyleView",
            "bar_color": null,
            "description_width": ""
          }
        },
        "4b425369106949a0a37f988521fc9d77": {
          "model_module": "@jupyter-widgets/base",
          "model_name": "LayoutModel",
          "model_module_version": "1.2.0",
          "state": {
            "_model_module": "@jupyter-widgets/base",
            "_model_module_version": "1.2.0",
            "_model_name": "LayoutModel",
            "_view_count": null,
            "_view_module": "@jupyter-widgets/base",
            "_view_module_version": "1.2.0",
            "_view_name": "LayoutView",
            "align_content": null,
            "align_items": null,
            "align_self": null,
            "border": null,
            "bottom": null,
            "display": null,
            "flex": null,
            "flex_flow": null,
            "grid_area": null,
            "grid_auto_columns": null,
            "grid_auto_flow": null,
            "grid_auto_rows": null,
            "grid_column": null,
            "grid_gap": null,
            "grid_row": null,
            "grid_template_areas": null,
            "grid_template_columns": null,
            "grid_template_rows": null,
            "height": null,
            "justify_content": null,
            "justify_items": null,
            "left": null,
            "margin": null,
            "max_height": null,
            "max_width": null,
            "min_height": null,
            "min_width": null,
            "object_fit": null,
            "object_position": null,
            "order": null,
            "overflow": null,
            "overflow_x": null,
            "overflow_y": null,
            "padding": null,
            "right": null,
            "top": null,
            "visibility": null,
            "width": null
          }
        },
        "2581c6b2b8bd46b58d03fc0874718ec5": {
          "model_module": "@jupyter-widgets/controls",
          "model_name": "DescriptionStyleModel",
          "model_module_version": "1.5.0",
          "state": {
            "_model_module": "@jupyter-widgets/controls",
            "_model_module_version": "1.5.0",
            "_model_name": "DescriptionStyleModel",
            "_view_count": null,
            "_view_module": "@jupyter-widgets/base",
            "_view_module_version": "1.2.0",
            "_view_name": "StyleView",
            "description_width": ""
          }
        },
        "64ac483ea8c941389663d7361d0c380c": {
          "model_module": "@jupyter-widgets/controls",
          "model_name": "HBoxModel",
          "model_module_version": "1.5.0",
          "state": {
            "_dom_classes": [],
            "_model_module": "@jupyter-widgets/controls",
            "_model_module_version": "1.5.0",
            "_model_name": "HBoxModel",
            "_view_count": null,
            "_view_module": "@jupyter-widgets/controls",
            "_view_module_version": "1.5.0",
            "_view_name": "HBoxView",
            "box_style": "",
            "children": [
              "IPY_MODEL_93135909fc6342f2b6b2887c438e3644",
              "IPY_MODEL_312b62a4da8e4775998ccc7543c58325",
              "IPY_MODEL_0001e55ecb694deaa1e6636e30e8100b"
            ],
            "layout": "IPY_MODEL_83a04c464d554301bbc61762506db658"
          }
        },
        "93135909fc6342f2b6b2887c438e3644": {
          "model_module": "@jupyter-widgets/controls",
          "model_name": "HTMLModel",
          "model_module_version": "1.5.0",
          "state": {
            "_dom_classes": [],
            "_model_module": "@jupyter-widgets/controls",
            "_model_module_version": "1.5.0",
            "_model_name": "HTMLModel",
            "_view_count": null,
            "_view_module": "@jupyter-widgets/controls",
            "_view_module_version": "1.5.0",
            "_view_name": "HTMLView",
            "description": "",
            "description_tooltip": null,
            "layout": "IPY_MODEL_5c2c084004c24a0eae114c4109d88b44",
            "placeholder": "​",
            "style": "IPY_MODEL_3a297b328cee429c88f34ffaa43438a2",
            "value": "Downloading: 100%"
          }
        },
        "312b62a4da8e4775998ccc7543c58325": {
          "model_module": "@jupyter-widgets/controls",
          "model_name": "FloatProgressModel",
          "model_module_version": "1.5.0",
          "state": {
            "_dom_classes": [],
            "_model_module": "@jupyter-widgets/controls",
            "_model_module_version": "1.5.0",
            "_model_name": "FloatProgressModel",
            "_view_count": null,
            "_view_module": "@jupyter-widgets/controls",
            "_view_module_version": "1.5.0",
            "_view_name": "ProgressView",
            "bar_style": "success",
            "description": "",
            "description_tooltip": null,
            "layout": "IPY_MODEL_a4969ccabbb647dbba88fc205392b3e4",
            "max": 112,
            "min": 0,
            "orientation": "horizontal",
            "style": "IPY_MODEL_e93ac8c068474922878829abdb6b39f5",
            "value": 112
          }
        },
        "0001e55ecb694deaa1e6636e30e8100b": {
          "model_module": "@jupyter-widgets/controls",
          "model_name": "HTMLModel",
          "model_module_version": "1.5.0",
          "state": {
            "_dom_classes": [],
            "_model_module": "@jupyter-widgets/controls",
            "_model_module_version": "1.5.0",
            "_model_name": "HTMLModel",
            "_view_count": null,
            "_view_module": "@jupyter-widgets/controls",
            "_view_module_version": "1.5.0",
            "_view_name": "HTMLView",
            "description": "",
            "description_tooltip": null,
            "layout": "IPY_MODEL_841a72c349ba44c68f6f28065688d3a1",
            "placeholder": "​",
            "style": "IPY_MODEL_b817c1c4dfa447fa9eac3a4a6950f495",
            "value": " 112/112 [00:00&lt;00:00, 2.74kB/s]"
          }
        },
        "83a04c464d554301bbc61762506db658": {
          "model_module": "@jupyter-widgets/base",
          "model_name": "LayoutModel",
          "model_module_version": "1.2.0",
          "state": {
            "_model_module": "@jupyter-widgets/base",
            "_model_module_version": "1.2.0",
            "_model_name": "LayoutModel",
            "_view_count": null,
            "_view_module": "@jupyter-widgets/base",
            "_view_module_version": "1.2.0",
            "_view_name": "LayoutView",
            "align_content": null,
            "align_items": null,
            "align_self": null,
            "border": null,
            "bottom": null,
            "display": null,
            "flex": null,
            "flex_flow": null,
            "grid_area": null,
            "grid_auto_columns": null,
            "grid_auto_flow": null,
            "grid_auto_rows": null,
            "grid_column": null,
            "grid_gap": null,
            "grid_row": null,
            "grid_template_areas": null,
            "grid_template_columns": null,
            "grid_template_rows": null,
            "height": null,
            "justify_content": null,
            "justify_items": null,
            "left": null,
            "margin": null,
            "max_height": null,
            "max_width": null,
            "min_height": null,
            "min_width": null,
            "object_fit": null,
            "object_position": null,
            "order": null,
            "overflow": null,
            "overflow_x": null,
            "overflow_y": null,
            "padding": null,
            "right": null,
            "top": null,
            "visibility": null,
            "width": null
          }
        },
        "5c2c084004c24a0eae114c4109d88b44": {
          "model_module": "@jupyter-widgets/base",
          "model_name": "LayoutModel",
          "model_module_version": "1.2.0",
          "state": {
            "_model_module": "@jupyter-widgets/base",
            "_model_module_version": "1.2.0",
            "_model_name": "LayoutModel",
            "_view_count": null,
            "_view_module": "@jupyter-widgets/base",
            "_view_module_version": "1.2.0",
            "_view_name": "LayoutView",
            "align_content": null,
            "align_items": null,
            "align_self": null,
            "border": null,
            "bottom": null,
            "display": null,
            "flex": null,
            "flex_flow": null,
            "grid_area": null,
            "grid_auto_columns": null,
            "grid_auto_flow": null,
            "grid_auto_rows": null,
            "grid_column": null,
            "grid_gap": null,
            "grid_row": null,
            "grid_template_areas": null,
            "grid_template_columns": null,
            "grid_template_rows": null,
            "height": null,
            "justify_content": null,
            "justify_items": null,
            "left": null,
            "margin": null,
            "max_height": null,
            "max_width": null,
            "min_height": null,
            "min_width": null,
            "object_fit": null,
            "object_position": null,
            "order": null,
            "overflow": null,
            "overflow_x": null,
            "overflow_y": null,
            "padding": null,
            "right": null,
            "top": null,
            "visibility": null,
            "width": null
          }
        },
        "3a297b328cee429c88f34ffaa43438a2": {
          "model_module": "@jupyter-widgets/controls",
          "model_name": "DescriptionStyleModel",
          "model_module_version": "1.5.0",
          "state": {
            "_model_module": "@jupyter-widgets/controls",
            "_model_module_version": "1.5.0",
            "_model_name": "DescriptionStyleModel",
            "_view_count": null,
            "_view_module": "@jupyter-widgets/base",
            "_view_module_version": "1.2.0",
            "_view_name": "StyleView",
            "description_width": ""
          }
        },
        "a4969ccabbb647dbba88fc205392b3e4": {
          "model_module": "@jupyter-widgets/base",
          "model_name": "LayoutModel",
          "model_module_version": "1.2.0",
          "state": {
            "_model_module": "@jupyter-widgets/base",
            "_model_module_version": "1.2.0",
            "_model_name": "LayoutModel",
            "_view_count": null,
            "_view_module": "@jupyter-widgets/base",
            "_view_module_version": "1.2.0",
            "_view_name": "LayoutView",
            "align_content": null,
            "align_items": null,
            "align_self": null,
            "border": null,
            "bottom": null,
            "display": null,
            "flex": null,
            "flex_flow": null,
            "grid_area": null,
            "grid_auto_columns": null,
            "grid_auto_flow": null,
            "grid_auto_rows": null,
            "grid_column": null,
            "grid_gap": null,
            "grid_row": null,
            "grid_template_areas": null,
            "grid_template_columns": null,
            "grid_template_rows": null,
            "height": null,
            "justify_content": null,
            "justify_items": null,
            "left": null,
            "margin": null,
            "max_height": null,
            "max_width": null,
            "min_height": null,
            "min_width": null,
            "object_fit": null,
            "object_position": null,
            "order": null,
            "overflow": null,
            "overflow_x": null,
            "overflow_y": null,
            "padding": null,
            "right": null,
            "top": null,
            "visibility": null,
            "width": null
          }
        },
        "e93ac8c068474922878829abdb6b39f5": {
          "model_module": "@jupyter-widgets/controls",
          "model_name": "ProgressStyleModel",
          "model_module_version": "1.5.0",
          "state": {
            "_model_module": "@jupyter-widgets/controls",
            "_model_module_version": "1.5.0",
            "_model_name": "ProgressStyleModel",
            "_view_count": null,
            "_view_module": "@jupyter-widgets/base",
            "_view_module_version": "1.2.0",
            "_view_name": "StyleView",
            "bar_color": null,
            "description_width": ""
          }
        },
        "841a72c349ba44c68f6f28065688d3a1": {
          "model_module": "@jupyter-widgets/base",
          "model_name": "LayoutModel",
          "model_module_version": "1.2.0",
          "state": {
            "_model_module": "@jupyter-widgets/base",
            "_model_module_version": "1.2.0",
            "_model_name": "LayoutModel",
            "_view_count": null,
            "_view_module": "@jupyter-widgets/base",
            "_view_module_version": "1.2.0",
            "_view_name": "LayoutView",
            "align_content": null,
            "align_items": null,
            "align_self": null,
            "border": null,
            "bottom": null,
            "display": null,
            "flex": null,
            "flex_flow": null,
            "grid_area": null,
            "grid_auto_columns": null,
            "grid_auto_flow": null,
            "grid_auto_rows": null,
            "grid_column": null,
            "grid_gap": null,
            "grid_row": null,
            "grid_template_areas": null,
            "grid_template_columns": null,
            "grid_template_rows": null,
            "height": null,
            "justify_content": null,
            "justify_items": null,
            "left": null,
            "margin": null,
            "max_height": null,
            "max_width": null,
            "min_height": null,
            "min_width": null,
            "object_fit": null,
            "object_position": null,
            "order": null,
            "overflow": null,
            "overflow_x": null,
            "overflow_y": null,
            "padding": null,
            "right": null,
            "top": null,
            "visibility": null,
            "width": null
          }
        },
        "b817c1c4dfa447fa9eac3a4a6950f495": {
          "model_module": "@jupyter-widgets/controls",
          "model_name": "DescriptionStyleModel",
          "model_module_version": "1.5.0",
          "state": {
            "_model_module": "@jupyter-widgets/controls",
            "_model_module_version": "1.5.0",
            "_model_name": "DescriptionStyleModel",
            "_view_count": null,
            "_view_module": "@jupyter-widgets/base",
            "_view_module_version": "1.2.0",
            "_view_name": "StyleView",
            "description_width": ""
          }
        },
        "f8bfa8c382e04e168a5093ccedfe3882": {
          "model_module": "@jupyter-widgets/controls",
          "model_name": "HBoxModel",
          "model_module_version": "1.5.0",
          "state": {
            "_dom_classes": [],
            "_model_module": "@jupyter-widgets/controls",
            "_model_module_version": "1.5.0",
            "_model_name": "HBoxModel",
            "_view_count": null,
            "_view_module": "@jupyter-widgets/controls",
            "_view_module_version": "1.5.0",
            "_view_name": "HBoxView",
            "box_style": "",
            "children": [
              "IPY_MODEL_d354b8ec110a43fb8030e35039532d3f",
              "IPY_MODEL_c665c22d832b4eeda4f16de8f857540b",
              "IPY_MODEL_9bd1db18af9d44098da79369398e3998"
            ],
            "layout": "IPY_MODEL_42d436c7fc9c41ef92d7b5719bafab23"
          }
        },
        "d354b8ec110a43fb8030e35039532d3f": {
          "model_module": "@jupyter-widgets/controls",
          "model_name": "HTMLModel",
          "model_module_version": "1.5.0",
          "state": {
            "_dom_classes": [],
            "_model_module": "@jupyter-widgets/controls",
            "_model_module_version": "1.5.0",
            "_model_name": "HTMLModel",
            "_view_count": null,
            "_view_module": "@jupyter-widgets/controls",
            "_view_module_version": "1.5.0",
            "_view_name": "HTMLView",
            "description": "",
            "description_tooltip": null,
            "layout": "IPY_MODEL_bf14eeadbf764a1a8b648e74dd647798",
            "placeholder": "​",
            "style": "IPY_MODEL_3ce812c9e6f54a60b1c567e7d96f4616",
            "value": "Downloading: 100%"
          }
        },
        "c665c22d832b4eeda4f16de8f857540b": {
          "model_module": "@jupyter-widgets/controls",
          "model_name": "FloatProgressModel",
          "model_module_version": "1.5.0",
          "state": {
            "_dom_classes": [],
            "_model_module": "@jupyter-widgets/controls",
            "_model_module_version": "1.5.0",
            "_model_name": "FloatProgressModel",
            "_view_count": null,
            "_view_module": "@jupyter-widgets/controls",
            "_view_module_version": "1.5.0",
            "_view_name": "ProgressView",
            "bar_style": "success",
            "description": "",
            "description_tooltip": null,
            "layout": "IPY_MODEL_a215728781674286a22f8c9f79b00c16",
            "max": 466081,
            "min": 0,
            "orientation": "horizontal",
            "style": "IPY_MODEL_ffa4144d1b2e43819a5ade9efd84cd70",
            "value": 466081
          }
        },
        "9bd1db18af9d44098da79369398e3998": {
          "model_module": "@jupyter-widgets/controls",
          "model_name": "HTMLModel",
          "model_module_version": "1.5.0",
          "state": {
            "_dom_classes": [],
            "_model_module": "@jupyter-widgets/controls",
            "_model_module_version": "1.5.0",
            "_model_name": "HTMLModel",
            "_view_count": null,
            "_view_module": "@jupyter-widgets/controls",
            "_view_module_version": "1.5.0",
            "_view_name": "HTMLView",
            "description": "",
            "description_tooltip": null,
            "layout": "IPY_MODEL_a558ceb3e6fe4cda94122ec9643a120f",
            "placeholder": "​",
            "style": "IPY_MODEL_8dbf31551d114cc7afc77845286a2435",
            "value": " 466k/466k [00:00&lt;00:00, 1.69MB/s]"
          }
        },
        "42d436c7fc9c41ef92d7b5719bafab23": {
          "model_module": "@jupyter-widgets/base",
          "model_name": "LayoutModel",
          "model_module_version": "1.2.0",
          "state": {
            "_model_module": "@jupyter-widgets/base",
            "_model_module_version": "1.2.0",
            "_model_name": "LayoutModel",
            "_view_count": null,
            "_view_module": "@jupyter-widgets/base",
            "_view_module_version": "1.2.0",
            "_view_name": "LayoutView",
            "align_content": null,
            "align_items": null,
            "align_self": null,
            "border": null,
            "bottom": null,
            "display": null,
            "flex": null,
            "flex_flow": null,
            "grid_area": null,
            "grid_auto_columns": null,
            "grid_auto_flow": null,
            "grid_auto_rows": null,
            "grid_column": null,
            "grid_gap": null,
            "grid_row": null,
            "grid_template_areas": null,
            "grid_template_columns": null,
            "grid_template_rows": null,
            "height": null,
            "justify_content": null,
            "justify_items": null,
            "left": null,
            "margin": null,
            "max_height": null,
            "max_width": null,
            "min_height": null,
            "min_width": null,
            "object_fit": null,
            "object_position": null,
            "order": null,
            "overflow": null,
            "overflow_x": null,
            "overflow_y": null,
            "padding": null,
            "right": null,
            "top": null,
            "visibility": null,
            "width": null
          }
        },
        "bf14eeadbf764a1a8b648e74dd647798": {
          "model_module": "@jupyter-widgets/base",
          "model_name": "LayoutModel",
          "model_module_version": "1.2.0",
          "state": {
            "_model_module": "@jupyter-widgets/base",
            "_model_module_version": "1.2.0",
            "_model_name": "LayoutModel",
            "_view_count": null,
            "_view_module": "@jupyter-widgets/base",
            "_view_module_version": "1.2.0",
            "_view_name": "LayoutView",
            "align_content": null,
            "align_items": null,
            "align_self": null,
            "border": null,
            "bottom": null,
            "display": null,
            "flex": null,
            "flex_flow": null,
            "grid_area": null,
            "grid_auto_columns": null,
            "grid_auto_flow": null,
            "grid_auto_rows": null,
            "grid_column": null,
            "grid_gap": null,
            "grid_row": null,
            "grid_template_areas": null,
            "grid_template_columns": null,
            "grid_template_rows": null,
            "height": null,
            "justify_content": null,
            "justify_items": null,
            "left": null,
            "margin": null,
            "max_height": null,
            "max_width": null,
            "min_height": null,
            "min_width": null,
            "object_fit": null,
            "object_position": null,
            "order": null,
            "overflow": null,
            "overflow_x": null,
            "overflow_y": null,
            "padding": null,
            "right": null,
            "top": null,
            "visibility": null,
            "width": null
          }
        },
        "3ce812c9e6f54a60b1c567e7d96f4616": {
          "model_module": "@jupyter-widgets/controls",
          "model_name": "DescriptionStyleModel",
          "model_module_version": "1.5.0",
          "state": {
            "_model_module": "@jupyter-widgets/controls",
            "_model_module_version": "1.5.0",
            "_model_name": "DescriptionStyleModel",
            "_view_count": null,
            "_view_module": "@jupyter-widgets/base",
            "_view_module_version": "1.2.0",
            "_view_name": "StyleView",
            "description_width": ""
          }
        },
        "a215728781674286a22f8c9f79b00c16": {
          "model_module": "@jupyter-widgets/base",
          "model_name": "LayoutModel",
          "model_module_version": "1.2.0",
          "state": {
            "_model_module": "@jupyter-widgets/base",
            "_model_module_version": "1.2.0",
            "_model_name": "LayoutModel",
            "_view_count": null,
            "_view_module": "@jupyter-widgets/base",
            "_view_module_version": "1.2.0",
            "_view_name": "LayoutView",
            "align_content": null,
            "align_items": null,
            "align_self": null,
            "border": null,
            "bottom": null,
            "display": null,
            "flex": null,
            "flex_flow": null,
            "grid_area": null,
            "grid_auto_columns": null,
            "grid_auto_flow": null,
            "grid_auto_rows": null,
            "grid_column": null,
            "grid_gap": null,
            "grid_row": null,
            "grid_template_areas": null,
            "grid_template_columns": null,
            "grid_template_rows": null,
            "height": null,
            "justify_content": null,
            "justify_items": null,
            "left": null,
            "margin": null,
            "max_height": null,
            "max_width": null,
            "min_height": null,
            "min_width": null,
            "object_fit": null,
            "object_position": null,
            "order": null,
            "overflow": null,
            "overflow_x": null,
            "overflow_y": null,
            "padding": null,
            "right": null,
            "top": null,
            "visibility": null,
            "width": null
          }
        },
        "ffa4144d1b2e43819a5ade9efd84cd70": {
          "model_module": "@jupyter-widgets/controls",
          "model_name": "ProgressStyleModel",
          "model_module_version": "1.5.0",
          "state": {
            "_model_module": "@jupyter-widgets/controls",
            "_model_module_version": "1.5.0",
            "_model_name": "ProgressStyleModel",
            "_view_count": null,
            "_view_module": "@jupyter-widgets/base",
            "_view_module_version": "1.2.0",
            "_view_name": "StyleView",
            "bar_color": null,
            "description_width": ""
          }
        },
        "a558ceb3e6fe4cda94122ec9643a120f": {
          "model_module": "@jupyter-widgets/base",
          "model_name": "LayoutModel",
          "model_module_version": "1.2.0",
          "state": {
            "_model_module": "@jupyter-widgets/base",
            "_model_module_version": "1.2.0",
            "_model_name": "LayoutModel",
            "_view_count": null,
            "_view_module": "@jupyter-widgets/base",
            "_view_module_version": "1.2.0",
            "_view_name": "LayoutView",
            "align_content": null,
            "align_items": null,
            "align_self": null,
            "border": null,
            "bottom": null,
            "display": null,
            "flex": null,
            "flex_flow": null,
            "grid_area": null,
            "grid_auto_columns": null,
            "grid_auto_flow": null,
            "grid_auto_rows": null,
            "grid_column": null,
            "grid_gap": null,
            "grid_row": null,
            "grid_template_areas": null,
            "grid_template_columns": null,
            "grid_template_rows": null,
            "height": null,
            "justify_content": null,
            "justify_items": null,
            "left": null,
            "margin": null,
            "max_height": null,
            "max_width": null,
            "min_height": null,
            "min_width": null,
            "object_fit": null,
            "object_position": null,
            "order": null,
            "overflow": null,
            "overflow_x": null,
            "overflow_y": null,
            "padding": null,
            "right": null,
            "top": null,
            "visibility": null,
            "width": null
          }
        },
        "8dbf31551d114cc7afc77845286a2435": {
          "model_module": "@jupyter-widgets/controls",
          "model_name": "DescriptionStyleModel",
          "model_module_version": "1.5.0",
          "state": {
            "_model_module": "@jupyter-widgets/controls",
            "_model_module_version": "1.5.0",
            "_model_name": "DescriptionStyleModel",
            "_view_count": null,
            "_view_module": "@jupyter-widgets/base",
            "_view_module_version": "1.2.0",
            "_view_name": "StyleView",
            "description_width": ""
          }
        },
        "a257d72888d945149a6aacdcf80bde15": {
          "model_module": "@jupyter-widgets/controls",
          "model_name": "HBoxModel",
          "model_module_version": "1.5.0",
          "state": {
            "_dom_classes": [],
            "_model_module": "@jupyter-widgets/controls",
            "_model_module_version": "1.5.0",
            "_model_name": "HBoxModel",
            "_view_count": null,
            "_view_module": "@jupyter-widgets/controls",
            "_view_module_version": "1.5.0",
            "_view_name": "HBoxView",
            "box_style": "",
            "children": [
              "IPY_MODEL_53abdf472a104fa1b1479efe6e4ae9db",
              "IPY_MODEL_3f05d948b56a4b3b92dcbcffcfbddc56",
              "IPY_MODEL_549821c35e274e63b196cf237fb449f1"
            ],
            "layout": "IPY_MODEL_41ef3b5ca1414f3e8665f057b8ae66da"
          }
        },
        "53abdf472a104fa1b1479efe6e4ae9db": {
          "model_module": "@jupyter-widgets/controls",
          "model_name": "HTMLModel",
          "model_module_version": "1.5.0",
          "state": {
            "_dom_classes": [],
            "_model_module": "@jupyter-widgets/controls",
            "_model_module_version": "1.5.0",
            "_model_name": "HTMLModel",
            "_view_count": null,
            "_view_module": "@jupyter-widgets/controls",
            "_view_module_version": "1.5.0",
            "_view_name": "HTMLView",
            "description": "",
            "description_tooltip": null,
            "layout": "IPY_MODEL_ca0a5356d2844e1893ca7713fb219cef",
            "placeholder": "​",
            "style": "IPY_MODEL_77242ec9c63e48f199c4e158d266647e",
            "value": "Downloading: 100%"
          }
        },
        "3f05d948b56a4b3b92dcbcffcfbddc56": {
          "model_module": "@jupyter-widgets/controls",
          "model_name": "FloatProgressModel",
          "model_module_version": "1.5.0",
          "state": {
            "_dom_classes": [],
            "_model_module": "@jupyter-widgets/controls",
            "_model_module_version": "1.5.0",
            "_model_name": "FloatProgressModel",
            "_view_count": null,
            "_view_module": "@jupyter-widgets/controls",
            "_view_module_version": "1.5.0",
            "_view_name": "ProgressView",
            "bar_style": "success",
            "description": "",
            "description_tooltip": null,
            "layout": "IPY_MODEL_c13ee1b2e8a34d64acbaa293dcaa9632",
            "max": 399,
            "min": 0,
            "orientation": "horizontal",
            "style": "IPY_MODEL_1bf35fb932314d27a8a6f449e79595d2",
            "value": 399
          }
        },
        "549821c35e274e63b196cf237fb449f1": {
          "model_module": "@jupyter-widgets/controls",
          "model_name": "HTMLModel",
          "model_module_version": "1.5.0",
          "state": {
            "_dom_classes": [],
            "_model_module": "@jupyter-widgets/controls",
            "_model_module_version": "1.5.0",
            "_model_name": "HTMLModel",
            "_view_count": null,
            "_view_module": "@jupyter-widgets/controls",
            "_view_module_version": "1.5.0",
            "_view_name": "HTMLView",
            "description": "",
            "description_tooltip": null,
            "layout": "IPY_MODEL_82362575003a4293820c2c94bb394ec0",
            "placeholder": "​",
            "style": "IPY_MODEL_683b18b0142d4019b1622ef079ed8232",
            "value": " 399/399 [00:00&lt;00:00, 7.64kB/s]"
          }
        },
        "41ef3b5ca1414f3e8665f057b8ae66da": {
          "model_module": "@jupyter-widgets/base",
          "model_name": "LayoutModel",
          "model_module_version": "1.2.0",
          "state": {
            "_model_module": "@jupyter-widgets/base",
            "_model_module_version": "1.2.0",
            "_model_name": "LayoutModel",
            "_view_count": null,
            "_view_module": "@jupyter-widgets/base",
            "_view_module_version": "1.2.0",
            "_view_name": "LayoutView",
            "align_content": null,
            "align_items": null,
            "align_self": null,
            "border": null,
            "bottom": null,
            "display": null,
            "flex": null,
            "flex_flow": null,
            "grid_area": null,
            "grid_auto_columns": null,
            "grid_auto_flow": null,
            "grid_auto_rows": null,
            "grid_column": null,
            "grid_gap": null,
            "grid_row": null,
            "grid_template_areas": null,
            "grid_template_columns": null,
            "grid_template_rows": null,
            "height": null,
            "justify_content": null,
            "justify_items": null,
            "left": null,
            "margin": null,
            "max_height": null,
            "max_width": null,
            "min_height": null,
            "min_width": null,
            "object_fit": null,
            "object_position": null,
            "order": null,
            "overflow": null,
            "overflow_x": null,
            "overflow_y": null,
            "padding": null,
            "right": null,
            "top": null,
            "visibility": null,
            "width": null
          }
        },
        "ca0a5356d2844e1893ca7713fb219cef": {
          "model_module": "@jupyter-widgets/base",
          "model_name": "LayoutModel",
          "model_module_version": "1.2.0",
          "state": {
            "_model_module": "@jupyter-widgets/base",
            "_model_module_version": "1.2.0",
            "_model_name": "LayoutModel",
            "_view_count": null,
            "_view_module": "@jupyter-widgets/base",
            "_view_module_version": "1.2.0",
            "_view_name": "LayoutView",
            "align_content": null,
            "align_items": null,
            "align_self": null,
            "border": null,
            "bottom": null,
            "display": null,
            "flex": null,
            "flex_flow": null,
            "grid_area": null,
            "grid_auto_columns": null,
            "grid_auto_flow": null,
            "grid_auto_rows": null,
            "grid_column": null,
            "grid_gap": null,
            "grid_row": null,
            "grid_template_areas": null,
            "grid_template_columns": null,
            "grid_template_rows": null,
            "height": null,
            "justify_content": null,
            "justify_items": null,
            "left": null,
            "margin": null,
            "max_height": null,
            "max_width": null,
            "min_height": null,
            "min_width": null,
            "object_fit": null,
            "object_position": null,
            "order": null,
            "overflow": null,
            "overflow_x": null,
            "overflow_y": null,
            "padding": null,
            "right": null,
            "top": null,
            "visibility": null,
            "width": null
          }
        },
        "77242ec9c63e48f199c4e158d266647e": {
          "model_module": "@jupyter-widgets/controls",
          "model_name": "DescriptionStyleModel",
          "model_module_version": "1.5.0",
          "state": {
            "_model_module": "@jupyter-widgets/controls",
            "_model_module_version": "1.5.0",
            "_model_name": "DescriptionStyleModel",
            "_view_count": null,
            "_view_module": "@jupyter-widgets/base",
            "_view_module_version": "1.2.0",
            "_view_name": "StyleView",
            "description_width": ""
          }
        },
        "c13ee1b2e8a34d64acbaa293dcaa9632": {
          "model_module": "@jupyter-widgets/base",
          "model_name": "LayoutModel",
          "model_module_version": "1.2.0",
          "state": {
            "_model_module": "@jupyter-widgets/base",
            "_model_module_version": "1.2.0",
            "_model_name": "LayoutModel",
            "_view_count": null,
            "_view_module": "@jupyter-widgets/base",
            "_view_module_version": "1.2.0",
            "_view_name": "LayoutView",
            "align_content": null,
            "align_items": null,
            "align_self": null,
            "border": null,
            "bottom": null,
            "display": null,
            "flex": null,
            "flex_flow": null,
            "grid_area": null,
            "grid_auto_columns": null,
            "grid_auto_flow": null,
            "grid_auto_rows": null,
            "grid_column": null,
            "grid_gap": null,
            "grid_row": null,
            "grid_template_areas": null,
            "grid_template_columns": null,
            "grid_template_rows": null,
            "height": null,
            "justify_content": null,
            "justify_items": null,
            "left": null,
            "margin": null,
            "max_height": null,
            "max_width": null,
            "min_height": null,
            "min_width": null,
            "object_fit": null,
            "object_position": null,
            "order": null,
            "overflow": null,
            "overflow_x": null,
            "overflow_y": null,
            "padding": null,
            "right": null,
            "top": null,
            "visibility": null,
            "width": null
          }
        },
        "1bf35fb932314d27a8a6f449e79595d2": {
          "model_module": "@jupyter-widgets/controls",
          "model_name": "ProgressStyleModel",
          "model_module_version": "1.5.0",
          "state": {
            "_model_module": "@jupyter-widgets/controls",
            "_model_module_version": "1.5.0",
            "_model_name": "ProgressStyleModel",
            "_view_count": null,
            "_view_module": "@jupyter-widgets/base",
            "_view_module_version": "1.2.0",
            "_view_name": "StyleView",
            "bar_color": null,
            "description_width": ""
          }
        },
        "82362575003a4293820c2c94bb394ec0": {
          "model_module": "@jupyter-widgets/base",
          "model_name": "LayoutModel",
          "model_module_version": "1.2.0",
          "state": {
            "_model_module": "@jupyter-widgets/base",
            "_model_module_version": "1.2.0",
            "_model_name": "LayoutModel",
            "_view_count": null,
            "_view_module": "@jupyter-widgets/base",
            "_view_module_version": "1.2.0",
            "_view_name": "LayoutView",
            "align_content": null,
            "align_items": null,
            "align_self": null,
            "border": null,
            "bottom": null,
            "display": null,
            "flex": null,
            "flex_flow": null,
            "grid_area": null,
            "grid_auto_columns": null,
            "grid_auto_flow": null,
            "grid_auto_rows": null,
            "grid_column": null,
            "grid_gap": null,
            "grid_row": null,
            "grid_template_areas": null,
            "grid_template_columns": null,
            "grid_template_rows": null,
            "height": null,
            "justify_content": null,
            "justify_items": null,
            "left": null,
            "margin": null,
            "max_height": null,
            "max_width": null,
            "min_height": null,
            "min_width": null,
            "object_fit": null,
            "object_position": null,
            "order": null,
            "overflow": null,
            "overflow_x": null,
            "overflow_y": null,
            "padding": null,
            "right": null,
            "top": null,
            "visibility": null,
            "width": null
          }
        },
        "683b18b0142d4019b1622ef079ed8232": {
          "model_module": "@jupyter-widgets/controls",
          "model_name": "DescriptionStyleModel",
          "model_module_version": "1.5.0",
          "state": {
            "_model_module": "@jupyter-widgets/controls",
            "_model_module_version": "1.5.0",
            "_model_name": "DescriptionStyleModel",
            "_view_count": null,
            "_view_module": "@jupyter-widgets/base",
            "_view_module_version": "1.2.0",
            "_view_name": "StyleView",
            "description_width": ""
          }
        },
        "4152d5cfa2fb47678c87a9b677f7529b": {
          "model_module": "@jupyter-widgets/controls",
          "model_name": "HBoxModel",
          "model_module_version": "1.5.0",
          "state": {
            "_dom_classes": [],
            "_model_module": "@jupyter-widgets/controls",
            "_model_module_version": "1.5.0",
            "_model_name": "HBoxModel",
            "_view_count": null,
            "_view_module": "@jupyter-widgets/controls",
            "_view_module_version": "1.5.0",
            "_view_name": "HBoxView",
            "box_style": "",
            "children": [
              "IPY_MODEL_bc04a957ada145fdb3de2c4f1e68f7c0",
              "IPY_MODEL_e33c99245f1f482f8ae37ec59ad64f77",
              "IPY_MODEL_23ebb1e80da24858bab237cdfcc53ed9"
            ],
            "layout": "IPY_MODEL_c75e1eba2baa4205b8809b507cb140d0"
          }
        },
        "bc04a957ada145fdb3de2c4f1e68f7c0": {
          "model_module": "@jupyter-widgets/controls",
          "model_name": "HTMLModel",
          "model_module_version": "1.5.0",
          "state": {
            "_dom_classes": [],
            "_model_module": "@jupyter-widgets/controls",
            "_model_module_version": "1.5.0",
            "_model_name": "HTMLModel",
            "_view_count": null,
            "_view_module": "@jupyter-widgets/controls",
            "_view_module_version": "1.5.0",
            "_view_name": "HTMLView",
            "description": "",
            "description_tooltip": null,
            "layout": "IPY_MODEL_7b9d0f6f99084e91abd664667cae447a",
            "placeholder": "​",
            "style": "IPY_MODEL_0ee0e24b1ce8496e81c9253626c66464",
            "value": "Downloading: 100%"
          }
        },
        "e33c99245f1f482f8ae37ec59ad64f77": {
          "model_module": "@jupyter-widgets/controls",
          "model_name": "FloatProgressModel",
          "model_module_version": "1.5.0",
          "state": {
            "_dom_classes": [],
            "_model_module": "@jupyter-widgets/controls",
            "_model_module_version": "1.5.0",
            "_model_name": "FloatProgressModel",
            "_view_count": null,
            "_view_module": "@jupyter-widgets/controls",
            "_view_module_version": "1.5.0",
            "_view_name": "ProgressView",
            "bar_style": "success",
            "description": "",
            "description_tooltip": null,
            "layout": "IPY_MODEL_2cf6f2172e50493e9c30857d9fa92e69",
            "max": 231508,
            "min": 0,
            "orientation": "horizontal",
            "style": "IPY_MODEL_500475bb4d0f45f0a1435c52ab90fb9f",
            "value": 231508
          }
        },
        "23ebb1e80da24858bab237cdfcc53ed9": {
          "model_module": "@jupyter-widgets/controls",
          "model_name": "HTMLModel",
          "model_module_version": "1.5.0",
          "state": {
            "_dom_classes": [],
            "_model_module": "@jupyter-widgets/controls",
            "_model_module_version": "1.5.0",
            "_model_name": "HTMLModel",
            "_view_count": null,
            "_view_module": "@jupyter-widgets/controls",
            "_view_module_version": "1.5.0",
            "_view_name": "HTMLView",
            "description": "",
            "description_tooltip": null,
            "layout": "IPY_MODEL_ddcedb888798410195c145ebfb540503",
            "placeholder": "​",
            "style": "IPY_MODEL_971573fe436a47ca920a475a7cc4a73e",
            "value": " 232k/232k [00:00&lt;00:00, 1.52MB/s]"
          }
        },
        "c75e1eba2baa4205b8809b507cb140d0": {
          "model_module": "@jupyter-widgets/base",
          "model_name": "LayoutModel",
          "model_module_version": "1.2.0",
          "state": {
            "_model_module": "@jupyter-widgets/base",
            "_model_module_version": "1.2.0",
            "_model_name": "LayoutModel",
            "_view_count": null,
            "_view_module": "@jupyter-widgets/base",
            "_view_module_version": "1.2.0",
            "_view_name": "LayoutView",
            "align_content": null,
            "align_items": null,
            "align_self": null,
            "border": null,
            "bottom": null,
            "display": null,
            "flex": null,
            "flex_flow": null,
            "grid_area": null,
            "grid_auto_columns": null,
            "grid_auto_flow": null,
            "grid_auto_rows": null,
            "grid_column": null,
            "grid_gap": null,
            "grid_row": null,
            "grid_template_areas": null,
            "grid_template_columns": null,
            "grid_template_rows": null,
            "height": null,
            "justify_content": null,
            "justify_items": null,
            "left": null,
            "margin": null,
            "max_height": null,
            "max_width": null,
            "min_height": null,
            "min_width": null,
            "object_fit": null,
            "object_position": null,
            "order": null,
            "overflow": null,
            "overflow_x": null,
            "overflow_y": null,
            "padding": null,
            "right": null,
            "top": null,
            "visibility": null,
            "width": null
          }
        },
        "7b9d0f6f99084e91abd664667cae447a": {
          "model_module": "@jupyter-widgets/base",
          "model_name": "LayoutModel",
          "model_module_version": "1.2.0",
          "state": {
            "_model_module": "@jupyter-widgets/base",
            "_model_module_version": "1.2.0",
            "_model_name": "LayoutModel",
            "_view_count": null,
            "_view_module": "@jupyter-widgets/base",
            "_view_module_version": "1.2.0",
            "_view_name": "LayoutView",
            "align_content": null,
            "align_items": null,
            "align_self": null,
            "border": null,
            "bottom": null,
            "display": null,
            "flex": null,
            "flex_flow": null,
            "grid_area": null,
            "grid_auto_columns": null,
            "grid_auto_flow": null,
            "grid_auto_rows": null,
            "grid_column": null,
            "grid_gap": null,
            "grid_row": null,
            "grid_template_areas": null,
            "grid_template_columns": null,
            "grid_template_rows": null,
            "height": null,
            "justify_content": null,
            "justify_items": null,
            "left": null,
            "margin": null,
            "max_height": null,
            "max_width": null,
            "min_height": null,
            "min_width": null,
            "object_fit": null,
            "object_position": null,
            "order": null,
            "overflow": null,
            "overflow_x": null,
            "overflow_y": null,
            "padding": null,
            "right": null,
            "top": null,
            "visibility": null,
            "width": null
          }
        },
        "0ee0e24b1ce8496e81c9253626c66464": {
          "model_module": "@jupyter-widgets/controls",
          "model_name": "DescriptionStyleModel",
          "model_module_version": "1.5.0",
          "state": {
            "_model_module": "@jupyter-widgets/controls",
            "_model_module_version": "1.5.0",
            "_model_name": "DescriptionStyleModel",
            "_view_count": null,
            "_view_module": "@jupyter-widgets/base",
            "_view_module_version": "1.2.0",
            "_view_name": "StyleView",
            "description_width": ""
          }
        },
        "2cf6f2172e50493e9c30857d9fa92e69": {
          "model_module": "@jupyter-widgets/base",
          "model_name": "LayoutModel",
          "model_module_version": "1.2.0",
          "state": {
            "_model_module": "@jupyter-widgets/base",
            "_model_module_version": "1.2.0",
            "_model_name": "LayoutModel",
            "_view_count": null,
            "_view_module": "@jupyter-widgets/base",
            "_view_module_version": "1.2.0",
            "_view_name": "LayoutView",
            "align_content": null,
            "align_items": null,
            "align_self": null,
            "border": null,
            "bottom": null,
            "display": null,
            "flex": null,
            "flex_flow": null,
            "grid_area": null,
            "grid_auto_columns": null,
            "grid_auto_flow": null,
            "grid_auto_rows": null,
            "grid_column": null,
            "grid_gap": null,
            "grid_row": null,
            "grid_template_areas": null,
            "grid_template_columns": null,
            "grid_template_rows": null,
            "height": null,
            "justify_content": null,
            "justify_items": null,
            "left": null,
            "margin": null,
            "max_height": null,
            "max_width": null,
            "min_height": null,
            "min_width": null,
            "object_fit": null,
            "object_position": null,
            "order": null,
            "overflow": null,
            "overflow_x": null,
            "overflow_y": null,
            "padding": null,
            "right": null,
            "top": null,
            "visibility": null,
            "width": null
          }
        },
        "500475bb4d0f45f0a1435c52ab90fb9f": {
          "model_module": "@jupyter-widgets/controls",
          "model_name": "ProgressStyleModel",
          "model_module_version": "1.5.0",
          "state": {
            "_model_module": "@jupyter-widgets/controls",
            "_model_module_version": "1.5.0",
            "_model_name": "ProgressStyleModel",
            "_view_count": null,
            "_view_module": "@jupyter-widgets/base",
            "_view_module_version": "1.2.0",
            "_view_name": "StyleView",
            "bar_color": null,
            "description_width": ""
          }
        },
        "ddcedb888798410195c145ebfb540503": {
          "model_module": "@jupyter-widgets/base",
          "model_name": "LayoutModel",
          "model_module_version": "1.2.0",
          "state": {
            "_model_module": "@jupyter-widgets/base",
            "_model_module_version": "1.2.0",
            "_model_name": "LayoutModel",
            "_view_count": null,
            "_view_module": "@jupyter-widgets/base",
            "_view_module_version": "1.2.0",
            "_view_name": "LayoutView",
            "align_content": null,
            "align_items": null,
            "align_self": null,
            "border": null,
            "bottom": null,
            "display": null,
            "flex": null,
            "flex_flow": null,
            "grid_area": null,
            "grid_auto_columns": null,
            "grid_auto_flow": null,
            "grid_auto_rows": null,
            "grid_column": null,
            "grid_gap": null,
            "grid_row": null,
            "grid_template_areas": null,
            "grid_template_columns": null,
            "grid_template_rows": null,
            "height": null,
            "justify_content": null,
            "justify_items": null,
            "left": null,
            "margin": null,
            "max_height": null,
            "max_width": null,
            "min_height": null,
            "min_width": null,
            "object_fit": null,
            "object_position": null,
            "order": null,
            "overflow": null,
            "overflow_x": null,
            "overflow_y": null,
            "padding": null,
            "right": null,
            "top": null,
            "visibility": null,
            "width": null
          }
        },
        "971573fe436a47ca920a475a7cc4a73e": {
          "model_module": "@jupyter-widgets/controls",
          "model_name": "DescriptionStyleModel",
          "model_module_version": "1.5.0",
          "state": {
            "_model_module": "@jupyter-widgets/controls",
            "_model_module_version": "1.5.0",
            "_model_name": "DescriptionStyleModel",
            "_view_count": null,
            "_view_module": "@jupyter-widgets/base",
            "_view_module_version": "1.2.0",
            "_view_name": "StyleView",
            "description_width": ""
          }
        },
        "ed47f40ca0b548d4b6b1d958e575ebe7": {
          "model_module": "@jupyter-widgets/controls",
          "model_name": "HBoxModel",
          "model_module_version": "1.5.0",
          "state": {
            "_dom_classes": [],
            "_model_module": "@jupyter-widgets/controls",
            "_model_module_version": "1.5.0",
            "_model_name": "HBoxModel",
            "_view_count": null,
            "_view_module": "@jupyter-widgets/controls",
            "_view_module_version": "1.5.0",
            "_view_name": "HBoxView",
            "box_style": "",
            "children": [
              "IPY_MODEL_112799505d084588864754fee14ae727",
              "IPY_MODEL_1af5582a4f7f47d4836b157bf81cb1fc",
              "IPY_MODEL_bc8a88a530f74bd88fce2370dcf7f866"
            ],
            "layout": "IPY_MODEL_f5c0b697966f43d597ef12aa5430c624"
          }
        },
        "112799505d084588864754fee14ae727": {
          "model_module": "@jupyter-widgets/controls",
          "model_name": "HTMLModel",
          "model_module_version": "1.5.0",
          "state": {
            "_dom_classes": [],
            "_model_module": "@jupyter-widgets/controls",
            "_model_module_version": "1.5.0",
            "_model_name": "HTMLModel",
            "_view_count": null,
            "_view_module": "@jupyter-widgets/controls",
            "_view_module_version": "1.5.0",
            "_view_name": "HTMLView",
            "description": "",
            "description_tooltip": null,
            "layout": "IPY_MODEL_ff2ca32424984b54af172e81d897766e",
            "placeholder": "​",
            "style": "IPY_MODEL_5c990d9d7f644f5ca4a9a24e3dc7605c",
            "value": "Downloading: 100%"
          }
        },
        "1af5582a4f7f47d4836b157bf81cb1fc": {
          "model_module": "@jupyter-widgets/controls",
          "model_name": "FloatProgressModel",
          "model_module_version": "1.5.0",
          "state": {
            "_dom_classes": [],
            "_model_module": "@jupyter-widgets/controls",
            "_model_module_version": "1.5.0",
            "_model_name": "FloatProgressModel",
            "_view_count": null,
            "_view_module": "@jupyter-widgets/controls",
            "_view_module_version": "1.5.0",
            "_view_name": "ProgressView",
            "bar_style": "success",
            "description": "",
            "description_tooltip": null,
            "layout": "IPY_MODEL_8e3f14d1eb7e4a578219e97762c2fcfd",
            "max": 1802,
            "min": 0,
            "orientation": "horizontal",
            "style": "IPY_MODEL_8bc47b980acf4f789a10eab6439d19be",
            "value": 1802
          }
        },
        "bc8a88a530f74bd88fce2370dcf7f866": {
          "model_module": "@jupyter-widgets/controls",
          "model_name": "HTMLModel",
          "model_module_version": "1.5.0",
          "state": {
            "_dom_classes": [],
            "_model_module": "@jupyter-widgets/controls",
            "_model_module_version": "1.5.0",
            "_model_name": "HTMLModel",
            "_view_count": null,
            "_view_module": "@jupyter-widgets/controls",
            "_view_module_version": "1.5.0",
            "_view_name": "HTMLView",
            "description": "",
            "description_tooltip": null,
            "layout": "IPY_MODEL_ff3e1649a5604dd38602d068f27a47a8",
            "placeholder": "​",
            "style": "IPY_MODEL_8eb87bcda96a4a17a3c068401486a970",
            "value": " 1.76k/1.76k [00:00&lt;00:00, 41.6kB/s]"
          }
        },
        "f5c0b697966f43d597ef12aa5430c624": {
          "model_module": "@jupyter-widgets/base",
          "model_name": "LayoutModel",
          "model_module_version": "1.2.0",
          "state": {
            "_model_module": "@jupyter-widgets/base",
            "_model_module_version": "1.2.0",
            "_model_name": "LayoutModel",
            "_view_count": null,
            "_view_module": "@jupyter-widgets/base",
            "_view_module_version": "1.2.0",
            "_view_name": "LayoutView",
            "align_content": null,
            "align_items": null,
            "align_self": null,
            "border": null,
            "bottom": null,
            "display": null,
            "flex": null,
            "flex_flow": null,
            "grid_area": null,
            "grid_auto_columns": null,
            "grid_auto_flow": null,
            "grid_auto_rows": null,
            "grid_column": null,
            "grid_gap": null,
            "grid_row": null,
            "grid_template_areas": null,
            "grid_template_columns": null,
            "grid_template_rows": null,
            "height": null,
            "justify_content": null,
            "justify_items": null,
            "left": null,
            "margin": null,
            "max_height": null,
            "max_width": null,
            "min_height": null,
            "min_width": null,
            "object_fit": null,
            "object_position": null,
            "order": null,
            "overflow": null,
            "overflow_x": null,
            "overflow_y": null,
            "padding": null,
            "right": null,
            "top": null,
            "visibility": null,
            "width": null
          }
        },
        "ff2ca32424984b54af172e81d897766e": {
          "model_module": "@jupyter-widgets/base",
          "model_name": "LayoutModel",
          "model_module_version": "1.2.0",
          "state": {
            "_model_module": "@jupyter-widgets/base",
            "_model_module_version": "1.2.0",
            "_model_name": "LayoutModel",
            "_view_count": null,
            "_view_module": "@jupyter-widgets/base",
            "_view_module_version": "1.2.0",
            "_view_name": "LayoutView",
            "align_content": null,
            "align_items": null,
            "align_self": null,
            "border": null,
            "bottom": null,
            "display": null,
            "flex": null,
            "flex_flow": null,
            "grid_area": null,
            "grid_auto_columns": null,
            "grid_auto_flow": null,
            "grid_auto_rows": null,
            "grid_column": null,
            "grid_gap": null,
            "grid_row": null,
            "grid_template_areas": null,
            "grid_template_columns": null,
            "grid_template_rows": null,
            "height": null,
            "justify_content": null,
            "justify_items": null,
            "left": null,
            "margin": null,
            "max_height": null,
            "max_width": null,
            "min_height": null,
            "min_width": null,
            "object_fit": null,
            "object_position": null,
            "order": null,
            "overflow": null,
            "overflow_x": null,
            "overflow_y": null,
            "padding": null,
            "right": null,
            "top": null,
            "visibility": null,
            "width": null
          }
        },
        "5c990d9d7f644f5ca4a9a24e3dc7605c": {
          "model_module": "@jupyter-widgets/controls",
          "model_name": "DescriptionStyleModel",
          "model_module_version": "1.5.0",
          "state": {
            "_model_module": "@jupyter-widgets/controls",
            "_model_module_version": "1.5.0",
            "_model_name": "DescriptionStyleModel",
            "_view_count": null,
            "_view_module": "@jupyter-widgets/base",
            "_view_module_version": "1.2.0",
            "_view_name": "StyleView",
            "description_width": ""
          }
        },
        "8e3f14d1eb7e4a578219e97762c2fcfd": {
          "model_module": "@jupyter-widgets/base",
          "model_name": "LayoutModel",
          "model_module_version": "1.2.0",
          "state": {
            "_model_module": "@jupyter-widgets/base",
            "_model_module_version": "1.2.0",
            "_model_name": "LayoutModel",
            "_view_count": null,
            "_view_module": "@jupyter-widgets/base",
            "_view_module_version": "1.2.0",
            "_view_name": "LayoutView",
            "align_content": null,
            "align_items": null,
            "align_self": null,
            "border": null,
            "bottom": null,
            "display": null,
            "flex": null,
            "flex_flow": null,
            "grid_area": null,
            "grid_auto_columns": null,
            "grid_auto_flow": null,
            "grid_auto_rows": null,
            "grid_column": null,
            "grid_gap": null,
            "grid_row": null,
            "grid_template_areas": null,
            "grid_template_columns": null,
            "grid_template_rows": null,
            "height": null,
            "justify_content": null,
            "justify_items": null,
            "left": null,
            "margin": null,
            "max_height": null,
            "max_width": null,
            "min_height": null,
            "min_width": null,
            "object_fit": null,
            "object_position": null,
            "order": null,
            "overflow": null,
            "overflow_x": null,
            "overflow_y": null,
            "padding": null,
            "right": null,
            "top": null,
            "visibility": null,
            "width": null
          }
        },
        "8bc47b980acf4f789a10eab6439d19be": {
          "model_module": "@jupyter-widgets/controls",
          "model_name": "ProgressStyleModel",
          "model_module_version": "1.5.0",
          "state": {
            "_model_module": "@jupyter-widgets/controls",
            "_model_module_version": "1.5.0",
            "_model_name": "ProgressStyleModel",
            "_view_count": null,
            "_view_module": "@jupyter-widgets/base",
            "_view_module_version": "1.2.0",
            "_view_name": "StyleView",
            "bar_color": null,
            "description_width": ""
          }
        },
        "ff3e1649a5604dd38602d068f27a47a8": {
          "model_module": "@jupyter-widgets/base",
          "model_name": "LayoutModel",
          "model_module_version": "1.2.0",
          "state": {
            "_model_module": "@jupyter-widgets/base",
            "_model_module_version": "1.2.0",
            "_model_name": "LayoutModel",
            "_view_count": null,
            "_view_module": "@jupyter-widgets/base",
            "_view_module_version": "1.2.0",
            "_view_name": "LayoutView",
            "align_content": null,
            "align_items": null,
            "align_self": null,
            "border": null,
            "bottom": null,
            "display": null,
            "flex": null,
            "flex_flow": null,
            "grid_area": null,
            "grid_auto_columns": null,
            "grid_auto_flow": null,
            "grid_auto_rows": null,
            "grid_column": null,
            "grid_gap": null,
            "grid_row": null,
            "grid_template_areas": null,
            "grid_template_columns": null,
            "grid_template_rows": null,
            "height": null,
            "justify_content": null,
            "justify_items": null,
            "left": null,
            "margin": null,
            "max_height": null,
            "max_width": null,
            "min_height": null,
            "min_width": null,
            "object_fit": null,
            "object_position": null,
            "order": null,
            "overflow": null,
            "overflow_x": null,
            "overflow_y": null,
            "padding": null,
            "right": null,
            "top": null,
            "visibility": null,
            "width": null
          }
        },
        "8eb87bcda96a4a17a3c068401486a970": {
          "model_module": "@jupyter-widgets/controls",
          "model_name": "DescriptionStyleModel",
          "model_module_version": "1.5.0",
          "state": {
            "_model_module": "@jupyter-widgets/controls",
            "_model_module_version": "1.5.0",
            "_model_name": "DescriptionStyleModel",
            "_view_count": null,
            "_view_module": "@jupyter-widgets/base",
            "_view_module_version": "1.2.0",
            "_view_name": "StyleView",
            "description_width": ""
          }
        },
        "e744bbca3b3842d48c3cb6c26d204342": {
          "model_module": "@jupyter-widgets/controls",
          "model_name": "HBoxModel",
          "model_module_version": "1.5.0",
          "state": {
            "_dom_classes": [],
            "_model_module": "@jupyter-widgets/controls",
            "_model_module_version": "1.5.0",
            "_model_name": "HBoxModel",
            "_view_count": null,
            "_view_module": "@jupyter-widgets/controls",
            "_view_module_version": "1.5.0",
            "_view_name": "HBoxView",
            "box_style": "",
            "children": [
              "IPY_MODEL_964bede4285b4ee6949d2aac5f14e8e4",
              "IPY_MODEL_b0eb43c43e7c437aadf78ec9660d49f5",
              "IPY_MODEL_354e2d2623114538a3b788c23cf51264"
            ],
            "layout": "IPY_MODEL_69ab1fc55801444ca962d82ce5286b8a"
          }
        },
        "964bede4285b4ee6949d2aac5f14e8e4": {
          "model_module": "@jupyter-widgets/controls",
          "model_name": "HTMLModel",
          "model_module_version": "1.5.0",
          "state": {
            "_dom_classes": [],
            "_model_module": "@jupyter-widgets/controls",
            "_model_module_version": "1.5.0",
            "_model_name": "HTMLModel",
            "_view_count": null,
            "_view_module": "@jupyter-widgets/controls",
            "_view_module_version": "1.5.0",
            "_view_name": "HTMLView",
            "description": "",
            "description_tooltip": null,
            "layout": "IPY_MODEL_332bb7f36f374de8b9eb95d9c379a67c",
            "placeholder": "​",
            "style": "IPY_MODEL_3362b00475ec4eec966e2042c2d87e54",
            "value": "Downloading: 100%"
          }
        },
        "b0eb43c43e7c437aadf78ec9660d49f5": {
          "model_module": "@jupyter-widgets/controls",
          "model_name": "FloatProgressModel",
          "model_module_version": "1.5.0",
          "state": {
            "_dom_classes": [],
            "_model_module": "@jupyter-widgets/controls",
            "_model_module_version": "1.5.0",
            "_model_name": "FloatProgressModel",
            "_view_count": null,
            "_view_module": "@jupyter-widgets/controls",
            "_view_module_version": "1.5.0",
            "_view_name": "ProgressView",
            "bar_style": "success",
            "description": "",
            "description_tooltip": null,
            "layout": "IPY_MODEL_9b68fdcab2974f31b74bdbb439438312",
            "max": 1222317369,
            "min": 0,
            "orientation": "horizontal",
            "style": "IPY_MODEL_11d943c750334da782ef002cb5579a3c",
            "value": 1222317369
          }
        },
        "354e2d2623114538a3b788c23cf51264": {
          "model_module": "@jupyter-widgets/controls",
          "model_name": "HTMLModel",
          "model_module_version": "1.5.0",
          "state": {
            "_dom_classes": [],
            "_model_module": "@jupyter-widgets/controls",
            "_model_module_version": "1.5.0",
            "_model_name": "HTMLModel",
            "_view_count": null,
            "_view_module": "@jupyter-widgets/controls",
            "_view_module_version": "1.5.0",
            "_view_name": "HTMLView",
            "description": "",
            "description_tooltip": null,
            "layout": "IPY_MODEL_28be4ec291eb4a56970cc2b808402d90",
            "placeholder": "​",
            "style": "IPY_MODEL_4553e5c6c91a438eb3eaab76d7967d7d",
            "value": " 1.14G/1.14G [00:34&lt;00:00, 37.3MB/s]"
          }
        },
        "69ab1fc55801444ca962d82ce5286b8a": {
          "model_module": "@jupyter-widgets/base",
          "model_name": "LayoutModel",
          "model_module_version": "1.2.0",
          "state": {
            "_model_module": "@jupyter-widgets/base",
            "_model_module_version": "1.2.0",
            "_model_name": "LayoutModel",
            "_view_count": null,
            "_view_module": "@jupyter-widgets/base",
            "_view_module_version": "1.2.0",
            "_view_name": "LayoutView",
            "align_content": null,
            "align_items": null,
            "align_self": null,
            "border": null,
            "bottom": null,
            "display": null,
            "flex": null,
            "flex_flow": null,
            "grid_area": null,
            "grid_auto_columns": null,
            "grid_auto_flow": null,
            "grid_auto_rows": null,
            "grid_column": null,
            "grid_gap": null,
            "grid_row": null,
            "grid_template_areas": null,
            "grid_template_columns": null,
            "grid_template_rows": null,
            "height": null,
            "justify_content": null,
            "justify_items": null,
            "left": null,
            "margin": null,
            "max_height": null,
            "max_width": null,
            "min_height": null,
            "min_width": null,
            "object_fit": null,
            "object_position": null,
            "order": null,
            "overflow": null,
            "overflow_x": null,
            "overflow_y": null,
            "padding": null,
            "right": null,
            "top": null,
            "visibility": null,
            "width": null
          }
        },
        "332bb7f36f374de8b9eb95d9c379a67c": {
          "model_module": "@jupyter-widgets/base",
          "model_name": "LayoutModel",
          "model_module_version": "1.2.0",
          "state": {
            "_model_module": "@jupyter-widgets/base",
            "_model_module_version": "1.2.0",
            "_model_name": "LayoutModel",
            "_view_count": null,
            "_view_module": "@jupyter-widgets/base",
            "_view_module_version": "1.2.0",
            "_view_name": "LayoutView",
            "align_content": null,
            "align_items": null,
            "align_self": null,
            "border": null,
            "bottom": null,
            "display": null,
            "flex": null,
            "flex_flow": null,
            "grid_area": null,
            "grid_auto_columns": null,
            "grid_auto_flow": null,
            "grid_auto_rows": null,
            "grid_column": null,
            "grid_gap": null,
            "grid_row": null,
            "grid_template_areas": null,
            "grid_template_columns": null,
            "grid_template_rows": null,
            "height": null,
            "justify_content": null,
            "justify_items": null,
            "left": null,
            "margin": null,
            "max_height": null,
            "max_width": null,
            "min_height": null,
            "min_width": null,
            "object_fit": null,
            "object_position": null,
            "order": null,
            "overflow": null,
            "overflow_x": null,
            "overflow_y": null,
            "padding": null,
            "right": null,
            "top": null,
            "visibility": null,
            "width": null
          }
        },
        "3362b00475ec4eec966e2042c2d87e54": {
          "model_module": "@jupyter-widgets/controls",
          "model_name": "DescriptionStyleModel",
          "model_module_version": "1.5.0",
          "state": {
            "_model_module": "@jupyter-widgets/controls",
            "_model_module_version": "1.5.0",
            "_model_name": "DescriptionStyleModel",
            "_view_count": null,
            "_view_module": "@jupyter-widgets/base",
            "_view_module_version": "1.2.0",
            "_view_name": "StyleView",
            "description_width": ""
          }
        },
        "9b68fdcab2974f31b74bdbb439438312": {
          "model_module": "@jupyter-widgets/base",
          "model_name": "LayoutModel",
          "model_module_version": "1.2.0",
          "state": {
            "_model_module": "@jupyter-widgets/base",
            "_model_module_version": "1.2.0",
            "_model_name": "LayoutModel",
            "_view_count": null,
            "_view_module": "@jupyter-widgets/base",
            "_view_module_version": "1.2.0",
            "_view_name": "LayoutView",
            "align_content": null,
            "align_items": null,
            "align_self": null,
            "border": null,
            "bottom": null,
            "display": null,
            "flex": null,
            "flex_flow": null,
            "grid_area": null,
            "grid_auto_columns": null,
            "grid_auto_flow": null,
            "grid_auto_rows": null,
            "grid_column": null,
            "grid_gap": null,
            "grid_row": null,
            "grid_template_areas": null,
            "grid_template_columns": null,
            "grid_template_rows": null,
            "height": null,
            "justify_content": null,
            "justify_items": null,
            "left": null,
            "margin": null,
            "max_height": null,
            "max_width": null,
            "min_height": null,
            "min_width": null,
            "object_fit": null,
            "object_position": null,
            "order": null,
            "overflow": null,
            "overflow_x": null,
            "overflow_y": null,
            "padding": null,
            "right": null,
            "top": null,
            "visibility": null,
            "width": null
          }
        },
        "11d943c750334da782ef002cb5579a3c": {
          "model_module": "@jupyter-widgets/controls",
          "model_name": "ProgressStyleModel",
          "model_module_version": "1.5.0",
          "state": {
            "_model_module": "@jupyter-widgets/controls",
            "_model_module_version": "1.5.0",
            "_model_name": "ProgressStyleModel",
            "_view_count": null,
            "_view_module": "@jupyter-widgets/base",
            "_view_module_version": "1.2.0",
            "_view_name": "StyleView",
            "bar_color": null,
            "description_width": ""
          }
        },
        "28be4ec291eb4a56970cc2b808402d90": {
          "model_module": "@jupyter-widgets/base",
          "model_name": "LayoutModel",
          "model_module_version": "1.2.0",
          "state": {
            "_model_module": "@jupyter-widgets/base",
            "_model_module_version": "1.2.0",
            "_model_name": "LayoutModel",
            "_view_count": null,
            "_view_module": "@jupyter-widgets/base",
            "_view_module_version": "1.2.0",
            "_view_name": "LayoutView",
            "align_content": null,
            "align_items": null,
            "align_self": null,
            "border": null,
            "bottom": null,
            "display": null,
            "flex": null,
            "flex_flow": null,
            "grid_area": null,
            "grid_auto_columns": null,
            "grid_auto_flow": null,
            "grid_auto_rows": null,
            "grid_column": null,
            "grid_gap": null,
            "grid_row": null,
            "grid_template_areas": null,
            "grid_template_columns": null,
            "grid_template_rows": null,
            "height": null,
            "justify_content": null,
            "justify_items": null,
            "left": null,
            "margin": null,
            "max_height": null,
            "max_width": null,
            "min_height": null,
            "min_width": null,
            "object_fit": null,
            "object_position": null,
            "order": null,
            "overflow": null,
            "overflow_x": null,
            "overflow_y": null,
            "padding": null,
            "right": null,
            "top": null,
            "visibility": null,
            "width": null
          }
        },
        "4553e5c6c91a438eb3eaab76d7967d7d": {
          "model_module": "@jupyter-widgets/controls",
          "model_name": "DescriptionStyleModel",
          "model_module_version": "1.5.0",
          "state": {
            "_model_module": "@jupyter-widgets/controls",
            "_model_module_version": "1.5.0",
            "_model_name": "DescriptionStyleModel",
            "_view_count": null,
            "_view_module": "@jupyter-widgets/base",
            "_view_module_version": "1.2.0",
            "_view_name": "StyleView",
            "description_width": ""
          }
        },
        "5d9364ca5cbc436face45ae97821d308": {
          "model_module": "@jupyter-widgets/controls",
          "model_name": "HBoxModel",
          "model_module_version": "1.5.0",
          "state": {
            "_dom_classes": [],
            "_model_module": "@jupyter-widgets/controls",
            "_model_module_version": "1.5.0",
            "_model_name": "HBoxModel",
            "_view_count": null,
            "_view_module": "@jupyter-widgets/controls",
            "_view_module_version": "1.5.0",
            "_view_name": "HBoxView",
            "box_style": "",
            "children": [
              "IPY_MODEL_a390f08fe47242b293ef4a7714f9ae0f",
              "IPY_MODEL_90995d9eff5147f49702c1129cafd3b8",
              "IPY_MODEL_185f3affb98044fcb183ff713b8318ac"
            ],
            "layout": "IPY_MODEL_e1145994878a44058ea3a42418916825"
          }
        },
        "a390f08fe47242b293ef4a7714f9ae0f": {
          "model_module": "@jupyter-widgets/controls",
          "model_name": "HTMLModel",
          "model_module_version": "1.5.0",
          "state": {
            "_dom_classes": [],
            "_model_module": "@jupyter-widgets/controls",
            "_model_module_version": "1.5.0",
            "_model_name": "HTMLModel",
            "_view_count": null,
            "_view_module": "@jupyter-widgets/controls",
            "_view_module_version": "1.5.0",
            "_view_name": "HTMLView",
            "description": "",
            "description_tooltip": null,
            "layout": "IPY_MODEL_3bec1cd2925443de9cf4c62241d7c1cc",
            "placeholder": "​",
            "style": "IPY_MODEL_d00e9263c341460bb89c288a42e46476",
            "value": "Downloading: 100%"
          }
        },
        "90995d9eff5147f49702c1129cafd3b8": {
          "model_module": "@jupyter-widgets/controls",
          "model_name": "FloatProgressModel",
          "model_module_version": "1.5.0",
          "state": {
            "_dom_classes": [],
            "_model_module": "@jupyter-widgets/controls",
            "_model_module_version": "1.5.0",
            "_model_name": "FloatProgressModel",
            "_view_count": null,
            "_view_module": "@jupyter-widgets/controls",
            "_view_module_version": "1.5.0",
            "_view_name": "ProgressView",
            "bar_style": "success",
            "description": "",
            "description_tooltip": null,
            "layout": "IPY_MODEL_c6e09f153e234b1bb3b849e6090505cd",
            "max": 26,
            "min": 0,
            "orientation": "horizontal",
            "style": "IPY_MODEL_51ed2ba1b9dd48148d2edd031ae0daa7",
            "value": 26
          }
        },
        "185f3affb98044fcb183ff713b8318ac": {
          "model_module": "@jupyter-widgets/controls",
          "model_name": "HTMLModel",
          "model_module_version": "1.5.0",
          "state": {
            "_dom_classes": [],
            "_model_module": "@jupyter-widgets/controls",
            "_model_module_version": "1.5.0",
            "_model_name": "HTMLModel",
            "_view_count": null,
            "_view_module": "@jupyter-widgets/controls",
            "_view_module_version": "1.5.0",
            "_view_name": "HTMLView",
            "description": "",
            "description_tooltip": null,
            "layout": "IPY_MODEL_b03a30c8893847c8a96b13cf22381d1a",
            "placeholder": "​",
            "style": "IPY_MODEL_009123ddbdd64061ad9850ef2e936c4c",
            "value": " 26.0/26.0 [00:00&lt;00:00, 581B/s]"
          }
        },
        "e1145994878a44058ea3a42418916825": {
          "model_module": "@jupyter-widgets/base",
          "model_name": "LayoutModel",
          "model_module_version": "1.2.0",
          "state": {
            "_model_module": "@jupyter-widgets/base",
            "_model_module_version": "1.2.0",
            "_model_name": "LayoutModel",
            "_view_count": null,
            "_view_module": "@jupyter-widgets/base",
            "_view_module_version": "1.2.0",
            "_view_name": "LayoutView",
            "align_content": null,
            "align_items": null,
            "align_self": null,
            "border": null,
            "bottom": null,
            "display": null,
            "flex": null,
            "flex_flow": null,
            "grid_area": null,
            "grid_auto_columns": null,
            "grid_auto_flow": null,
            "grid_auto_rows": null,
            "grid_column": null,
            "grid_gap": null,
            "grid_row": null,
            "grid_template_areas": null,
            "grid_template_columns": null,
            "grid_template_rows": null,
            "height": null,
            "justify_content": null,
            "justify_items": null,
            "left": null,
            "margin": null,
            "max_height": null,
            "max_width": null,
            "min_height": null,
            "min_width": null,
            "object_fit": null,
            "object_position": null,
            "order": null,
            "overflow": null,
            "overflow_x": null,
            "overflow_y": null,
            "padding": null,
            "right": null,
            "top": null,
            "visibility": null,
            "width": null
          }
        },
        "3bec1cd2925443de9cf4c62241d7c1cc": {
          "model_module": "@jupyter-widgets/base",
          "model_name": "LayoutModel",
          "model_module_version": "1.2.0",
          "state": {
            "_model_module": "@jupyter-widgets/base",
            "_model_module_version": "1.2.0",
            "_model_name": "LayoutModel",
            "_view_count": null,
            "_view_module": "@jupyter-widgets/base",
            "_view_module_version": "1.2.0",
            "_view_name": "LayoutView",
            "align_content": null,
            "align_items": null,
            "align_self": null,
            "border": null,
            "bottom": null,
            "display": null,
            "flex": null,
            "flex_flow": null,
            "grid_area": null,
            "grid_auto_columns": null,
            "grid_auto_flow": null,
            "grid_auto_rows": null,
            "grid_column": null,
            "grid_gap": null,
            "grid_row": null,
            "grid_template_areas": null,
            "grid_template_columns": null,
            "grid_template_rows": null,
            "height": null,
            "justify_content": null,
            "justify_items": null,
            "left": null,
            "margin": null,
            "max_height": null,
            "max_width": null,
            "min_height": null,
            "min_width": null,
            "object_fit": null,
            "object_position": null,
            "order": null,
            "overflow": null,
            "overflow_x": null,
            "overflow_y": null,
            "padding": null,
            "right": null,
            "top": null,
            "visibility": null,
            "width": null
          }
        },
        "d00e9263c341460bb89c288a42e46476": {
          "model_module": "@jupyter-widgets/controls",
          "model_name": "DescriptionStyleModel",
          "model_module_version": "1.5.0",
          "state": {
            "_model_module": "@jupyter-widgets/controls",
            "_model_module_version": "1.5.0",
            "_model_name": "DescriptionStyleModel",
            "_view_count": null,
            "_view_module": "@jupyter-widgets/base",
            "_view_module_version": "1.2.0",
            "_view_name": "StyleView",
            "description_width": ""
          }
        },
        "c6e09f153e234b1bb3b849e6090505cd": {
          "model_module": "@jupyter-widgets/base",
          "model_name": "LayoutModel",
          "model_module_version": "1.2.0",
          "state": {
            "_model_module": "@jupyter-widgets/base",
            "_model_module_version": "1.2.0",
            "_model_name": "LayoutModel",
            "_view_count": null,
            "_view_module": "@jupyter-widgets/base",
            "_view_module_version": "1.2.0",
            "_view_name": "LayoutView",
            "align_content": null,
            "align_items": null,
            "align_self": null,
            "border": null,
            "bottom": null,
            "display": null,
            "flex": null,
            "flex_flow": null,
            "grid_area": null,
            "grid_auto_columns": null,
            "grid_auto_flow": null,
            "grid_auto_rows": null,
            "grid_column": null,
            "grid_gap": null,
            "grid_row": null,
            "grid_template_areas": null,
            "grid_template_columns": null,
            "grid_template_rows": null,
            "height": null,
            "justify_content": null,
            "justify_items": null,
            "left": null,
            "margin": null,
            "max_height": null,
            "max_width": null,
            "min_height": null,
            "min_width": null,
            "object_fit": null,
            "object_position": null,
            "order": null,
            "overflow": null,
            "overflow_x": null,
            "overflow_y": null,
            "padding": null,
            "right": null,
            "top": null,
            "visibility": null,
            "width": null
          }
        },
        "51ed2ba1b9dd48148d2edd031ae0daa7": {
          "model_module": "@jupyter-widgets/controls",
          "model_name": "ProgressStyleModel",
          "model_module_version": "1.5.0",
          "state": {
            "_model_module": "@jupyter-widgets/controls",
            "_model_module_version": "1.5.0",
            "_model_name": "ProgressStyleModel",
            "_view_count": null,
            "_view_module": "@jupyter-widgets/base",
            "_view_module_version": "1.2.0",
            "_view_name": "StyleView",
            "bar_color": null,
            "description_width": ""
          }
        },
        "b03a30c8893847c8a96b13cf22381d1a": {
          "model_module": "@jupyter-widgets/base",
          "model_name": "LayoutModel",
          "model_module_version": "1.2.0",
          "state": {
            "_model_module": "@jupyter-widgets/base",
            "_model_module_version": "1.2.0",
            "_model_name": "LayoutModel",
            "_view_count": null,
            "_view_module": "@jupyter-widgets/base",
            "_view_module_version": "1.2.0",
            "_view_name": "LayoutView",
            "align_content": null,
            "align_items": null,
            "align_self": null,
            "border": null,
            "bottom": null,
            "display": null,
            "flex": null,
            "flex_flow": null,
            "grid_area": null,
            "grid_auto_columns": null,
            "grid_auto_flow": null,
            "grid_auto_rows": null,
            "grid_column": null,
            "grid_gap": null,
            "grid_row": null,
            "grid_template_areas": null,
            "grid_template_columns": null,
            "grid_template_rows": null,
            "height": null,
            "justify_content": null,
            "justify_items": null,
            "left": null,
            "margin": null,
            "max_height": null,
            "max_width": null,
            "min_height": null,
            "min_width": null,
            "object_fit": null,
            "object_position": null,
            "order": null,
            "overflow": null,
            "overflow_x": null,
            "overflow_y": null,
            "padding": null,
            "right": null,
            "top": null,
            "visibility": null,
            "width": null
          }
        },
        "009123ddbdd64061ad9850ef2e936c4c": {
          "model_module": "@jupyter-widgets/controls",
          "model_name": "DescriptionStyleModel",
          "model_module_version": "1.5.0",
          "state": {
            "_model_module": "@jupyter-widgets/controls",
            "_model_module_version": "1.5.0",
            "_model_name": "DescriptionStyleModel",
            "_view_count": null,
            "_view_module": "@jupyter-widgets/base",
            "_view_module_version": "1.2.0",
            "_view_name": "StyleView",
            "description_width": ""
          }
        },
        "4c21f3c9032b42d7a86adcf147fa4f2a": {
          "model_module": "@jupyter-widgets/controls",
          "model_name": "HBoxModel",
          "model_module_version": "1.5.0",
          "state": {
            "_dom_classes": [],
            "_model_module": "@jupyter-widgets/controls",
            "_model_module_version": "1.5.0",
            "_model_name": "HBoxModel",
            "_view_count": null,
            "_view_module": "@jupyter-widgets/controls",
            "_view_module_version": "1.5.0",
            "_view_name": "HBoxView",
            "box_style": "",
            "children": [
              "IPY_MODEL_7111979f1bc04c44a951f543ab85f42d",
              "IPY_MODEL_b7131635a96b4e51ba5399fb544442de",
              "IPY_MODEL_66fd3b592e684008b432d89d13737bf8"
            ],
            "layout": "IPY_MODEL_9dbb446c87614b59ab7eb0519cbee65d"
          }
        },
        "7111979f1bc04c44a951f543ab85f42d": {
          "model_module": "@jupyter-widgets/controls",
          "model_name": "HTMLModel",
          "model_module_version": "1.5.0",
          "state": {
            "_dom_classes": [],
            "_model_module": "@jupyter-widgets/controls",
            "_model_module_version": "1.5.0",
            "_model_name": "HTMLModel",
            "_view_count": null,
            "_view_module": "@jupyter-widgets/controls",
            "_view_module_version": "1.5.0",
            "_view_name": "HTMLView",
            "description": "",
            "description_tooltip": null,
            "layout": "IPY_MODEL_b4992c4e91604cddaf53787995d12c5a",
            "placeholder": "​",
            "style": "IPY_MODEL_42574875ef5f4ea281c03c9ed35fa698",
            "value": "Downloading: 100%"
          }
        },
        "b7131635a96b4e51ba5399fb544442de": {
          "model_module": "@jupyter-widgets/controls",
          "model_name": "FloatProgressModel",
          "model_module_version": "1.5.0",
          "state": {
            "_dom_classes": [],
            "_model_module": "@jupyter-widgets/controls",
            "_model_module_version": "1.5.0",
            "_model_name": "FloatProgressModel",
            "_view_count": null,
            "_view_module": "@jupyter-widgets/controls",
            "_view_module_version": "1.5.0",
            "_view_name": "ProgressView",
            "bar_style": "success",
            "description": "",
            "description_tooltip": null,
            "layout": "IPY_MODEL_e849bafb6a7148aa8b47dae33f4ec018",
            "max": 898822,
            "min": 0,
            "orientation": "horizontal",
            "style": "IPY_MODEL_9f82be02287142ca9e0d952d2cfe0f36",
            "value": 898822
          }
        },
        "66fd3b592e684008b432d89d13737bf8": {
          "model_module": "@jupyter-widgets/controls",
          "model_name": "HTMLModel",
          "model_module_version": "1.5.0",
          "state": {
            "_dom_classes": [],
            "_model_module": "@jupyter-widgets/controls",
            "_model_module_version": "1.5.0",
            "_model_name": "HTMLModel",
            "_view_count": null,
            "_view_module": "@jupyter-widgets/controls",
            "_view_module_version": "1.5.0",
            "_view_name": "HTMLView",
            "description": "",
            "description_tooltip": null,
            "layout": "IPY_MODEL_9bb90f453b134032bd8d146550f3df82",
            "placeholder": "​",
            "style": "IPY_MODEL_851ef59209aa4f5db09ca5a44f3d8831",
            "value": " 878k/878k [00:00&lt;00:00, 1.58MB/s]"
          }
        },
        "9dbb446c87614b59ab7eb0519cbee65d": {
          "model_module": "@jupyter-widgets/base",
          "model_name": "LayoutModel",
          "model_module_version": "1.2.0",
          "state": {
            "_model_module": "@jupyter-widgets/base",
            "_model_module_version": "1.2.0",
            "_model_name": "LayoutModel",
            "_view_count": null,
            "_view_module": "@jupyter-widgets/base",
            "_view_module_version": "1.2.0",
            "_view_name": "LayoutView",
            "align_content": null,
            "align_items": null,
            "align_self": null,
            "border": null,
            "bottom": null,
            "display": null,
            "flex": null,
            "flex_flow": null,
            "grid_area": null,
            "grid_auto_columns": null,
            "grid_auto_flow": null,
            "grid_auto_rows": null,
            "grid_column": null,
            "grid_gap": null,
            "grid_row": null,
            "grid_template_areas": null,
            "grid_template_columns": null,
            "grid_template_rows": null,
            "height": null,
            "justify_content": null,
            "justify_items": null,
            "left": null,
            "margin": null,
            "max_height": null,
            "max_width": null,
            "min_height": null,
            "min_width": null,
            "object_fit": null,
            "object_position": null,
            "order": null,
            "overflow": null,
            "overflow_x": null,
            "overflow_y": null,
            "padding": null,
            "right": null,
            "top": null,
            "visibility": null,
            "width": null
          }
        },
        "b4992c4e91604cddaf53787995d12c5a": {
          "model_module": "@jupyter-widgets/base",
          "model_name": "LayoutModel",
          "model_module_version": "1.2.0",
          "state": {
            "_model_module": "@jupyter-widgets/base",
            "_model_module_version": "1.2.0",
            "_model_name": "LayoutModel",
            "_view_count": null,
            "_view_module": "@jupyter-widgets/base",
            "_view_module_version": "1.2.0",
            "_view_name": "LayoutView",
            "align_content": null,
            "align_items": null,
            "align_self": null,
            "border": null,
            "bottom": null,
            "display": null,
            "flex": null,
            "flex_flow": null,
            "grid_area": null,
            "grid_auto_columns": null,
            "grid_auto_flow": null,
            "grid_auto_rows": null,
            "grid_column": null,
            "grid_gap": null,
            "grid_row": null,
            "grid_template_areas": null,
            "grid_template_columns": null,
            "grid_template_rows": null,
            "height": null,
            "justify_content": null,
            "justify_items": null,
            "left": null,
            "margin": null,
            "max_height": null,
            "max_width": null,
            "min_height": null,
            "min_width": null,
            "object_fit": null,
            "object_position": null,
            "order": null,
            "overflow": null,
            "overflow_x": null,
            "overflow_y": null,
            "padding": null,
            "right": null,
            "top": null,
            "visibility": null,
            "width": null
          }
        },
        "42574875ef5f4ea281c03c9ed35fa698": {
          "model_module": "@jupyter-widgets/controls",
          "model_name": "DescriptionStyleModel",
          "model_module_version": "1.5.0",
          "state": {
            "_model_module": "@jupyter-widgets/controls",
            "_model_module_version": "1.5.0",
            "_model_name": "DescriptionStyleModel",
            "_view_count": null,
            "_view_module": "@jupyter-widgets/base",
            "_view_module_version": "1.2.0",
            "_view_name": "StyleView",
            "description_width": ""
          }
        },
        "e849bafb6a7148aa8b47dae33f4ec018": {
          "model_module": "@jupyter-widgets/base",
          "model_name": "LayoutModel",
          "model_module_version": "1.2.0",
          "state": {
            "_model_module": "@jupyter-widgets/base",
            "_model_module_version": "1.2.0",
            "_model_name": "LayoutModel",
            "_view_count": null,
            "_view_module": "@jupyter-widgets/base",
            "_view_module_version": "1.2.0",
            "_view_name": "LayoutView",
            "align_content": null,
            "align_items": null,
            "align_self": null,
            "border": null,
            "bottom": null,
            "display": null,
            "flex": null,
            "flex_flow": null,
            "grid_area": null,
            "grid_auto_columns": null,
            "grid_auto_flow": null,
            "grid_auto_rows": null,
            "grid_column": null,
            "grid_gap": null,
            "grid_row": null,
            "grid_template_areas": null,
            "grid_template_columns": null,
            "grid_template_rows": null,
            "height": null,
            "justify_content": null,
            "justify_items": null,
            "left": null,
            "margin": null,
            "max_height": null,
            "max_width": null,
            "min_height": null,
            "min_width": null,
            "object_fit": null,
            "object_position": null,
            "order": null,
            "overflow": null,
            "overflow_x": null,
            "overflow_y": null,
            "padding": null,
            "right": null,
            "top": null,
            "visibility": null,
            "width": null
          }
        },
        "9f82be02287142ca9e0d952d2cfe0f36": {
          "model_module": "@jupyter-widgets/controls",
          "model_name": "ProgressStyleModel",
          "model_module_version": "1.5.0",
          "state": {
            "_model_module": "@jupyter-widgets/controls",
            "_model_module_version": "1.5.0",
            "_model_name": "ProgressStyleModel",
            "_view_count": null,
            "_view_module": "@jupyter-widgets/base",
            "_view_module_version": "1.2.0",
            "_view_name": "StyleView",
            "bar_color": null,
            "description_width": ""
          }
        },
        "9bb90f453b134032bd8d146550f3df82": {
          "model_module": "@jupyter-widgets/base",
          "model_name": "LayoutModel",
          "model_module_version": "1.2.0",
          "state": {
            "_model_module": "@jupyter-widgets/base",
            "_model_module_version": "1.2.0",
            "_model_name": "LayoutModel",
            "_view_count": null,
            "_view_module": "@jupyter-widgets/base",
            "_view_module_version": "1.2.0",
            "_view_name": "LayoutView",
            "align_content": null,
            "align_items": null,
            "align_self": null,
            "border": null,
            "bottom": null,
            "display": null,
            "flex": null,
            "flex_flow": null,
            "grid_area": null,
            "grid_auto_columns": null,
            "grid_auto_flow": null,
            "grid_auto_rows": null,
            "grid_column": null,
            "grid_gap": null,
            "grid_row": null,
            "grid_template_areas": null,
            "grid_template_columns": null,
            "grid_template_rows": null,
            "height": null,
            "justify_content": null,
            "justify_items": null,
            "left": null,
            "margin": null,
            "max_height": null,
            "max_width": null,
            "min_height": null,
            "min_width": null,
            "object_fit": null,
            "object_position": null,
            "order": null,
            "overflow": null,
            "overflow_x": null,
            "overflow_y": null,
            "padding": null,
            "right": null,
            "top": null,
            "visibility": null,
            "width": null
          }
        },
        "851ef59209aa4f5db09ca5a44f3d8831": {
          "model_module": "@jupyter-widgets/controls",
          "model_name": "DescriptionStyleModel",
          "model_module_version": "1.5.0",
          "state": {
            "_model_module": "@jupyter-widgets/controls",
            "_model_module_version": "1.5.0",
            "_model_name": "DescriptionStyleModel",
            "_view_count": null,
            "_view_module": "@jupyter-widgets/base",
            "_view_module_version": "1.2.0",
            "_view_name": "StyleView",
            "description_width": ""
          }
        },
        "c39d6b5b16594674a78541faf839b69a": {
          "model_module": "@jupyter-widgets/controls",
          "model_name": "HBoxModel",
          "model_module_version": "1.5.0",
          "state": {
            "_dom_classes": [],
            "_model_module": "@jupyter-widgets/controls",
            "_model_module_version": "1.5.0",
            "_model_name": "HBoxModel",
            "_view_count": null,
            "_view_module": "@jupyter-widgets/controls",
            "_view_module_version": "1.5.0",
            "_view_name": "HBoxView",
            "box_style": "",
            "children": [
              "IPY_MODEL_09f5470961c64362b3d46f6a46f11da6",
              "IPY_MODEL_b8b1a1ccfcd34a479d2c05bff0072802",
              "IPY_MODEL_542d85c529be4448a870667e6a1d2465"
            ],
            "layout": "IPY_MODEL_6286836c1d2a43e8928cc6bbf59efe95"
          }
        },
        "09f5470961c64362b3d46f6a46f11da6": {
          "model_module": "@jupyter-widgets/controls",
          "model_name": "HTMLModel",
          "model_module_version": "1.5.0",
          "state": {
            "_dom_classes": [],
            "_model_module": "@jupyter-widgets/controls",
            "_model_module_version": "1.5.0",
            "_model_name": "HTMLModel",
            "_view_count": null,
            "_view_module": "@jupyter-widgets/controls",
            "_view_module_version": "1.5.0",
            "_view_name": "HTMLView",
            "description": "",
            "description_tooltip": null,
            "layout": "IPY_MODEL_cc9b138016eb415e84d19f5bd776710a",
            "placeholder": "​",
            "style": "IPY_MODEL_37fee7c177ec4957b50afa5702dc108f",
            "value": "Downloading: 100%"
          }
        },
        "b8b1a1ccfcd34a479d2c05bff0072802": {
          "model_module": "@jupyter-widgets/controls",
          "model_name": "FloatProgressModel",
          "model_module_version": "1.5.0",
          "state": {
            "_dom_classes": [],
            "_model_module": "@jupyter-widgets/controls",
            "_model_module_version": "1.5.0",
            "_model_name": "FloatProgressModel",
            "_view_count": null,
            "_view_module": "@jupyter-widgets/controls",
            "_view_module_version": "1.5.0",
            "_view_name": "ProgressView",
            "bar_style": "success",
            "description": "",
            "description_tooltip": null,
            "layout": "IPY_MODEL_5d41360e7b87477c9da3ca8d3d32f95c",
            "max": 456318,
            "min": 0,
            "orientation": "horizontal",
            "style": "IPY_MODEL_6e64c4b3149143d7ba87fef84f608d3e",
            "value": 456318
          }
        },
        "542d85c529be4448a870667e6a1d2465": {
          "model_module": "@jupyter-widgets/controls",
          "model_name": "HTMLModel",
          "model_module_version": "1.5.0",
          "state": {
            "_dom_classes": [],
            "_model_module": "@jupyter-widgets/controls",
            "_model_module_version": "1.5.0",
            "_model_name": "HTMLModel",
            "_view_count": null,
            "_view_module": "@jupyter-widgets/controls",
            "_view_module_version": "1.5.0",
            "_view_name": "HTMLView",
            "description": "",
            "description_tooltip": null,
            "layout": "IPY_MODEL_a0038e7f90104ff98722aea6018b973b",
            "placeholder": "​",
            "style": "IPY_MODEL_02725dbe7529432fa864a72af6a92a6c",
            "value": " 446k/446k [00:00&lt;00:00, 1.45MB/s]"
          }
        },
        "6286836c1d2a43e8928cc6bbf59efe95": {
          "model_module": "@jupyter-widgets/base",
          "model_name": "LayoutModel",
          "model_module_version": "1.2.0",
          "state": {
            "_model_module": "@jupyter-widgets/base",
            "_model_module_version": "1.2.0",
            "_model_name": "LayoutModel",
            "_view_count": null,
            "_view_module": "@jupyter-widgets/base",
            "_view_module_version": "1.2.0",
            "_view_name": "LayoutView",
            "align_content": null,
            "align_items": null,
            "align_self": null,
            "border": null,
            "bottom": null,
            "display": null,
            "flex": null,
            "flex_flow": null,
            "grid_area": null,
            "grid_auto_columns": null,
            "grid_auto_flow": null,
            "grid_auto_rows": null,
            "grid_column": null,
            "grid_gap": null,
            "grid_row": null,
            "grid_template_areas": null,
            "grid_template_columns": null,
            "grid_template_rows": null,
            "height": null,
            "justify_content": null,
            "justify_items": null,
            "left": null,
            "margin": null,
            "max_height": null,
            "max_width": null,
            "min_height": null,
            "min_width": null,
            "object_fit": null,
            "object_position": null,
            "order": null,
            "overflow": null,
            "overflow_x": null,
            "overflow_y": null,
            "padding": null,
            "right": null,
            "top": null,
            "visibility": null,
            "width": null
          }
        },
        "cc9b138016eb415e84d19f5bd776710a": {
          "model_module": "@jupyter-widgets/base",
          "model_name": "LayoutModel",
          "model_module_version": "1.2.0",
          "state": {
            "_model_module": "@jupyter-widgets/base",
            "_model_module_version": "1.2.0",
            "_model_name": "LayoutModel",
            "_view_count": null,
            "_view_module": "@jupyter-widgets/base",
            "_view_module_version": "1.2.0",
            "_view_name": "LayoutView",
            "align_content": null,
            "align_items": null,
            "align_self": null,
            "border": null,
            "bottom": null,
            "display": null,
            "flex": null,
            "flex_flow": null,
            "grid_area": null,
            "grid_auto_columns": null,
            "grid_auto_flow": null,
            "grid_auto_rows": null,
            "grid_column": null,
            "grid_gap": null,
            "grid_row": null,
            "grid_template_areas": null,
            "grid_template_columns": null,
            "grid_template_rows": null,
            "height": null,
            "justify_content": null,
            "justify_items": null,
            "left": null,
            "margin": null,
            "max_height": null,
            "max_width": null,
            "min_height": null,
            "min_width": null,
            "object_fit": null,
            "object_position": null,
            "order": null,
            "overflow": null,
            "overflow_x": null,
            "overflow_y": null,
            "padding": null,
            "right": null,
            "top": null,
            "visibility": null,
            "width": null
          }
        },
        "37fee7c177ec4957b50afa5702dc108f": {
          "model_module": "@jupyter-widgets/controls",
          "model_name": "DescriptionStyleModel",
          "model_module_version": "1.5.0",
          "state": {
            "_model_module": "@jupyter-widgets/controls",
            "_model_module_version": "1.5.0",
            "_model_name": "DescriptionStyleModel",
            "_view_count": null,
            "_view_module": "@jupyter-widgets/base",
            "_view_module_version": "1.2.0",
            "_view_name": "StyleView",
            "description_width": ""
          }
        },
        "5d41360e7b87477c9da3ca8d3d32f95c": {
          "model_module": "@jupyter-widgets/base",
          "model_name": "LayoutModel",
          "model_module_version": "1.2.0",
          "state": {
            "_model_module": "@jupyter-widgets/base",
            "_model_module_version": "1.2.0",
            "_model_name": "LayoutModel",
            "_view_count": null,
            "_view_module": "@jupyter-widgets/base",
            "_view_module_version": "1.2.0",
            "_view_name": "LayoutView",
            "align_content": null,
            "align_items": null,
            "align_self": null,
            "border": null,
            "bottom": null,
            "display": null,
            "flex": null,
            "flex_flow": null,
            "grid_area": null,
            "grid_auto_columns": null,
            "grid_auto_flow": null,
            "grid_auto_rows": null,
            "grid_column": null,
            "grid_gap": null,
            "grid_row": null,
            "grid_template_areas": null,
            "grid_template_columns": null,
            "grid_template_rows": null,
            "height": null,
            "justify_content": null,
            "justify_items": null,
            "left": null,
            "margin": null,
            "max_height": null,
            "max_width": null,
            "min_height": null,
            "min_width": null,
            "object_fit": null,
            "object_position": null,
            "order": null,
            "overflow": null,
            "overflow_x": null,
            "overflow_y": null,
            "padding": null,
            "right": null,
            "top": null,
            "visibility": null,
            "width": null
          }
        },
        "6e64c4b3149143d7ba87fef84f608d3e": {
          "model_module": "@jupyter-widgets/controls",
          "model_name": "ProgressStyleModel",
          "model_module_version": "1.5.0",
          "state": {
            "_model_module": "@jupyter-widgets/controls",
            "_model_module_version": "1.5.0",
            "_model_name": "ProgressStyleModel",
            "_view_count": null,
            "_view_module": "@jupyter-widgets/base",
            "_view_module_version": "1.2.0",
            "_view_name": "StyleView",
            "bar_color": null,
            "description_width": ""
          }
        },
        "a0038e7f90104ff98722aea6018b973b": {
          "model_module": "@jupyter-widgets/base",
          "model_name": "LayoutModel",
          "model_module_version": "1.2.0",
          "state": {
            "_model_module": "@jupyter-widgets/base",
            "_model_module_version": "1.2.0",
            "_model_name": "LayoutModel",
            "_view_count": null,
            "_view_module": "@jupyter-widgets/base",
            "_view_module_version": "1.2.0",
            "_view_name": "LayoutView",
            "align_content": null,
            "align_items": null,
            "align_self": null,
            "border": null,
            "bottom": null,
            "display": null,
            "flex": null,
            "flex_flow": null,
            "grid_area": null,
            "grid_auto_columns": null,
            "grid_auto_flow": null,
            "grid_auto_rows": null,
            "grid_column": null,
            "grid_gap": null,
            "grid_row": null,
            "grid_template_areas": null,
            "grid_template_columns": null,
            "grid_template_rows": null,
            "height": null,
            "justify_content": null,
            "justify_items": null,
            "left": null,
            "margin": null,
            "max_height": null,
            "max_width": null,
            "min_height": null,
            "min_width": null,
            "object_fit": null,
            "object_position": null,
            "order": null,
            "overflow": null,
            "overflow_x": null,
            "overflow_y": null,
            "padding": null,
            "right": null,
            "top": null,
            "visibility": null,
            "width": null
          }
        },
        "02725dbe7529432fa864a72af6a92a6c": {
          "model_module": "@jupyter-widgets/controls",
          "model_name": "DescriptionStyleModel",
          "model_module_version": "1.5.0",
          "state": {
            "_model_module": "@jupyter-widgets/controls",
            "_model_module_version": "1.5.0",
            "_model_name": "DescriptionStyleModel",
            "_view_count": null,
            "_view_module": "@jupyter-widgets/base",
            "_view_module_version": "1.2.0",
            "_view_name": "StyleView",
            "description_width": ""
          }
        }
      }
    }
  },
  "nbformat": 4,
  "nbformat_minor": 5
}